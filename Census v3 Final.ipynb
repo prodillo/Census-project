{
 "cells": [
  {
   "cell_type": "markdown",
   "metadata": {
    "deletable": true,
    "editable": true
   },
   "source": [
    "# Census project"
   ]
  },
  {
   "cell_type": "markdown",
   "metadata": {
    "deletable": true,
    "editable": true
   },
   "source": [
    "The aim of this project is to work with messy and unbalanced data. We will use the \"Census Income\" dataset available from UCI Machine Learning Repository, which contains the income level of a group of people and a set of variables to describe each person. The objective is to try to predict if people will earn more or less than $50K.  "
   ]
  },
  {
   "cell_type": "code",
   "execution_count": 1,
   "metadata": {
    "collapsed": false,
    "deletable": true,
    "editable": true
   },
   "outputs": [
    {
     "name": "stdout",
     "output_type": "stream",
     "text": [
      "Populating the interactive namespace from numpy and matplotlib\n"
     ]
    }
   ],
   "source": [
    "# print all the outputs in a cell\n",
    "from IPython.core.interactiveshell import InteractiveShell\n",
    "InteractiveShell.ast_node_interactivity = \"all\"\n",
    "\n",
    "import warnings\n",
    "warnings.filterwarnings(\"ignore\")\n",
    "\n",
    "import numpy as np\n",
    "import pandas as pd\n",
    "import seaborn as sns\n",
    "%pylab inline"
   ]
  },
  {
   "cell_type": "markdown",
   "metadata": {
    "deletable": true,
    "editable": true
   },
   "source": [
    "# 1. Exploratory Data Analysis"
   ]
  },
  {
   "cell_type": "code",
   "execution_count": 2,
   "metadata": {
    "collapsed": true,
    "deletable": true,
    "editable": true
   },
   "outputs": [],
   "source": [
    "df_train = pd.read_csv(\"train.csv\")\n",
    "df_test = pd.read_csv(\"test.csv\")"
   ]
  },
  {
   "cell_type": "code",
   "execution_count": 3,
   "metadata": {
    "collapsed": false,
    "deletable": true,
    "editable": true
   },
   "outputs": [
    {
     "data": {
      "text/plain": [
       "199523"
      ]
     },
     "execution_count": 3,
     "metadata": {},
     "output_type": "execute_result"
    },
    {
     "data": {
      "text/plain": [
       "41"
      ]
     },
     "execution_count": 3,
     "metadata": {},
     "output_type": "execute_result"
    },
    {
     "data": {
      "text/plain": [
       "99762"
      ]
     },
     "execution_count": 3,
     "metadata": {},
     "output_type": "execute_result"
    }
   ],
   "source": [
    "len(df_train)\n",
    "len(df_train.columns)\n",
    "len(df_test)"
   ]
  },
  {
   "cell_type": "markdown",
   "metadata": {
    "deletable": true,
    "editable": true
   },
   "source": [
    "We can see that our train set has 199,523 rows and 41 columns, whereas our test set has 99,762 records. Now let's take a look at the columns:"
   ]
  },
  {
   "cell_type": "code",
   "execution_count": 4,
   "metadata": {
    "collapsed": false,
    "deletable": true,
    "editable": true
   },
   "outputs": [
    {
     "data": {
      "text/plain": [
       "['age',\n",
       " 'class_of_worker',\n",
       " 'industry_code',\n",
       " 'occupation_code',\n",
       " 'education',\n",
       " 'wage_per_hour',\n",
       " 'enrolled_in_edu_inst_lastwk',\n",
       " 'marital_status',\n",
       " 'major_industry_code',\n",
       " 'major_occupation_code',\n",
       " 'race',\n",
       " 'hispanic_origin',\n",
       " 'sex',\n",
       " 'member_of_labor_union',\n",
       " 'reason_for_unemployment',\n",
       " 'full_parttime_employment_stat',\n",
       " 'capital_gains',\n",
       " 'capital_losses',\n",
       " 'dividend_from_Stocks',\n",
       " 'tax_filer_status',\n",
       " 'region_of_previous_residence',\n",
       " 'state_of_previous_residence',\n",
       " 'd_household_family_stat',\n",
       " 'd_household_summary',\n",
       " 'migration_msa',\n",
       " 'migration_reg',\n",
       " 'migration_within_reg',\n",
       " 'live_1_year_ago',\n",
       " 'migration_sunbelt',\n",
       " 'num_person_Worked_employer',\n",
       " 'family_members_under_18',\n",
       " 'country_father',\n",
       " 'country_mother',\n",
       " 'country_self',\n",
       " 'citizenship',\n",
       " 'business_or_self_employed',\n",
       " 'fill_questionnaire_veteran_admin',\n",
       " 'veterans_benefits',\n",
       " 'weeks_worked_in_year',\n",
       " 'year',\n",
       " 'income_level']"
      ]
     },
     "execution_count": 4,
     "metadata": {},
     "output_type": "execute_result"
    }
   ],
   "source": [
    "df_train.columns.tolist()"
   ]
  },
  {
   "cell_type": "markdown",
   "metadata": {
    "deletable": true,
    "editable": true
   },
   "source": [
    "We will look at the 'income_level' variable, which is our target variable for this project:"
   ]
  },
  {
   "cell_type": "code",
   "execution_count": 5,
   "metadata": {
    "collapsed": false,
    "deletable": true,
    "editable": true
   },
   "outputs": [
    {
     "data": {
      "text/plain": [
       "income_level\n",
       "-50000    187141\n",
       " 50000     12382\n",
       "dtype: int64"
      ]
     },
     "execution_count": 5,
     "metadata": {},
     "output_type": "execute_result"
    },
    {
     "data": {
      "text/plain": [
       "6.205800834991455"
      ]
     },
     "execution_count": 5,
     "metadata": {},
     "output_type": "execute_result"
    },
    {
     "data": {
      "text/plain": [
       "income_level\n",
       " 50000+.     6186\n",
       "-50000      93576\n",
       "dtype: int64"
      ]
     },
     "execution_count": 5,
     "metadata": {},
     "output_type": "execute_result"
    },
    {
     "data": {
      "text/plain": [
       "93.7992421964275"
      ]
     },
     "execution_count": 5,
     "metadata": {},
     "output_type": "execute_result"
    }
   ],
   "source": [
    "df_train.groupby('income_level').size()\n",
    "\n",
    "(df_train.groupby('income_level').size().values[1]*1.0/len(df_train))*100\n",
    "\n",
    "\n",
    "df_test.groupby('income_level').size()\n",
    "\n",
    "(df_test.groupby('income_level').size().values[1]*1.0/len(df_test))*100"
   ]
  },
  {
   "cell_type": "code",
   "execution_count": 6,
   "metadata": {
    "collapsed": false,
    "deletable": true,
    "editable": true
   },
   "outputs": [
    {
     "data": {
      "text/plain": [
       "19      50000+.\n",
       "33      50000+.\n",
       "38      50000+.\n",
       "59      50000+.\n",
       "100     50000+.\n",
       "Name: income_level, dtype: object"
      ]
     },
     "execution_count": 6,
     "metadata": {},
     "output_type": "execute_result"
    }
   ],
   "source": [
    "df_test.income_level[df_test.income_level==' 50000+.'].head()"
   ]
  },
  {
   "cell_type": "markdown",
   "metadata": {
    "deletable": true,
    "editable": true
   },
   "source": [
    "It is possible to observe that the 'income_level' variable has two categories, -50000 for income level below 50k and 50000 for income level above 50k. Also, we can see that we are dealing with an imbalanced dataset, where just 6.2% corresponds to rows with an income above 50k. We also noticed that the denomination -50000 and 50000 does not help here, so we will change this variable to 0 and 1 respectively:"
   ]
  },
  {
   "cell_type": "code",
   "execution_count": 7,
   "metadata": {
    "collapsed": true,
    "deletable": true,
    "editable": true
   },
   "outputs": [],
   "source": [
    "df_train.income_level=(df_train.income_level==50000)*1.0\n",
    "df_test.income_level=(df_test.income_level==' 50000+.')*1.0"
   ]
  },
  {
   "cell_type": "code",
   "execution_count": 8,
   "metadata": {
    "collapsed": false,
    "deletable": true,
    "editable": true
   },
   "outputs": [
    {
     "data": {
      "text/plain": [
       "19     1.0\n",
       "33     1.0\n",
       "38     1.0\n",
       "59     1.0\n",
       "100    1.0\n",
       "Name: income_level, dtype: float64"
      ]
     },
     "execution_count": 8,
     "metadata": {},
     "output_type": "execute_result"
    }
   ],
   "source": [
    "df_test.income_level[df_test.income_level==1].head()"
   ]
  },
  {
   "cell_type": "markdown",
   "metadata": {
    "deletable": true,
    "editable": true
   },
   "source": [
    "Now we will take a look at the variables available for the prediction:"
   ]
  },
  {
   "cell_type": "code",
   "execution_count": 9,
   "metadata": {
    "collapsed": false,
    "deletable": true,
    "editable": true
   },
   "outputs": [
    {
     "data": {
      "text/html": [
       "<div>\n",
       "<style scoped>\n",
       "    .dataframe tbody tr th:only-of-type {\n",
       "        vertical-align: middle;\n",
       "    }\n",
       "\n",
       "    .dataframe tbody tr th {\n",
       "        vertical-align: top;\n",
       "    }\n",
       "\n",
       "    .dataframe thead th {\n",
       "        text-align: right;\n",
       "    }\n",
       "</style>\n",
       "<table border=\"1\" class=\"dataframe\">\n",
       "  <thead>\n",
       "    <tr style=\"text-align: right;\">\n",
       "      <th></th>\n",
       "      <th>age</th>\n",
       "      <th>class_of_worker</th>\n",
       "      <th>industry_code</th>\n",
       "      <th>occupation_code</th>\n",
       "      <th>education</th>\n",
       "      <th>wage_per_hour</th>\n",
       "      <th>enrolled_in_edu_inst_lastwk</th>\n",
       "      <th>marital_status</th>\n",
       "      <th>major_industry_code</th>\n",
       "      <th>major_occupation_code</th>\n",
       "      <th>...</th>\n",
       "      <th>country_father</th>\n",
       "      <th>country_mother</th>\n",
       "      <th>country_self</th>\n",
       "      <th>citizenship</th>\n",
       "      <th>business_or_self_employed</th>\n",
       "      <th>fill_questionnaire_veteran_admin</th>\n",
       "      <th>veterans_benefits</th>\n",
       "      <th>weeks_worked_in_year</th>\n",
       "      <th>year</th>\n",
       "      <th>income_level</th>\n",
       "    </tr>\n",
       "  </thead>\n",
       "  <tbody>\n",
       "    <tr>\n",
       "      <th>0</th>\n",
       "      <td>73</td>\n",
       "      <td>Not in universe</td>\n",
       "      <td>0</td>\n",
       "      <td>0</td>\n",
       "      <td>High school graduate</td>\n",
       "      <td>0</td>\n",
       "      <td>Not in universe</td>\n",
       "      <td>Widowed</td>\n",
       "      <td>Not in universe or children</td>\n",
       "      <td>Not in universe</td>\n",
       "      <td>...</td>\n",
       "      <td>United-States</td>\n",
       "      <td>United-States</td>\n",
       "      <td>United-States</td>\n",
       "      <td>Native- Born in the United States</td>\n",
       "      <td>0</td>\n",
       "      <td>Not in universe</td>\n",
       "      <td>2</td>\n",
       "      <td>0</td>\n",
       "      <td>95</td>\n",
       "      <td>0.0</td>\n",
       "    </tr>\n",
       "    <tr>\n",
       "      <th>1</th>\n",
       "      <td>58</td>\n",
       "      <td>Self-employed-not incorporated</td>\n",
       "      <td>4</td>\n",
       "      <td>34</td>\n",
       "      <td>Some college but no degree</td>\n",
       "      <td>0</td>\n",
       "      <td>Not in universe</td>\n",
       "      <td>Divorced</td>\n",
       "      <td>Construction</td>\n",
       "      <td>Precision production craft &amp; repair</td>\n",
       "      <td>...</td>\n",
       "      <td>United-States</td>\n",
       "      <td>United-States</td>\n",
       "      <td>United-States</td>\n",
       "      <td>Native- Born in the United States</td>\n",
       "      <td>0</td>\n",
       "      <td>Not in universe</td>\n",
       "      <td>2</td>\n",
       "      <td>52</td>\n",
       "      <td>94</td>\n",
       "      <td>0.0</td>\n",
       "    </tr>\n",
       "    <tr>\n",
       "      <th>2</th>\n",
       "      <td>18</td>\n",
       "      <td>Not in universe</td>\n",
       "      <td>0</td>\n",
       "      <td>0</td>\n",
       "      <td>10th grade</td>\n",
       "      <td>0</td>\n",
       "      <td>High school</td>\n",
       "      <td>Never married</td>\n",
       "      <td>Not in universe or children</td>\n",
       "      <td>Not in universe</td>\n",
       "      <td>...</td>\n",
       "      <td>Vietnam</td>\n",
       "      <td>Vietnam</td>\n",
       "      <td>Vietnam</td>\n",
       "      <td>Foreign born- Not a citizen of U S</td>\n",
       "      <td>0</td>\n",
       "      <td>Not in universe</td>\n",
       "      <td>2</td>\n",
       "      <td>0</td>\n",
       "      <td>95</td>\n",
       "      <td>0.0</td>\n",
       "    </tr>\n",
       "    <tr>\n",
       "      <th>3</th>\n",
       "      <td>9</td>\n",
       "      <td>Not in universe</td>\n",
       "      <td>0</td>\n",
       "      <td>0</td>\n",
       "      <td>Children</td>\n",
       "      <td>0</td>\n",
       "      <td>Not in universe</td>\n",
       "      <td>Never married</td>\n",
       "      <td>Not in universe or children</td>\n",
       "      <td>Not in universe</td>\n",
       "      <td>...</td>\n",
       "      <td>United-States</td>\n",
       "      <td>United-States</td>\n",
       "      <td>United-States</td>\n",
       "      <td>Native- Born in the United States</td>\n",
       "      <td>0</td>\n",
       "      <td>Not in universe</td>\n",
       "      <td>0</td>\n",
       "      <td>0</td>\n",
       "      <td>94</td>\n",
       "      <td>0.0</td>\n",
       "    </tr>\n",
       "    <tr>\n",
       "      <th>4</th>\n",
       "      <td>10</td>\n",
       "      <td>Not in universe</td>\n",
       "      <td>0</td>\n",
       "      <td>0</td>\n",
       "      <td>Children</td>\n",
       "      <td>0</td>\n",
       "      <td>Not in universe</td>\n",
       "      <td>Never married</td>\n",
       "      <td>Not in universe or children</td>\n",
       "      <td>Not in universe</td>\n",
       "      <td>...</td>\n",
       "      <td>United-States</td>\n",
       "      <td>United-States</td>\n",
       "      <td>United-States</td>\n",
       "      <td>Native- Born in the United States</td>\n",
       "      <td>0</td>\n",
       "      <td>Not in universe</td>\n",
       "      <td>0</td>\n",
       "      <td>0</td>\n",
       "      <td>94</td>\n",
       "      <td>0.0</td>\n",
       "    </tr>\n",
       "  </tbody>\n",
       "</table>\n",
       "<p>5 rows × 41 columns</p>\n",
       "</div>"
      ],
      "text/plain": [
       "   age                 class_of_worker  industry_code  occupation_code  \\\n",
       "0   73                 Not in universe              0                0   \n",
       "1   58  Self-employed-not incorporated              4               34   \n",
       "2   18                 Not in universe              0                0   \n",
       "3    9                 Not in universe              0                0   \n",
       "4   10                 Not in universe              0                0   \n",
       "\n",
       "                    education  wage_per_hour enrolled_in_edu_inst_lastwk  \\\n",
       "0        High school graduate              0             Not in universe   \n",
       "1  Some college but no degree              0             Not in universe   \n",
       "2                  10th grade              0                 High school   \n",
       "3                    Children              0             Not in universe   \n",
       "4                    Children              0             Not in universe   \n",
       "\n",
       "  marital_status          major_industry_code  \\\n",
       "0        Widowed  Not in universe or children   \n",
       "1       Divorced                 Construction   \n",
       "2  Never married  Not in universe or children   \n",
       "3  Never married  Not in universe or children   \n",
       "4  Never married  Not in universe or children   \n",
       "\n",
       "                 major_occupation_code     ...      country_father  \\\n",
       "0                      Not in universe     ...       United-States   \n",
       "1  Precision production craft & repair     ...       United-States   \n",
       "2                      Not in universe     ...             Vietnam   \n",
       "3                      Not in universe     ...       United-States   \n",
       "4                      Not in universe     ...       United-States   \n",
       "\n",
       "  country_mother   country_self                         citizenship  \\\n",
       "0  United-States  United-States   Native- Born in the United States   \n",
       "1  United-States  United-States   Native- Born in the United States   \n",
       "2        Vietnam        Vietnam  Foreign born- Not a citizen of U S   \n",
       "3  United-States  United-States   Native- Born in the United States   \n",
       "4  United-States  United-States   Native- Born in the United States   \n",
       "\n",
       "  business_or_self_employed fill_questionnaire_veteran_admin  \\\n",
       "0                         0                  Not in universe   \n",
       "1                         0                  Not in universe   \n",
       "2                         0                  Not in universe   \n",
       "3                         0                  Not in universe   \n",
       "4                         0                  Not in universe   \n",
       "\n",
       "   veterans_benefits  weeks_worked_in_year  year income_level  \n",
       "0                  2                     0    95          0.0  \n",
       "1                  2                    52    94          0.0  \n",
       "2                  2                     0    95          0.0  \n",
       "3                  0                     0    94          0.0  \n",
       "4                  0                     0    94          0.0  \n",
       "\n",
       "[5 rows x 41 columns]"
      ]
     },
     "execution_count": 9,
     "metadata": {},
     "output_type": "execute_result"
    },
    {
     "name": "stdout",
     "output_type": "stream",
     "text": [
      "<class 'pandas.core.frame.DataFrame'>\n",
      "RangeIndex: 199523 entries, 0 to 199522\n",
      "Data columns (total 41 columns):\n",
      "age                                 199523 non-null int64\n",
      "class_of_worker                     199523 non-null object\n",
      "industry_code                       199523 non-null int64\n",
      "occupation_code                     199523 non-null int64\n",
      "education                           199523 non-null object\n",
      "wage_per_hour                       199523 non-null int64\n",
      "enrolled_in_edu_inst_lastwk         199523 non-null object\n",
      "marital_status                      199523 non-null object\n",
      "major_industry_code                 199523 non-null object\n",
      "major_occupation_code               199523 non-null object\n",
      "race                                199523 non-null object\n",
      "hispanic_origin                     198649 non-null object\n",
      "sex                                 199523 non-null object\n",
      "member_of_labor_union               199523 non-null object\n",
      "reason_for_unemployment             199523 non-null object\n",
      "full_parttime_employment_stat       199523 non-null object\n",
      "capital_gains                       199523 non-null int64\n",
      "capital_losses                      199523 non-null int64\n",
      "dividend_from_Stocks                199523 non-null int64\n",
      "tax_filer_status                    199523 non-null object\n",
      "region_of_previous_residence        199523 non-null object\n",
      "state_of_previous_residence         198815 non-null object\n",
      "d_household_family_stat             199523 non-null object\n",
      "d_household_summary                 199523 non-null object\n",
      "migration_msa                       99827 non-null object\n",
      "migration_reg                       99827 non-null object\n",
      "migration_within_reg                99827 non-null object\n",
      "live_1_year_ago                     199523 non-null object\n",
      "migration_sunbelt                   99827 non-null object\n",
      "num_person_Worked_employer          199523 non-null int64\n",
      "family_members_under_18             199523 non-null object\n",
      "country_father                      192810 non-null object\n",
      "country_mother                      193404 non-null object\n",
      "country_self                        196130 non-null object\n",
      "citizenship                         199523 non-null object\n",
      "business_or_self_employed           199523 non-null int64\n",
      "fill_questionnaire_veteran_admin    199523 non-null object\n",
      "veterans_benefits                   199523 non-null int64\n",
      "weeks_worked_in_year                199523 non-null int64\n",
      "year                                199523 non-null int64\n",
      "income_level                        199523 non-null float64\n",
      "dtypes: float64(1), int64(12), object(28)\n",
      "memory usage: 62.4+ MB\n"
     ]
    }
   ],
   "source": [
    "df_train.head()\n",
    "df_train.info()"
   ]
  },
  {
   "cell_type": "markdown",
   "metadata": {
    "deletable": true,
    "editable": true
   },
   "source": [
    "We don't have null values in the numerical variables, although in the categorical variables we can see that there are some variables with an important amount of them.\n",
    "\n",
    "Now let's plot some variables:"
   ]
  },
  {
   "cell_type": "code",
   "execution_count": 10,
   "metadata": {
    "collapsed": false,
    "deletable": true,
    "editable": true
   },
   "outputs": [
    {
     "data": {
      "text/plain": [
       "<matplotlib.axes._subplots.AxesSubplot at 0x14da6940>"
      ]
     },
     "execution_count": 10,
     "metadata": {},
     "output_type": "execute_result"
    },
    {
     "data": {
      "image/png": "[encoded data removed]",
      "text/plain": [
       "<matplotlib.figure.Figure at 0x199da860>"
      ]
     },
     "metadata": {},
     "output_type": "display_data"
    }
   ],
   "source": [
    "sns.distplot(df_train.age)"
   ]
  },
  {
   "cell_type": "markdown",
   "metadata": {
    "deletable": true,
    "editable": true
   },
   "source": [
    "Age ranges from 0 to 90."
   ]
  },
  {
   "cell_type": "code",
   "execution_count": 11,
   "metadata": {
    "collapsed": false,
    "deletable": true,
    "editable": true
   },
   "outputs": [
    {
     "data": {
      "text/plain": [
       "<matplotlib.axes._subplots.AxesSubplot at 0x199daba8>"
      ]
     },
     "execution_count": 11,
     "metadata": {},
     "output_type": "execute_result"
    },
    {
     "data": {
      "image/png": "[encoded data removed]",
      "text/plain": [
       "<matplotlib.figure.Figure at 0x13fc7550>"
      ]
     },
     "metadata": {},
     "output_type": "display_data"
    }
   ],
   "source": [
    "sns.regplot(x='age',y='income_level',data=df_train,fit_reg=False)"
   ]
  },
  {
   "cell_type": "markdown",
   "metadata": {
    "deletable": true,
    "editable": true
   },
   "source": [
    "We can see that most of people under 20 belong to income_level 0, this means that we could bin this variable."
   ]
  },
  {
   "cell_type": "code",
   "execution_count": 12,
   "metadata": {
    "collapsed": false,
    "deletable": true,
    "editable": true
   },
   "outputs": [
    {
     "data": {
      "text/plain": [
       "<matplotlib.axes._subplots.AxesSubplot at 0x1b04d630>"
      ]
     },
     "execution_count": 12,
     "metadata": {},
     "output_type": "execute_result"
    },
    {
     "data": {
      "image/png": "[encoded data removed]",
      "text/plain": [
       "<matplotlib.figure.Figure at 0x1b065518>"
      ]
     },
     "metadata": {},
     "output_type": "display_data"
    }
   ],
   "source": [
    "sns.distplot(df_train.capital_gains)"
   ]
  },
  {
   "cell_type": "markdown",
   "metadata": {
    "deletable": true,
    "editable": true
   },
   "source": [
    "Capital gains has a very skewed distribution."
   ]
  },
  {
   "cell_type": "code",
   "execution_count": 13,
   "metadata": {
    "collapsed": false,
    "deletable": true,
    "editable": true
   },
   "outputs": [
    {
     "data": {
      "text/plain": [
       "<matplotlib.axes._subplots.AxesSubplot at 0x182a0fd0>"
      ]
     },
     "execution_count": 13,
     "metadata": {},
     "output_type": "execute_result"
    },
    {
     "data": {
      "image/png": "[encoded data removed]",
      "text/plain": [
       "<matplotlib.figure.Figure at 0x1a86a3c8>"
      ]
     },
     "metadata": {},
     "output_type": "display_data"
    }
   ],
   "source": [
    "sns.distplot(df_train.capital_losses)"
   ]
  },
  {
   "cell_type": "markdown",
   "metadata": {
    "deletable": true,
    "editable": true
   },
   "source": [
    "Capital losses has a very skewed distribution as well."
   ]
  },
  {
   "cell_type": "code",
   "execution_count": 14,
   "metadata": {
    "collapsed": false,
    "deletable": true,
    "editable": true
   },
   "outputs": [
    {
     "data": {
      "text/plain": [
       "<matplotlib.axes._subplots.AxesSubplot at 0x1a0d7390>"
      ]
     },
     "execution_count": 14,
     "metadata": {},
     "output_type": "execute_result"
    },
    {
     "data": {
      "text/plain": [
       "<matplotlib.axes._subplots.AxesSubplot at 0x1a0d7390>"
      ]
     },
     "execution_count": 14,
     "metadata": {},
     "output_type": "execute_result"
    },
    {
     "data": {
      "image/png": "[encoded data removed]",
      "text/plain": [
       "<matplotlib.figure.Figure at 0x1a7d6e10>"
      ]
     },
     "metadata": {},
     "output_type": "display_data"
    }
   ],
   "source": [
    "sns.regplot(x='age',y='wage_per_hour',data=df_train[df_train.income_level==0],fit_reg=False)\n",
    "sns.regplot(x='age',y='wage_per_hour',data=df_train[df_train.income_level==1], color='red',fit_reg=False)"
   ]
  },
  {
   "cell_type": "markdown",
   "metadata": {
    "deletable": true,
    "editable": true
   },
   "source": [
    "We can see that most of income_level 1 is between 20 and 65 years."
   ]
  },
  {
   "cell_type": "code",
   "execution_count": 15,
   "metadata": {
    "collapsed": false,
    "deletable": true,
    "editable": true
   },
   "outputs": [
    {
     "data": {
      "text/plain": [
       "<seaborn.axisgrid.FacetGrid at 0x1849c828>"
      ]
     },
     "execution_count": 15,
     "metadata": {},
     "output_type": "execute_result"
    },
    {
     "data": {
      "image/png": "[encoded data removed]",
      "text/plain": [
       "<matplotlib.figure.Figure at 0x1b0582b0>"
      ]
     },
     "metadata": {},
     "output_type": "display_data"
    }
   ],
   "source": [
    "sns.factorplot(y='class_of_worker',kind='count',data=df_train,aspect=3,hue='income_level')"
   ]
  },
  {
   "cell_type": "code",
   "execution_count": 16,
   "metadata": {
    "collapsed": false,
    "deletable": true,
    "editable": true
   },
   "outputs": [
    {
     "data": {
      "text/plain": [
       "<seaborn.axisgrid.FacetGrid at 0x18487f60>"
      ]
     },
     "execution_count": 16,
     "metadata": {},
     "output_type": "execute_result"
    },
    {
     "data": {
      "image/png": "[encoded data removed]",
      "text/plain": [
       "<matplotlib.figure.Figure at 0x14c0cc18>"
      ]
     },
     "metadata": {},
     "output_type": "display_data"
    }
   ],
   "source": [
    "sns.factorplot(y='education',kind='count',data=df_train,aspect=3,hue='income_level')"
   ]
  },
  {
   "cell_type": "markdown",
   "metadata": {
    "deletable": true,
    "editable": true
   },
   "source": [
    "Here we can see that all Children have income level 0 and that Bachelors degree and Masters degree accont for the majority of income level 1."
   ]
  },
  {
   "cell_type": "code",
   "execution_count": 17,
   "metadata": {
    "collapsed": false,
    "deletable": true,
    "editable": true
   },
   "outputs": [
    {
     "data": {
      "text/plain": [
       "<seaborn.axisgrid.FacetGrid at 0x19960048>"
      ]
     },
     "execution_count": 17,
     "metadata": {},
     "output_type": "execute_result"
    },
    {
     "data": {
      "image/png": "[encoded data removed]",
      "text/plain": [
       "<matplotlib.figure.Figure at 0x199553c8>"
      ]
     },
     "metadata": {},
     "output_type": "display_data"
    }
   ],
   "source": [
    "sns.factorplot(y='marital_status',kind='count',data=df_train,aspect=3,hue='income_level')"
   ]
  },
  {
   "cell_type": "markdown",
   "metadata": {
    "deletable": true,
    "editable": true
   },
   "source": [
    "In terms of marital status, we can see that most of income_level 1 is associated to Married-civilian spouse present status."
   ]
  },
  {
   "cell_type": "code",
   "execution_count": 18,
   "metadata": {
    "collapsed": false,
    "deletable": true,
    "editable": true
   },
   "outputs": [
    {
     "data": {
      "text/plain": [
       "<seaborn.axisgrid.FacetGrid at 0x199604e0>"
      ]
     },
     "execution_count": 18,
     "metadata": {},
     "output_type": "execute_result"
    },
    {
     "data": {
      "image/png": "[encoded data removed]",
      "text/plain": [
       "<matplotlib.figure.Figure at 0x19960dd8>"
      ]
     },
     "metadata": {},
     "output_type": "display_data"
    }
   ],
   "source": [
    "sns.factorplot(y='sex',kind='count',data=df_train,aspect=3,hue='income_level')"
   ]
  },
  {
   "cell_type": "markdown",
   "metadata": {
    "deletable": true,
    "editable": true
   },
   "source": [
    "Males are more likely to belong to the income_level 1 class."
   ]
  },
  {
   "cell_type": "markdown",
   "metadata": {
    "deletable": true,
    "editable": true
   },
   "source": [
    "# 2. Data Cleaning"
   ]
  },
  {
   "cell_type": "markdown",
   "metadata": {
    "deletable": true,
    "editable": true
   },
   "source": [
    "First, we will change to text some categorical variables that are stored as numerical:"
   ]
  },
  {
   "cell_type": "code",
   "execution_count": 19,
   "metadata": {
    "collapsed": true,
    "deletable": true,
    "editable": true
   },
   "outputs": [],
   "source": [
    "df_train.industry_code=df_train.industry_code.astype(str)\n",
    "df_train.occupation_code=df_train.occupation_code.astype(str)\n",
    "df_train.business_or_self_employed=df_train.business_or_self_employed.astype(str)\n",
    "df_train.veterans_benefits=df_train.veterans_benefits.astype(str)\n",
    "df_train.year=df_train.year.astype(str)"
   ]
  },
  {
   "cell_type": "code",
   "execution_count": 20,
   "metadata": {
    "collapsed": true,
    "deletable": true,
    "editable": true
   },
   "outputs": [],
   "source": [
    "df_test.industry_code=df_test.industry_code.astype(str)\n",
    "df_test.occupation_code=df_test.occupation_code.astype(str)\n",
    "df_test.business_or_self_employed=df_test.business_or_self_employed.astype(str)\n",
    "df_test.veterans_benefits=df_test.veterans_benefits.astype(str)\n",
    "df_test.year=df_test.year.astype(str)"
   ]
  },
  {
   "cell_type": "markdown",
   "metadata": {
    "deletable": true,
    "editable": true
   },
   "source": [
    "Check the numerical variables and correlations:"
   ]
  },
  {
   "cell_type": "code",
   "execution_count": 21,
   "metadata": {
    "collapsed": true,
    "deletable": true,
    "editable": true
   },
   "outputs": [],
   "source": [
    "num_vars=['age','wage_per_hour','capital_gains','capital_losses','dividend_from_Stocks',\n",
    "         'num_person_Worked_employer','weeks_worked_in_year']"
   ]
  },
  {
   "cell_type": "code",
   "execution_count": 22,
   "metadata": {
    "collapsed": false,
    "deletable": true,
    "editable": true
   },
   "outputs": [
    {
     "data": {
      "text/plain": [
       "num_person_Worked_employer  weeks_worked_in_year          0.747302\n",
       "age                         weeks_worked_in_year          0.206181\n",
       "wage_per_hour               weeks_worked_in_year          0.195687\n",
       "                            num_person_Worked_employer    0.191543\n",
       "age                         num_person_Worked_employer    0.140887\n",
       "dtype: float64"
      ]
     },
     "execution_count": 22,
     "metadata": {},
     "output_type": "execute_result"
    },
    {
     "data": {
      "text/plain": [
       "capital_gains         capital_losses               -0.012700\n",
       "wage_per_hour         dividend_from_Stocks         -0.005731\n",
       "                      capital_gains                -0.001082\n",
       "dividend_from_Stocks  num_person_Worked_employer    0.007206\n",
       "wage_per_hour         capital_losses                0.010993\n",
       "dtype: float64"
      ]
     },
     "execution_count": 22,
     "metadata": {},
     "output_type": "execute_result"
    }
   ],
   "source": [
    "cor=df_train[num_vars].corr().stack()\n",
    "cor[cor<>1].nlargest(10)[::2]\n",
    "cor[cor<>1].nsmallest(10)[::2]"
   ]
  },
  {
   "cell_type": "markdown",
   "metadata": {
    "deletable": true,
    "editable": true
   },
   "source": [
    "Looking at the correlations, we can see that weeks_worked_in_year is highly correlated with num_person_Worked_employer, so we will remove this variable."
   ]
  },
  {
   "cell_type": "code",
   "execution_count": 23,
   "metadata": {
    "collapsed": true,
    "deletable": true,
    "editable": true
   },
   "outputs": [],
   "source": [
    "df_train=df_train.drop(['weeks_worked_in_year'],axis=1)\n",
    "df_test=df_test.drop(['weeks_worked_in_year'],axis=1)"
   ]
  },
  {
   "cell_type": "markdown",
   "metadata": {
    "deletable": true,
    "editable": true
   },
   "source": [
    "Now let's check the null values in the categorical variables. First we will get the list of all categorical variables:"
   ]
  },
  {
   "cell_type": "code",
   "execution_count": 24,
   "metadata": {
    "collapsed": false,
    "deletable": true,
    "editable": true
   },
   "outputs": [
    {
     "data": {
      "text/plain": [
       "['class_of_worker',\n",
       " 'industry_code',\n",
       " 'occupation_code',\n",
       " 'education',\n",
       " 'enrolled_in_edu_inst_lastwk',\n",
       " 'marital_status',\n",
       " 'major_industry_code',\n",
       " 'major_occupation_code',\n",
       " 'race',\n",
       " 'hispanic_origin',\n",
       " 'sex',\n",
       " 'member_of_labor_union',\n",
       " 'reason_for_unemployment',\n",
       " 'full_parttime_employment_stat',\n",
       " 'tax_filer_status',\n",
       " 'region_of_previous_residence',\n",
       " 'state_of_previous_residence',\n",
       " 'd_household_family_stat',\n",
       " 'd_household_summary',\n",
       " 'migration_msa',\n",
       " 'migration_reg',\n",
       " 'migration_within_reg',\n",
       " 'live_1_year_ago',\n",
       " 'migration_sunbelt',\n",
       " 'family_members_under_18',\n",
       " 'country_father',\n",
       " 'country_mother',\n",
       " 'country_self',\n",
       " 'citizenship',\n",
       " 'business_or_self_employed',\n",
       " 'fill_questionnaire_veteran_admin',\n",
       " 'veterans_benefits',\n",
       " 'year']"
      ]
     },
     "execution_count": 24,
     "metadata": {},
     "output_type": "execute_result"
    }
   ],
   "source": [
    "cat_vars=[]\n",
    "for col in df_train.columns.tolist():\n",
    "\n",
    "    if df_train[col].dtypes=='O':\n",
    "        \n",
    "        cat_vars.append(col)\n",
    "\n",
    "cat_vars"
   ]
  },
  {
   "cell_type": "markdown",
   "metadata": {
    "deletable": true,
    "editable": true
   },
   "source": [
    "Now we will check the nulls:"
   ]
  },
  {
   "cell_type": "code",
   "execution_count": 25,
   "metadata": {
    "collapsed": false,
    "deletable": true,
    "editable": true
   },
   "outputs": [
    {
     "data": {
      "text/plain": [
       "{'business_or_self_employed': 0.0,\n",
       " 'citizenship': 0.0,\n",
       " 'class_of_worker': 0.0,\n",
       " 'country_father': 3.3645243906717517,\n",
       " 'country_mother': 3.0668143522300686,\n",
       " 'country_self': 1.7005558256441615,\n",
       " 'd_household_family_stat': 0.0,\n",
       " 'd_household_summary': 0.0,\n",
       " 'education': 0.0,\n",
       " 'enrolled_in_edu_inst_lastwk': 0.0,\n",
       " 'family_members_under_18': 0.0,\n",
       " 'fill_questionnaire_veteran_admin': 0.0,\n",
       " 'full_parttime_employment_stat': 0.0,\n",
       " 'hispanic_origin': 0.43804473669702243,\n",
       " 'industry_code': 0.0,\n",
       " 'live_1_year_ago': 0.0,\n",
       " 'major_industry_code': 0.0,\n",
       " 'major_occupation_code': 0.0,\n",
       " 'marital_status': 0.0,\n",
       " 'member_of_labor_union': 0.0,\n",
       " 'migration_msa': 49.967171704515266,\n",
       " 'migration_reg': 49.967171704515266,\n",
       " 'migration_sunbelt': 49.967171704515266,\n",
       " 'migration_within_reg': 49.967171704515266,\n",
       " 'occupation_code': 0.0,\n",
       " 'race': 0.0,\n",
       " 'reason_for_unemployment': 0.0,\n",
       " 'region_of_previous_residence': 0.0,\n",
       " 'sex': 0.0,\n",
       " 'state_of_previous_residence': 0.35484630844564286,\n",
       " 'tax_filer_status': 0.0,\n",
       " 'veterans_benefits': 0.0,\n",
       " 'year': 0.0}"
      ]
     },
     "execution_count": 25,
     "metadata": {},
     "output_type": "execute_result"
    }
   ],
   "source": [
    "nulls={}\n",
    "for feat in cat_vars:\n",
    "    nulls[feat]=(df_train[feat].isnull().sum()*1.0/len(df_train[feat]))*100\n",
    "    \n",
    "nulls"
   ]
  },
  {
   "cell_type": "markdown",
   "metadata": {
    "deletable": true,
    "editable": true
   },
   "source": [
    "we can see that the variables migration_msa, migration_reg, migration_sunbelt and migration_within_reg have almost 50% of null values. Now we will keep just those variables that have less than 5% of missing values:"
   ]
  },
  {
   "cell_type": "code",
   "execution_count": 26,
   "metadata": {
    "collapsed": false,
    "deletable": true,
    "editable": true
   },
   "outputs": [
    {
     "data": {
      "text/plain": [
       "['citizenship',\n",
       " 'sex',\n",
       " 'full_parttime_employment_stat',\n",
       " 'year',\n",
       " 'education',\n",
       " 'enrolled_in_edu_inst_lastwk',\n",
       " 'live_1_year_ago',\n",
       " 'd_household_summary',\n",
       " 'occupation_code',\n",
       " 'industry_code',\n",
       " 'country_mother',\n",
       " 'member_of_labor_union',\n",
       " 'major_industry_code',\n",
       " 'hispanic_origin',\n",
       " 'veterans_benefits',\n",
       " 'reason_for_unemployment',\n",
       " 'tax_filer_status',\n",
       " 'country_self',\n",
       " 'country_father',\n",
       " 'marital_status',\n",
       " 'd_household_family_stat',\n",
       " 'major_occupation_code',\n",
       " 'class_of_worker',\n",
       " 'race',\n",
       " 'fill_questionnaire_veteran_admin',\n",
       " 'business_or_self_employed',\n",
       " 'region_of_previous_residence',\n",
       " 'family_members_under_18',\n",
       " 'state_of_previous_residence']"
      ]
     },
     "execution_count": 26,
     "metadata": {},
     "output_type": "execute_result"
    }
   ],
   "source": [
    "keep_cat = []\n",
    "\n",
    "for cat_var in nulls:\n",
    "    if nulls[cat_var]<5:\n",
    "        keep_cat.append(cat_var)\n",
    "\n",
    "keep_cat"
   ]
  },
  {
   "cell_type": "code",
   "execution_count": 27,
   "metadata": {
    "collapsed": false,
    "deletable": true,
    "editable": true
   },
   "outputs": [
    {
     "data": {
      "text/plain": [
       "['age',\n",
       " 'wage_per_hour',\n",
       " 'capital_gains',\n",
       " 'capital_losses',\n",
       " 'dividend_from_Stocks',\n",
       " 'num_person_Worked_employer',\n",
       " 'citizenship',\n",
       " 'sex',\n",
       " 'full_parttime_employment_stat',\n",
       " 'year',\n",
       " 'education',\n",
       " 'enrolled_in_edu_inst_lastwk',\n",
       " 'live_1_year_ago',\n",
       " 'd_household_summary',\n",
       " 'occupation_code',\n",
       " 'industry_code',\n",
       " 'country_mother',\n",
       " 'member_of_labor_union',\n",
       " 'major_industry_code',\n",
       " 'hispanic_origin',\n",
       " 'veterans_benefits',\n",
       " 'reason_for_unemployment',\n",
       " 'tax_filer_status',\n",
       " 'country_self',\n",
       " 'country_father',\n",
       " 'marital_status',\n",
       " 'd_household_family_stat',\n",
       " 'major_occupation_code',\n",
       " 'class_of_worker',\n",
       " 'race',\n",
       " 'fill_questionnaire_veteran_admin',\n",
       " 'business_or_self_employed',\n",
       " 'region_of_previous_residence',\n",
       " 'family_members_under_18',\n",
       " 'state_of_previous_residence',\n",
       " 'income_level']"
      ]
     },
     "execution_count": 27,
     "metadata": {},
     "output_type": "execute_result"
    }
   ],
   "source": [
    "keep=num_vars+keep_cat+['income_level']\n",
    "keep.remove('weeks_worked_in_year')\n",
    "keep"
   ]
  },
  {
   "cell_type": "code",
   "execution_count": 28,
   "metadata": {
    "collapsed": true,
    "deletable": true,
    "editable": true
   },
   "outputs": [],
   "source": [
    "df_train=df_train[keep]\n",
    "df_test=df_test[keep]"
   ]
  },
  {
   "cell_type": "markdown",
   "metadata": {
    "deletable": true,
    "editable": true
   },
   "source": [
    "We will check the rest of the categorical variables with missing values to replace them with the text 'no data':"
   ]
  },
  {
   "cell_type": "code",
   "execution_count": 29,
   "metadata": {
    "collapsed": true,
    "deletable": true,
    "editable": true
   },
   "outputs": [],
   "source": [
    "# This function returns a dictionary with the percentage of nulls for each column\n",
    "# of data frame\n",
    "\n",
    "def get_nulls(dataframe, columns):\n",
    "    nulls={}\n",
    "    for feat in columns:\n",
    "        nulls[feat]=(dataframe[feat].isnull().sum()*1.0/len(dataframe[feat]))*100\n",
    "    \n",
    "    return nulls"
   ]
  },
  {
   "cell_type": "code",
   "execution_count": 30,
   "metadata": {
    "collapsed": false,
    "deletable": true,
    "editable": true
   },
   "outputs": [
    {
     "data": {
      "text/plain": [
       "{'age': 0.0,\n",
       " 'business_or_self_employed': 0.0,\n",
       " 'capital_gains': 0.0,\n",
       " 'capital_losses': 0.0,\n",
       " 'citizenship': 0.0,\n",
       " 'class_of_worker': 0.0,\n",
       " 'country_father': 0.0,\n",
       " 'country_mother': 0.0,\n",
       " 'country_self': 0.0,\n",
       " 'd_household_family_stat': 0.0,\n",
       " 'd_household_summary': 0.0,\n",
       " 'dividend_from_Stocks': 0.0,\n",
       " 'education': 0.0,\n",
       " 'enrolled_in_edu_inst_lastwk': 0.0,\n",
       " 'family_members_under_18': 0.0,\n",
       " 'fill_questionnaire_veteran_admin': 0.0,\n",
       " 'full_parttime_employment_stat': 0.0,\n",
       " 'hispanic_origin': 0.0,\n",
       " 'income_level': 0.0,\n",
       " 'industry_code': 0.0,\n",
       " 'live_1_year_ago': 0.0,\n",
       " 'major_industry_code': 0.0,\n",
       " 'major_occupation_code': 0.0,\n",
       " 'marital_status': 0.0,\n",
       " 'member_of_labor_union': 0.0,\n",
       " 'num_person_Worked_employer': 0.0,\n",
       " 'occupation_code': 0.0,\n",
       " 'race': 0.0,\n",
       " 'reason_for_unemployment': 0.0,\n",
       " 'region_of_previous_residence': 0.0,\n",
       " 'sex': 0.0,\n",
       " 'state_of_previous_residence': 0.0,\n",
       " 'tax_filer_status': 0.0,\n",
       " 'veterans_benefits': 0.0,\n",
       " 'wage_per_hour': 0.0,\n",
       " 'year': 0.0}"
      ]
     },
     "execution_count": 30,
     "metadata": {},
     "output_type": "execute_result"
    }
   ],
   "source": [
    "null_dict=get_nulls(df_train,df_train.columns.tolist())\n",
    "\n",
    "for col in null_dict:\n",
    "    \n",
    "     if null_dict[col]>0:\n",
    "            \n",
    "            df_train[col]=df_train[col].fillna(value='no data')\n",
    "\n",
    "get_nulls(df_train,df_train.columns.tolist())"
   ]
  },
  {
   "cell_type": "code",
   "execution_count": 31,
   "metadata": {
    "collapsed": false,
    "deletable": true,
    "editable": true
   },
   "outputs": [
    {
     "data": {
      "text/plain": [
       "{'age': 0.0,\n",
       " 'business_or_self_employed': 0.0,\n",
       " 'capital_gains': 0.0,\n",
       " 'capital_losses': 0.0,\n",
       " 'citizenship': 0.0,\n",
       " 'class_of_worker': 0.0,\n",
       " 'country_father': 0.0,\n",
       " 'country_mother': 0.0,\n",
       " 'country_self': 0.0,\n",
       " 'd_household_family_stat': 0.0,\n",
       " 'd_household_summary': 0.0,\n",
       " 'dividend_from_Stocks': 0.0,\n",
       " 'education': 0.0,\n",
       " 'enrolled_in_edu_inst_lastwk': 0.0,\n",
       " 'family_members_under_18': 0.0,\n",
       " 'fill_questionnaire_veteran_admin': 0.0,\n",
       " 'full_parttime_employment_stat': 0.0,\n",
       " 'hispanic_origin': 0.0,\n",
       " 'income_level': 0.0,\n",
       " 'industry_code': 0.0,\n",
       " 'live_1_year_ago': 0.0,\n",
       " 'major_industry_code': 0.0,\n",
       " 'major_occupation_code': 0.0,\n",
       " 'marital_status': 0.0,\n",
       " 'member_of_labor_union': 0.0,\n",
       " 'num_person_Worked_employer': 0.0,\n",
       " 'occupation_code': 0.0,\n",
       " 'race': 0.0,\n",
       " 'reason_for_unemployment': 0.0,\n",
       " 'region_of_previous_residence': 0.0,\n",
       " 'sex': 0.0,\n",
       " 'state_of_previous_residence': 0.0,\n",
       " 'tax_filer_status': 0.0,\n",
       " 'veterans_benefits': 0.0,\n",
       " 'wage_per_hour': 0.0,\n",
       " 'year': 0.0}"
      ]
     },
     "execution_count": 31,
     "metadata": {},
     "output_type": "execute_result"
    }
   ],
   "source": [
    "null_dict=get_nulls(df_test,df_test.columns.tolist())\n",
    "\n",
    "for col in null_dict:\n",
    "    \n",
    "     if null_dict[col]>0:\n",
    "            \n",
    "            df_test[col]=df_test[col].fillna(value='no data')\n",
    "\n",
    "get_nulls(df_test,df_test.columns.tolist())"
   ]
  },
  {
   "cell_type": "markdown",
   "metadata": {
    "deletable": true,
    "editable": true
   },
   "source": [
    "# 3. Preparing data for classification"
   ]
  },
  {
   "cell_type": "markdown",
   "metadata": {
    "deletable": true,
    "editable": true
   },
   "source": [
    "We will check the frequencies of the classes of each categorical variables to see if we can group those with frequencies less than 5%:"
   ]
  },
  {
   "cell_type": "code",
   "execution_count": 32,
   "metadata": {
    "collapsed": true,
    "deletable": true,
    "editable": true
   },
   "outputs": [],
   "source": [
    "# This function looks into the categorical columms of a data frame and change\n",
    "# the categories with a frequency less than 5% to 'other'\n",
    "\n",
    "def group_categories(dataframe, columns):\n",
    "    \n",
    "    for col in columns:\n",
    "        \n",
    "        for category in dataframe[col].unique():\n",
    "\n",
    "            if (dataframe[col].value_counts()/len(dataframe[col])*100)[category]<2:\n",
    "                dataframe[col][dataframe[col]==category]='other'\n",
    "                \n",
    "    return dataframe"
   ]
  },
  {
   "cell_type": "code",
   "execution_count": 33,
   "metadata": {
    "collapsed": true,
    "deletable": true,
    "editable": true
   },
   "outputs": [],
   "source": [
    "df_train_new=group_categories(df_train, keep_cat)"
   ]
  },
  {
   "cell_type": "code",
   "execution_count": 34,
   "metadata": {
    "collapsed": true,
    "deletable": true,
    "editable": true
   },
   "outputs": [],
   "source": [
    "df_test_new=group_categories(df_test, keep_cat)"
   ]
  },
  {
   "cell_type": "markdown",
   "metadata": {
    "deletable": true,
    "editable": true
   },
   "source": [
    "Some categorical variables have categories with a space at the beginning or the end of the text:"
   ]
  },
  {
   "cell_type": "code",
   "execution_count": 35,
   "metadata": {
    "collapsed": false,
    "deletable": true,
    "editable": true
   },
   "outputs": [
    {
     "data": {
      "text/plain": [
       "Index([u' Native- Born in the United States',\n",
       "       u' Foreign born- Not a citizen of U S ',\n",
       "       u' Foreign born- U S citizen by naturalization', u'other'],\n",
       "      dtype='object')"
      ]
     },
     "execution_count": 35,
     "metadata": {},
     "output_type": "execute_result"
    }
   ],
   "source": [
    "df_test_new['citizenship'].value_counts().index"
   ]
  },
  {
   "cell_type": "markdown",
   "metadata": {
    "deletable": true,
    "editable": true
   },
   "source": [
    "We will fix that removing those spaces from the test set:"
   ]
  },
  {
   "cell_type": "code",
   "execution_count": 36,
   "metadata": {
    "collapsed": true,
    "deletable": true,
    "editable": true
   },
   "outputs": [],
   "source": [
    "for col in keep_cat:\n",
    "    df_test_new[col]=df_test_new[col].apply(lambda x: x.lstrip())\n",
    "    df_test_new[col]=df_test_new[col].apply(lambda x: x.rstrip())"
   ]
  },
  {
   "cell_type": "markdown",
   "metadata": {
    "deletable": true,
    "editable": true
   },
   "source": [
    "There are also two variables, country_mother and country_father with \"?\" values:"
   ]
  },
  {
   "cell_type": "code",
   "execution_count": 37,
   "metadata": {
    "collapsed": false,
    "deletable": true,
    "editable": true
   },
   "outputs": [
    {
     "data": {
      "text/plain": [
       "United-States    80013\n",
       "other            11690\n",
       "Mexico            4987\n",
       "?                 3072\n",
       "Name: country_mother, dtype: int64"
      ]
     },
     "execution_count": 37,
     "metadata": {},
     "output_type": "execute_result"
    },
    {
     "data": {
      "text/plain": [
       "United-States    79368\n",
       "other            11917\n",
       "Mexico            5048\n",
       "?                 3429\n",
       "Name: country_father, dtype: int64"
      ]
     },
     "execution_count": 37,
     "metadata": {},
     "output_type": "execute_result"
    }
   ],
   "source": [
    "df_test_new.country_mother.value_counts()\n",
    "df_test_new.country_father.value_counts()"
   ]
  },
  {
   "cell_type": "markdown",
   "metadata": {
    "deletable": true,
    "editable": true
   },
   "source": [
    "We will replace this values with the label \"no data\":"
   ]
  },
  {
   "cell_type": "code",
   "execution_count": 38,
   "metadata": {
    "collapsed": false,
    "deletable": true,
    "editable": true
   },
   "outputs": [
    {
     "data": {
      "text/plain": [
       "United-States    80013\n",
       "other            11690\n",
       "Mexico            4987\n",
       "no data           3072\n",
       "Name: country_mother, dtype: int64"
      ]
     },
     "execution_count": 38,
     "metadata": {},
     "output_type": "execute_result"
    },
    {
     "data": {
      "text/plain": [
       "United-States    79368\n",
       "other            11917\n",
       "Mexico            5048\n",
       "no data           3429\n",
       "Name: country_father, dtype: int64"
      ]
     },
     "execution_count": 38,
     "metadata": {},
     "output_type": "execute_result"
    }
   ],
   "source": [
    "df_test_new.country_mother[df_test_new.country_mother=='?']='no data' \n",
    "df_test_new.country_mother.value_counts()\n",
    "\n",
    "df_test_new.country_father[df_test_new.country_father=='?']='no data'\n",
    "df_test_new.country_father.value_counts()"
   ]
  },
  {
   "cell_type": "markdown",
   "metadata": {
    "deletable": true,
    "editable": true
   },
   "source": [
    "We will check the classes for the train and test set:"
   ]
  },
  {
   "cell_type": "code",
   "execution_count": 39,
   "metadata": {
    "collapsed": false,
    "deletable": true,
    "editable": true
   },
   "outputs": [
    {
     "name": "stdout",
     "output_type": "stream",
     "text": [
      "Native- Born in the United States              88.707568\n",
      "Foreign born- Not a citizen of U S              6.716519\n",
      "Foreign born- U S citizen by naturalization     2.934499\n",
      "other                                           1.641415\n",
      "Name: citizenship, dtype: float64\n",
      "Female    52.116297\n",
      "Male      47.883703\n",
      "Name: sex, dtype: float64\n",
      "Children or Armed Forces    62.032447\n",
      "Full-time schedules         20.416694\n",
      "Not in labor force          13.436045\n",
      "other                        4.114814\n",
      "Name: full_parttime_employment_stat, dtype: float64\n",
      "94    50.032828\n",
      "95    49.967172\n",
      "Name: year, dtype: float64\n",
      "High school graduate                      24.261363\n",
      "Children                                  23.767686\n",
      "Some college but no degree                13.943255\n",
      "Bachelors degree(BA AB BS)                 9.956246\n",
      "other                                      5.551741\n",
      "7th and 8th grade                          4.013071\n",
      "10th grade                                 3.787533\n",
      "11th grade                                 3.446219\n",
      "Masters degree(MA MS MEng MEd MSW MBA)     3.278319\n",
      "9th grade                                  3.122447\n",
      "Associates degree-occup /vocational        2.685405\n",
      "Associates degree-academic program         2.186715\n",
      "Name: education, dtype: float64\n",
      "Not in universe          93.694962\n",
      "High school               3.454238\n",
      "College or university     2.850799\n",
      "Name: enrolled_in_edu_inst_lastwk, dtype: float64\n",
      "Not in universe under 1 year old    50.726984\n",
      "Yes                                 41.367662\n",
      "No                                   7.905354\n",
      "Name: live_1_year_ago, dtype: float64\n",
      "Householder                      37.827719\n",
      "Child under 18 never married     25.273277\n",
      "Spouse of householder            20.904357\n",
      "Child 18 or older                 7.232249\n",
      "Other relative of householder     4.863098\n",
      "Nonrelative of householder        3.809586\n",
      "other                             0.089714\n",
      "Name: d_household_summary, dtype: float64\n",
      "0        50.462353\n",
      "other    31.829914\n",
      "2         4.388466\n",
      "26        3.952928\n",
      "19        2.712970\n",
      "29        2.558602\n",
      "36        2.077455\n",
      "34        2.017311\n",
      "Name: occupation_code, dtype: float64\n",
      "0        50.462353\n",
      "other    25.112894\n",
      "33        8.555405\n",
      "43        4.151401\n",
      "4         2.999153\n",
      "42        2.347098\n",
      "45        2.246358\n",
      "29        2.109531\n",
      "37        2.015808\n",
      "Name: industry_code, dtype: float64\n",
      "United-States    80.431329\n",
      "other            11.599665\n",
      "Mexico            4.902192\n",
      "no data           3.066814\n",
      "Name: country_mother, dtype: float64\n",
      "Not in universe    90.445212\n",
      "No                  8.036166\n",
      "other               1.518622\n",
      "Name: member_of_labor_union, dtype: float64\n",
      "Not in universe or children          50.462353\n",
      "other                                10.931071\n",
      "Retail trade                          8.555405\n",
      "Manufacturing-durable goods           4.518276\n",
      "Education                             4.151401\n",
      "Manufacturing-nondurable goods        3.456744\n",
      "Finance insurance and real estate     3.079845\n",
      "Construction                          2.999153\n",
      "Business and repair services          2.832255\n",
      "Medical except hospital               2.347098\n",
      "Public administration                 2.310511\n",
      "Other professional services           2.246358\n",
      "Transportation                        2.109531\n",
      "Name: major_industry_code, dtype: float64\n",
      "All other             86.158989\n",
      "other                  6.166206\n",
      "Mexican-American       4.049157\n",
      "Mexican (Mexicano)     3.625647\n",
      "Name: hispanic_origin, dtype: float64\n",
      "2        75.244458\n",
      "0        23.761170\n",
      "other     0.994372\n",
      "Name: veterans_benefits, dtype: float64\n",
      "Not in universe    96.957744\n",
      "other               3.042256\n",
      "Name: reason_for_unemployment, dtype: float64\n",
      "Nonfiler               37.636764\n",
      "Joint both under 65    33.772046\n",
      "Single                 18.755231\n",
      "Joint both 65+          4.175960\n",
      "Head of household       3.721877\n",
      "other                   1.938122\n",
      "Name: tax_filer_status, dtype: float64\n",
      "United-States    88.706064\n",
      "other             8.403542\n",
      "Mexico            2.890394\n",
      "Name: country_self, dtype: float64\n",
      "United-States    79.771756\n",
      "other            11.847757\n",
      "Mexico            5.015963\n",
      "no data           3.364524\n",
      "Name: country_father, dtype: float64\n",
      "Never married                      43.345880\n",
      "Married-civilian spouse present    42.211675\n",
      "Divorced                            6.370193\n",
      "Widowed                             5.244007\n",
      "other                               2.828245\n",
      "Name: marital_status, dtype: float64\n",
      "Householder                                26.687650\n",
      "Child <18 never marr not in subfamily      25.223157\n",
      "Spouse of householder                      20.897340\n",
      "Nonfamily householder                      11.133052\n",
      "other                                       6.961102\n",
      "Child 18+ never marr Not in a subfamily     6.029380\n",
      "Secondary individual                        3.068318\n",
      "Name: d_household_family_stat, dtype: float64\n",
      "Not in universe                          50.462353\n",
      "Adm support including clerical            7.436235\n",
      "Professional specialty                    6.986663\n",
      "Executive admin and managerial            6.262436\n",
      "Other service                             6.063963\n",
      "Sales                                     5.905585\n",
      "Precision production craft & repair       5.271573\n",
      "other                                     4.330829\n",
      "Machine operators assmblrs & inspctrs     3.197125\n",
      "Handlers equip cleaners etc               2.068433\n",
      "Transportation and material moving        2.014805\n",
      "Name: major_occupation_code, dtype: float64\n",
      "Not in universe                   50.242328\n",
      "Private                           36.100099\n",
      "Self-employed-not incorporated     4.232595\n",
      "Local government                   3.901305\n",
      "other                              3.405121\n",
      "State government                   2.118553\n",
      "Name: class_of_worker, dtype: float64\n",
      "White                        83.882560\n",
      "Black                        10.231903\n",
      "other                         2.961062\n",
      "Asian or Pacific Islander     2.924475\n",
      "Name: race, dtype: float64\n",
      "Not in universe    99.005628\n",
      "other               0.994372\n",
      "Name: fill_questionnaire_veteran_admin, dtype: float64\n",
      "0        90.551966\n",
      "2         8.095809\n",
      "other     1.352225\n",
      "Name: business_or_self_employed, dtype: float64\n",
      "Not in universe    92.094646\n",
      "other               3.413140\n",
      "South               2.450344\n",
      "West                2.041870\n",
      "Name: region_of_previous_residence, dtype: float64\n",
      "Not in universe         72.288408\n",
      "Both parents present    19.538098\n",
      "Mother only present      6.401267\n",
      "other                    1.772227\n",
      "Name: family_members_under_18, dtype: float64\n",
      "Not in universe    92.094646\n",
      "other               7.905354\n",
      "Name: state_of_previous_residence, dtype: float64\n"
     ]
    }
   ],
   "source": [
    "for col in keep_cat:\n",
    "    \n",
    "    print (df_train_new[col].value_counts()*1.0/len(df_train_new[col]))*100"
   ]
  },
  {
   "cell_type": "code",
   "execution_count": 40,
   "metadata": {
    "collapsed": false,
    "deletable": true,
    "editable": true
   },
   "outputs": [
    {
     "name": "stdout",
     "output_type": "stream",
     "text": [
      "Native- Born in the United States              88.565787\n",
      "Foreign born- Not a citizen of U S              6.721998\n",
      "Foreign born- U S citizen by naturalization     3.019186\n",
      "other                                           1.693029\n",
      "Name: citizenship, dtype: float64\n",
      "Female    51.914557\n",
      "Male      48.085443\n",
      "Name: sex, dtype: float64\n",
      "Children or Armed Forces    61.837172\n",
      "Full-time schedules         20.515828\n",
      "Not in labor force          13.444999\n",
      "other                        4.202001\n",
      "Name: full_parttime_employment_stat, dtype: float64\n",
      "95    50.065155\n",
      "94    49.934845\n",
      "Name: year, dtype: float64\n",
      "High school graduate                      24.204607\n",
      "Children                                  23.497925\n",
      "Some college but no degree                13.987290\n",
      "Bachelors degree(BA AB BS)                 9.908582\n",
      "other                                      5.682524\n",
      "7th and 8th grade                          4.158898\n",
      "10th grade                                 3.822097\n",
      "11th grade                                 3.531405\n",
      "Masters degree(MA MS MEng MEd MSW MBA)     3.313887\n",
      "9th grade                                  3.112408\n",
      "Associates degree-occup /vocational        2.696417\n",
      "Associates degree-academic program         2.083960\n",
      "Name: education, dtype: float64\n",
      "Not in universe          93.646880\n",
      "High school               3.514364\n",
      "College or university     2.838756\n",
      "Name: enrolled_in_edu_inst_lastwk, dtype: float64\n",
      "Not in universe under 1 year old    50.789880\n",
      "Yes                                 41.497765\n",
      "No                                   7.712355\n",
      "Name: live_1_year_ago, dtype: float64\n",
      "Householder                      38.033520\n",
      "Child under 18 never married     25.098735\n",
      "Spouse of householder            20.706281\n",
      "Child 18 or older                 7.356508\n",
      "Other relative of householder     4.841523\n",
      "Nonrelative of householder        3.886249\n",
      "other                             0.077184\n",
      "Name: d_household_summary, dtype: float64\n",
      "0        50.402959\n",
      "other    31.827750\n",
      "2         4.366392\n",
      "26        3.823099\n",
      "19        2.777611\n",
      "29        2.677372\n",
      "36        2.097993\n",
      "34        2.026824\n",
      "Name: occupation_code, dtype: float64\n",
      "0        50.402959\n",
      "other    24.673723\n",
      "33        8.732784\n",
      "43        4.237084\n",
      "4         3.074317\n",
      "42        2.309497\n",
      "29        2.216275\n",
      "45        2.209258\n",
      "37        2.144103\n",
      "Name: industry_code, dtype: float64\n",
      "United-States    80.203885\n",
      "other            11.717889\n",
      "Mexico            4.998897\n",
      "no data           3.079329\n",
      "Name: country_mother, dtype: float64\n",
      "Not in universe    90.498386\n",
      "No                  8.053167\n",
      "other               1.448447\n",
      "Name: member_of_labor_union, dtype: float64\n",
      "Not in universe or children          50.402959\n",
      "other                                10.758605\n",
      "Retail trade                          8.732784\n",
      "Manufacturing-durable goods           4.455604\n",
      "Education                             4.237084\n",
      "Manufacturing-nondurable goods        3.402097\n",
      "Construction                          3.074317\n",
      "Finance insurance and real estate     3.026202\n",
      "Business and repair services          2.992121\n",
      "Medical except hospital               2.309497\n",
      "Transportation                        2.216275\n",
      "Other professional services           2.209258\n",
      "Public administration                 2.183196\n",
      "Name: major_industry_code, dtype: float64\n",
      "All other             86.127985\n",
      "other                  6.157655\n",
      "Mexican-American       4.010545\n",
      "Mexican (Mexicano)     3.703815\n",
      "Name: hispanic_origin, dtype: float64\n",
      "2        75.476634\n",
      "0        23.493916\n",
      "other     1.029450\n",
      "Name: veterans_benefits, dtype: float64\n",
      "Not in universe    96.862533\n",
      "other               3.137467\n",
      "Name: reason_for_unemployment, dtype: float64\n",
      "Nonfiler               37.457148\n",
      "Joint both under 65    33.652092\n",
      "Single                 18.939075\n",
      "Joint both 65+          4.204006\n",
      "Head of household       3.765963\n",
      "other                   1.981716\n",
      "Name: tax_filer_status, dtype: float64\n",
      "United-States    88.563782\n",
      "other             8.493214\n",
      "Mexico            2.943004\n",
      "Name: country_self, dtype: float64\n",
      "United-States    79.557346\n",
      "other            11.945430\n",
      "Mexico            5.060043\n",
      "no data           3.437180\n",
      "Name: country_father, dtype: float64\n",
      "Never married                      43.245925\n",
      "Married-civilian spouse present    42.193420\n",
      "Divorced                            6.465388\n",
      "Widowed                             5.337704\n",
      "other                               2.757563\n",
      "Name: marital_status, dtype: float64\n",
      "Householder                                26.754676\n",
      "Child <18 never marr not in subfamily      25.049618\n",
      "Spouse of householder                      20.704276\n",
      "Nonfamily householder                      11.269822\n",
      "other                                       6.909444\n",
      "Child 18+ never marr Not in a subfamily     6.148634\n",
      "Secondary individual                        3.163529\n",
      "Name: d_household_family_stat, dtype: float64\n",
      "Not in universe                          50.402959\n",
      "Adm support including clerical            7.269301\n",
      "Professional specialty                    6.885387\n",
      "Executive admin and managerial            6.303001\n",
      "Other service                             6.191736\n",
      "Sales                                     6.035364\n",
      "Precision production craft & repair       5.366773\n",
      "other                                     4.231070\n",
      "Machine operators assmblrs & inspctrs     3.193601\n",
      "Handlers equip cleaners etc               2.075941\n",
      "Transportation and material moving        2.044867\n",
      "Name: major_occupation_code, dtype: float64\n",
      "Not in universe                   50.198472\n",
      "Private                           36.157054\n",
      "Self-employed-not incorporated     4.290211\n",
      "Local government                   3.842144\n",
      "other                              3.339949\n",
      "State government                   2.172170\n",
      "Name: class_of_worker, dtype: float64\n",
      "White                        83.812474\n",
      "Black                        10.148153\n",
      "other                         3.119424\n",
      "Asian or Pacific Islander     2.919949\n",
      "Name: race, dtype: float64\n",
      "Not in universe    98.97055\n",
      "other               1.02945\n",
      "Name: fill_questionnaire_veteran_admin, dtype: float64\n",
      "0        90.403160\n",
      "2         8.253644\n",
      "other     1.343197\n",
      "Name: business_or_self_employed, dtype: float64\n",
      "Not in universe    92.287645\n",
      "other               3.230689\n",
      "South               2.430785\n",
      "West                2.050881\n",
      "Name: region_of_previous_residence, dtype: float64\n",
      "Not in universe         72.566709\n",
      "Both parents present    19.405184\n",
      "Mother only present      6.271927\n",
      "other                    1.756180\n",
      "Name: family_members_under_18, dtype: float64\n",
      "Not in universe    92.287645\n",
      "other               7.712355\n",
      "Name: state_of_previous_residence, dtype: float64\n"
     ]
    }
   ],
   "source": [
    "for col in keep_cat:\n",
    "    \n",
    "    print (df_test_new[col].value_counts()*1.0/len(df_test_new[col]))*100"
   ]
  },
  {
   "cell_type": "markdown",
   "metadata": {
    "deletable": true,
    "editable": true
   },
   "source": [
    "Categories are now good to work with them. Now, we will check if it is possible to bin the numerical values:"
   ]
  },
  {
   "cell_type": "code",
   "execution_count": 41,
   "metadata": {
    "collapsed": false,
    "deletable": true,
    "editable": true
   },
   "outputs": [
    {
     "data": {
      "text/plain": [
       "2839"
      ]
     },
     "execution_count": 41,
     "metadata": {},
     "output_type": "execute_result"
    },
    {
     "data": {
      "text/plain": [
       "188219"
      ]
     },
     "execution_count": 41,
     "metadata": {},
     "output_type": "execute_result"
    },
    {
     "data": {
      "text/plain": [
       "192144"
      ]
     },
     "execution_count": 41,
     "metadata": {},
     "output_type": "execute_result"
    },
    {
     "data": {
      "text/plain": [
       "195617"
      ]
     },
     "execution_count": 41,
     "metadata": {},
     "output_type": "execute_result"
    },
    {
     "data": {
      "text/plain": [
       "178382"
      ]
     },
     "execution_count": 41,
     "metadata": {},
     "output_type": "execute_result"
    },
    {
     "data": {
      "text/plain": [
       "95983"
      ]
     },
     "execution_count": 41,
     "metadata": {},
     "output_type": "execute_result"
    }
   ],
   "source": [
    "df_train_new.age.value_counts().sort_values(ascending=False)[0]\n",
    "df_train_new.wage_per_hour.value_counts()[0]\n",
    "df_train_new.capital_gains.value_counts()[0]\n",
    "df_train_new.capital_losses.value_counts()[0]\n",
    "df_train_new.dividend_from_Stocks.value_counts()[0]\n",
    "df_train_new.num_person_Worked_employer.value_counts()[0]"
   ]
  },
  {
   "cell_type": "markdown",
   "metadata": {
    "deletable": true,
    "editable": true
   },
   "source": [
    "We can see that wage_per_hour, capital_gains, capital_losses and dividend_from_Stocks have large amount of zero values, so we will transform them in dummies taking the value of 0 if the variable's value is zero and 1 if the variable's value is grater than zero. Also we will create the variable age_bin to bin the variable age from 0-30, 31-60, 61-90."
   ]
  },
  {
   "cell_type": "code",
   "execution_count": 42,
   "metadata": {
    "collapsed": true,
    "deletable": true,
    "editable": true
   },
   "outputs": [],
   "source": [
    "df_train_new['age_bin']= pd.cut(df_train_new.age, [0,30,60,90],labels=['young','adult','old'])\n",
    "df_test_new['age_bin']= pd.cut(df_test_new.age, [0,30,60,90],labels=['young','adult','old'])"
   ]
  },
  {
   "cell_type": "code",
   "execution_count": 43,
   "metadata": {
    "collapsed": false,
    "deletable": true,
    "editable": true
   },
   "outputs": [
    {
     "data": {
      "text/html": [
       "<div>\n",
       "<style scoped>\n",
       "    .dataframe tbody tr th:only-of-type {\n",
       "        vertical-align: middle;\n",
       "    }\n",
       "\n",
       "    .dataframe tbody tr th {\n",
       "        vertical-align: top;\n",
       "    }\n",
       "\n",
       "    .dataframe thead th {\n",
       "        text-align: right;\n",
       "    }\n",
       "</style>\n",
       "<table border=\"1\" class=\"dataframe\">\n",
       "  <thead>\n",
       "    <tr style=\"text-align: right;\">\n",
       "      <th></th>\n",
       "      <th>age</th>\n",
       "      <th>age_bin</th>\n",
       "    </tr>\n",
       "  </thead>\n",
       "  <tbody>\n",
       "    <tr>\n",
       "      <th>0</th>\n",
       "      <td>73</td>\n",
       "      <td>old</td>\n",
       "    </tr>\n",
       "    <tr>\n",
       "      <th>1</th>\n",
       "      <td>58</td>\n",
       "      <td>adult</td>\n",
       "    </tr>\n",
       "    <tr>\n",
       "      <th>2</th>\n",
       "      <td>18</td>\n",
       "      <td>young</td>\n",
       "    </tr>\n",
       "  </tbody>\n",
       "</table>\n",
       "</div>"
      ],
      "text/plain": [
       "   age age_bin\n",
       "0   73     old\n",
       "1   58   adult\n",
       "2   18   young"
      ]
     },
     "execution_count": 43,
     "metadata": {},
     "output_type": "execute_result"
    }
   ],
   "source": [
    "df_train_new[['age','age_bin']].head(3)"
   ]
  },
  {
   "cell_type": "code",
   "execution_count": 44,
   "metadata": {
    "collapsed": true,
    "deletable": true,
    "editable": true
   },
   "outputs": [],
   "source": [
    "df_train_new['wage_per_hour_d']=(df_train_new.wage_per_hour!=0)*1.0\n",
    "df_train_new['capital_gains_d']=(df_train_new.capital_gains!=0)*1.0\n",
    "df_train_new['capital_losses_d']=(df_train_new.capital_losses!=0)*1.0\n",
    "df_train_new['dividend_from_Stocks_d']=(df_train_new.dividend_from_Stocks!=0)*1.0"
   ]
  },
  {
   "cell_type": "code",
   "execution_count": 45,
   "metadata": {
    "collapsed": false,
    "deletable": true,
    "editable": true
   },
   "outputs": [
    {
     "data": {
      "text/html": [
       "<div>\n",
       "<style scoped>\n",
       "    .dataframe tbody tr th:only-of-type {\n",
       "        vertical-align: middle;\n",
       "    }\n",
       "\n",
       "    .dataframe tbody tr th {\n",
       "        vertical-align: top;\n",
       "    }\n",
       "\n",
       "    .dataframe thead th {\n",
       "        text-align: right;\n",
       "    }\n",
       "</style>\n",
       "<table border=\"1\" class=\"dataframe\">\n",
       "  <thead>\n",
       "    <tr style=\"text-align: right;\">\n",
       "      <th></th>\n",
       "      <th>wage_per_hour</th>\n",
       "      <th>wage_per_hour_d</th>\n",
       "    </tr>\n",
       "  </thead>\n",
       "  <tbody>\n",
       "    <tr>\n",
       "      <th>0</th>\n",
       "      <td>0</td>\n",
       "      <td>0.0</td>\n",
       "    </tr>\n",
       "    <tr>\n",
       "      <th>1</th>\n",
       "      <td>0</td>\n",
       "      <td>0.0</td>\n",
       "    </tr>\n",
       "    <tr>\n",
       "      <th>2</th>\n",
       "      <td>0</td>\n",
       "      <td>0.0</td>\n",
       "    </tr>\n",
       "    <tr>\n",
       "      <th>3</th>\n",
       "      <td>0</td>\n",
       "      <td>0.0</td>\n",
       "    </tr>\n",
       "    <tr>\n",
       "      <th>4</th>\n",
       "      <td>0</td>\n",
       "      <td>0.0</td>\n",
       "    </tr>\n",
       "    <tr>\n",
       "      <th>5</th>\n",
       "      <td>1200</td>\n",
       "      <td>1.0</td>\n",
       "    </tr>\n",
       "  </tbody>\n",
       "</table>\n",
       "</div>"
      ],
      "text/plain": [
       "   wage_per_hour  wage_per_hour_d\n",
       "0              0              0.0\n",
       "1              0              0.0\n",
       "2              0              0.0\n",
       "3              0              0.0\n",
       "4              0              0.0\n",
       "5           1200              1.0"
      ]
     },
     "execution_count": 45,
     "metadata": {},
     "output_type": "execute_result"
    }
   ],
   "source": [
    "df_train_new[['wage_per_hour','wage_per_hour_d']].head(6)"
   ]
  },
  {
   "cell_type": "code",
   "execution_count": 46,
   "metadata": {
    "collapsed": true,
    "deletable": true,
    "editable": true
   },
   "outputs": [],
   "source": [
    "df_test_new['wage_per_hour_d']=(df_test_new.wage_per_hour!=0)*1.0\n",
    "df_test_new['capital_gains_d']=(df_test_new.capital_gains!=0)*1.0\n",
    "df_test_new['capital_losses_d']=(df_test_new.capital_losses!=0)*1.0\n",
    "df_test_new['dividend_from_Stocks_d']=(df_test_new.dividend_from_Stocks!=0)*1.0"
   ]
  },
  {
   "cell_type": "code",
   "execution_count": 47,
   "metadata": {
    "collapsed": false,
    "deletable": true,
    "editable": true
   },
   "outputs": [
    {
     "data": {
      "text/html": [
       "<div>\n",
       "<style scoped>\n",
       "    .dataframe tbody tr th:only-of-type {\n",
       "        vertical-align: middle;\n",
       "    }\n",
       "\n",
       "    .dataframe tbody tr th {\n",
       "        vertical-align: top;\n",
       "    }\n",
       "\n",
       "    .dataframe thead th {\n",
       "        text-align: right;\n",
       "    }\n",
       "</style>\n",
       "<table border=\"1\" class=\"dataframe\">\n",
       "  <thead>\n",
       "    <tr style=\"text-align: right;\">\n",
       "      <th></th>\n",
       "      <th>wage_per_hour</th>\n",
       "      <th>wage_per_hour_d</th>\n",
       "    </tr>\n",
       "  </thead>\n",
       "  <tbody>\n",
       "    <tr>\n",
       "      <th>0</th>\n",
       "      <td>0</td>\n",
       "      <td>0.0</td>\n",
       "    </tr>\n",
       "    <tr>\n",
       "      <th>1</th>\n",
       "      <td>0</td>\n",
       "      <td>0.0</td>\n",
       "    </tr>\n",
       "    <tr>\n",
       "      <th>2</th>\n",
       "      <td>0</td>\n",
       "      <td>0.0</td>\n",
       "    </tr>\n",
       "    <tr>\n",
       "      <th>3</th>\n",
       "      <td>0</td>\n",
       "      <td>0.0</td>\n",
       "    </tr>\n",
       "    <tr>\n",
       "      <th>4</th>\n",
       "      <td>0</td>\n",
       "      <td>0.0</td>\n",
       "    </tr>\n",
       "    <tr>\n",
       "      <th>5</th>\n",
       "      <td>0</td>\n",
       "      <td>0.0</td>\n",
       "    </tr>\n",
       "  </tbody>\n",
       "</table>\n",
       "</div>"
      ],
      "text/plain": [
       "   wage_per_hour  wage_per_hour_d\n",
       "0              0              0.0\n",
       "1              0              0.0\n",
       "2              0              0.0\n",
       "3              0              0.0\n",
       "4              0              0.0\n",
       "5              0              0.0"
      ]
     },
     "execution_count": 47,
     "metadata": {},
     "output_type": "execute_result"
    }
   ],
   "source": [
    "df_test_new[['wage_per_hour','wage_per_hour_d']].head(6)"
   ]
  },
  {
   "cell_type": "markdown",
   "metadata": {
    "deletable": true,
    "editable": true
   },
   "source": [
    "Now we will create final dataframe. Fisrt, we will remove the variables age, wage_per_hor, capital_gains, capital_losses and dividend_from_Stocks and keep the dummies we created before."
   ]
  },
  {
   "cell_type": "code",
   "execution_count": 48,
   "metadata": {
    "collapsed": true,
    "deletable": true,
    "editable": true
   },
   "outputs": [],
   "source": [
    "df_train_final=df_train_new.drop(['age','wage_per_hour','capital_gains','capital_losses',\n",
    "                                'dividend_from_Stocks'],axis=1)\n",
    "df_test_final=df_test_new.drop(['age','wage_per_hour','capital_gains','capital_losses',\n",
    "                                'dividend_from_Stocks'],axis=1)"
   ]
  },
  {
   "cell_type": "code",
   "execution_count": 49,
   "metadata": {
    "collapsed": false,
    "deletable": true,
    "editable": true
   },
   "outputs": [
    {
     "data": {
      "text/html": [
       "<div>\n",
       "<style scoped>\n",
       "    .dataframe tbody tr th:only-of-type {\n",
       "        vertical-align: middle;\n",
       "    }\n",
       "\n",
       "    .dataframe tbody tr th {\n",
       "        vertical-align: top;\n",
       "    }\n",
       "\n",
       "    .dataframe thead th {\n",
       "        text-align: right;\n",
       "    }\n",
       "</style>\n",
       "<table border=\"1\" class=\"dataframe\">\n",
       "  <thead>\n",
       "    <tr style=\"text-align: right;\">\n",
       "      <th></th>\n",
       "      <th>num_person_Worked_employer</th>\n",
       "      <th>citizenship</th>\n",
       "      <th>sex</th>\n",
       "      <th>full_parttime_employment_stat</th>\n",
       "      <th>year</th>\n",
       "      <th>education</th>\n",
       "      <th>enrolled_in_edu_inst_lastwk</th>\n",
       "      <th>live_1_year_ago</th>\n",
       "      <th>d_household_summary</th>\n",
       "      <th>occupation_code</th>\n",
       "      <th>...</th>\n",
       "      <th>business_or_self_employed</th>\n",
       "      <th>region_of_previous_residence</th>\n",
       "      <th>family_members_under_18</th>\n",
       "      <th>state_of_previous_residence</th>\n",
       "      <th>income_level</th>\n",
       "      <th>age_bin</th>\n",
       "      <th>wage_per_hour_d</th>\n",
       "      <th>capital_gains_d</th>\n",
       "      <th>capital_losses_d</th>\n",
       "      <th>dividend_from_Stocks_d</th>\n",
       "    </tr>\n",
       "  </thead>\n",
       "  <tbody>\n",
       "    <tr>\n",
       "      <th>0</th>\n",
       "      <td>0</td>\n",
       "      <td>Native- Born in the United States</td>\n",
       "      <td>Female</td>\n",
       "      <td>Not in labor force</td>\n",
       "      <td>95</td>\n",
       "      <td>High school graduate</td>\n",
       "      <td>Not in universe</td>\n",
       "      <td>Not in universe under 1 year old</td>\n",
       "      <td>Other relative of householder</td>\n",
       "      <td>0</td>\n",
       "      <td>...</td>\n",
       "      <td>0</td>\n",
       "      <td>Not in universe</td>\n",
       "      <td>Not in universe</td>\n",
       "      <td>Not in universe</td>\n",
       "      <td>0.0</td>\n",
       "      <td>old</td>\n",
       "      <td>0.0</td>\n",
       "      <td>0.0</td>\n",
       "      <td>0.0</td>\n",
       "      <td>0.0</td>\n",
       "    </tr>\n",
       "    <tr>\n",
       "      <th>1</th>\n",
       "      <td>1</td>\n",
       "      <td>Native- Born in the United States</td>\n",
       "      <td>Male</td>\n",
       "      <td>Children or Armed Forces</td>\n",
       "      <td>94</td>\n",
       "      <td>Some college but no degree</td>\n",
       "      <td>Not in universe</td>\n",
       "      <td>No</td>\n",
       "      <td>Householder</td>\n",
       "      <td>34</td>\n",
       "      <td>...</td>\n",
       "      <td>0</td>\n",
       "      <td>South</td>\n",
       "      <td>Not in universe</td>\n",
       "      <td>other</td>\n",
       "      <td>0.0</td>\n",
       "      <td>adult</td>\n",
       "      <td>0.0</td>\n",
       "      <td>0.0</td>\n",
       "      <td>0.0</td>\n",
       "      <td>0.0</td>\n",
       "    </tr>\n",
       "    <tr>\n",
       "      <th>2</th>\n",
       "      <td>0</td>\n",
       "      <td>Foreign born- Not a citizen of U S</td>\n",
       "      <td>Female</td>\n",
       "      <td>Not in labor force</td>\n",
       "      <td>95</td>\n",
       "      <td>10th grade</td>\n",
       "      <td>High school</td>\n",
       "      <td>Not in universe under 1 year old</td>\n",
       "      <td>Child 18 or older</td>\n",
       "      <td>0</td>\n",
       "      <td>...</td>\n",
       "      <td>0</td>\n",
       "      <td>Not in universe</td>\n",
       "      <td>Not in universe</td>\n",
       "      <td>Not in universe</td>\n",
       "      <td>0.0</td>\n",
       "      <td>young</td>\n",
       "      <td>0.0</td>\n",
       "      <td>0.0</td>\n",
       "      <td>0.0</td>\n",
       "      <td>0.0</td>\n",
       "    </tr>\n",
       "  </tbody>\n",
       "</table>\n",
       "<p>3 rows × 36 columns</p>\n",
       "</div>"
      ],
      "text/plain": [
       "   num_person_Worked_employer                         citizenship     sex  \\\n",
       "0                           0   Native- Born in the United States  Female   \n",
       "1                           1   Native- Born in the United States    Male   \n",
       "2                           0  Foreign born- Not a citizen of U S  Female   \n",
       "\n",
       "  full_parttime_employment_stat year                   education  \\\n",
       "0            Not in labor force   95        High school graduate   \n",
       "1      Children or Armed Forces   94  Some college but no degree   \n",
       "2            Not in labor force   95                  10th grade   \n",
       "\n",
       "  enrolled_in_edu_inst_lastwk                   live_1_year_ago  \\\n",
       "0             Not in universe  Not in universe under 1 year old   \n",
       "1             Not in universe                                No   \n",
       "2                 High school  Not in universe under 1 year old   \n",
       "\n",
       "             d_household_summary occupation_code          ...            \\\n",
       "0  Other relative of householder               0          ...             \n",
       "1                    Householder              34          ...             \n",
       "2              Child 18 or older               0          ...             \n",
       "\n",
       "  business_or_self_employed region_of_previous_residence  \\\n",
       "0                         0              Not in universe   \n",
       "1                         0                        South   \n",
       "2                         0              Not in universe   \n",
       "\n",
       "  family_members_under_18 state_of_previous_residence income_level age_bin  \\\n",
       "0         Not in universe             Not in universe          0.0     old   \n",
       "1         Not in universe                       other          0.0   adult   \n",
       "2         Not in universe             Not in universe          0.0   young   \n",
       "\n",
       "  wage_per_hour_d capital_gains_d capital_losses_d dividend_from_Stocks_d  \n",
       "0             0.0             0.0              0.0                    0.0  \n",
       "1             0.0             0.0              0.0                    0.0  \n",
       "2             0.0             0.0              0.0                    0.0  \n",
       "\n",
       "[3 rows x 36 columns]"
      ]
     },
     "execution_count": 49,
     "metadata": {},
     "output_type": "execute_result"
    },
    {
     "data": {
      "text/html": [
       "<div>\n",
       "<style scoped>\n",
       "    .dataframe tbody tr th:only-of-type {\n",
       "        vertical-align: middle;\n",
       "    }\n",
       "\n",
       "    .dataframe tbody tr th {\n",
       "        vertical-align: top;\n",
       "    }\n",
       "\n",
       "    .dataframe thead th {\n",
       "        text-align: right;\n",
       "    }\n",
       "</style>\n",
       "<table border=\"1\" class=\"dataframe\">\n",
       "  <thead>\n",
       "    <tr style=\"text-align: right;\">\n",
       "      <th></th>\n",
       "      <th>num_person_Worked_employer</th>\n",
       "      <th>citizenship</th>\n",
       "      <th>sex</th>\n",
       "      <th>full_parttime_employment_stat</th>\n",
       "      <th>year</th>\n",
       "      <th>education</th>\n",
       "      <th>enrolled_in_edu_inst_lastwk</th>\n",
       "      <th>live_1_year_ago</th>\n",
       "      <th>d_household_summary</th>\n",
       "      <th>occupation_code</th>\n",
       "      <th>...</th>\n",
       "      <th>business_or_self_employed</th>\n",
       "      <th>region_of_previous_residence</th>\n",
       "      <th>family_members_under_18</th>\n",
       "      <th>state_of_previous_residence</th>\n",
       "      <th>income_level</th>\n",
       "      <th>age_bin</th>\n",
       "      <th>wage_per_hour_d</th>\n",
       "      <th>capital_gains_d</th>\n",
       "      <th>capital_losses_d</th>\n",
       "      <th>dividend_from_Stocks_d</th>\n",
       "    </tr>\n",
       "  </thead>\n",
       "  <tbody>\n",
       "    <tr>\n",
       "      <th>0</th>\n",
       "      <td>4</td>\n",
       "      <td>Foreign born- Not a citizen of U S</td>\n",
       "      <td>Female</td>\n",
       "      <td>Full-time schedules</td>\n",
       "      <td>95</td>\n",
       "      <td>other</td>\n",
       "      <td>Not in universe</td>\n",
       "      <td>Not in universe under 1 year old</td>\n",
       "      <td>Spouse of householder</td>\n",
       "      <td>36</td>\n",
       "      <td>...</td>\n",
       "      <td>0</td>\n",
       "      <td>Not in universe</td>\n",
       "      <td>Not in universe</td>\n",
       "      <td>Not in universe</td>\n",
       "      <td>0.0</td>\n",
       "      <td>adult</td>\n",
       "      <td>0.0</td>\n",
       "      <td>0.0</td>\n",
       "      <td>0.0</td>\n",
       "      <td>0.0</td>\n",
       "    </tr>\n",
       "    <tr>\n",
       "      <th>1</th>\n",
       "      <td>1</td>\n",
       "      <td>Native- Born in the United States</td>\n",
       "      <td>Female</td>\n",
       "      <td>other</td>\n",
       "      <td>95</td>\n",
       "      <td>Associates degree-occup /vocational</td>\n",
       "      <td>Not in universe</td>\n",
       "      <td>Not in universe under 1 year old</td>\n",
       "      <td>Spouse of householder</td>\n",
       "      <td>other</td>\n",
       "      <td>...</td>\n",
       "      <td>0</td>\n",
       "      <td>Not in universe</td>\n",
       "      <td>Not in universe</td>\n",
       "      <td>Not in universe</td>\n",
       "      <td>0.0</td>\n",
       "      <td>adult</td>\n",
       "      <td>0.0</td>\n",
       "      <td>0.0</td>\n",
       "      <td>0.0</td>\n",
       "      <td>1.0</td>\n",
       "    </tr>\n",
       "    <tr>\n",
       "      <th>2</th>\n",
       "      <td>0</td>\n",
       "      <td>Native- Born in the United States</td>\n",
       "      <td>Male</td>\n",
       "      <td>Children or Armed Forces</td>\n",
       "      <td>95</td>\n",
       "      <td>Children</td>\n",
       "      <td>Not in universe</td>\n",
       "      <td>Not in universe under 1 year old</td>\n",
       "      <td>Child under 18 never married</td>\n",
       "      <td>0</td>\n",
       "      <td>...</td>\n",
       "      <td>0</td>\n",
       "      <td>Not in universe</td>\n",
       "      <td>Both parents present</td>\n",
       "      <td>Not in universe</td>\n",
       "      <td>0.0</td>\n",
       "      <td>young</td>\n",
       "      <td>0.0</td>\n",
       "      <td>0.0</td>\n",
       "      <td>0.0</td>\n",
       "      <td>0.0</td>\n",
       "    </tr>\n",
       "  </tbody>\n",
       "</table>\n",
       "<p>3 rows × 36 columns</p>\n",
       "</div>"
      ],
      "text/plain": [
       "   num_person_Worked_employer                         citizenship     sex  \\\n",
       "0                           4  Foreign born- Not a citizen of U S  Female   \n",
       "1                           1   Native- Born in the United States  Female   \n",
       "2                           0   Native- Born in the United States    Male   \n",
       "\n",
       "  full_parttime_employment_stat year                            education  \\\n",
       "0           Full-time schedules   95                                other   \n",
       "1                         other   95  Associates degree-occup /vocational   \n",
       "2      Children or Armed Forces   95                             Children   \n",
       "\n",
       "  enrolled_in_edu_inst_lastwk                   live_1_year_ago  \\\n",
       "0             Not in universe  Not in universe under 1 year old   \n",
       "1             Not in universe  Not in universe under 1 year old   \n",
       "2             Not in universe  Not in universe under 1 year old   \n",
       "\n",
       "            d_household_summary occupation_code          ...            \\\n",
       "0         Spouse of householder              36          ...             \n",
       "1         Spouse of householder           other          ...             \n",
       "2  Child under 18 never married               0          ...             \n",
       "\n",
       "  business_or_self_employed region_of_previous_residence  \\\n",
       "0                         0              Not in universe   \n",
       "1                         0              Not in universe   \n",
       "2                         0              Not in universe   \n",
       "\n",
       "  family_members_under_18 state_of_previous_residence income_level age_bin  \\\n",
       "0         Not in universe             Not in universe          0.0   adult   \n",
       "1         Not in universe             Not in universe          0.0   adult   \n",
       "2    Both parents present             Not in universe          0.0   young   \n",
       "\n",
       "  wage_per_hour_d capital_gains_d capital_losses_d dividend_from_Stocks_d  \n",
       "0             0.0             0.0              0.0                    0.0  \n",
       "1             0.0             0.0              0.0                    1.0  \n",
       "2             0.0             0.0              0.0                    0.0  \n",
       "\n",
       "[3 rows x 36 columns]"
      ]
     },
     "execution_count": 49,
     "metadata": {},
     "output_type": "execute_result"
    }
   ],
   "source": [
    "df_train_final.head(3)\n",
    "df_test_final.head(3)"
   ]
  },
  {
   "cell_type": "code",
   "execution_count": 108,
   "metadata": {
    "collapsed": true,
    "deletable": true,
    "editable": true
   },
   "outputs": [],
   "source": [
    "df_train_final.to_csv('df_train_final.csv')\n",
    "df_test_final.to_csv('df_test_final.csv')"
   ]
  },
  {
   "cell_type": "markdown",
   "metadata": {
    "deletable": true,
    "editable": true
   },
   "source": [
    "Now we need to transform the categorical variables into dummies. First we will get the list of binary variables:"
   ]
  },
  {
   "cell_type": "code",
   "execution_count": 50,
   "metadata": {
    "collapsed": false,
    "deletable": true,
    "editable": true
   },
   "outputs": [
    {
     "data": {
      "text/plain": [
       "['sex',\n",
       " 'year',\n",
       " 'reason_for_unemployment',\n",
       " 'fill_questionnaire_veteran_admin',\n",
       " 'state_of_previous_residence']"
      ]
     },
     "execution_count": 50,
     "metadata": {},
     "output_type": "execute_result"
    }
   ],
   "source": [
    "binary=[]\n",
    "\n",
    "for col in keep_cat:\n",
    "    \n",
    "    if len(df_train_final[col].value_counts())==2:\n",
    "        binary.append(col)\n",
    "\n",
    "binary  "
   ]
  },
  {
   "cell_type": "code",
   "execution_count": 51,
   "metadata": {
    "collapsed": false,
    "deletable": true,
    "editable": true
   },
   "outputs": [
    {
     "data": {
      "text/plain": [
       "['sex',\n",
       " 'year',\n",
       " 'reason_for_unemployment',\n",
       " 'fill_questionnaire_veteran_admin',\n",
       " 'state_of_previous_residence']"
      ]
     },
     "execution_count": 51,
     "metadata": {},
     "output_type": "execute_result"
    }
   ],
   "source": [
    "binary=[]\n",
    "\n",
    "for col in keep_cat:\n",
    "    \n",
    "    if len(df_test_final[col].value_counts())==2:\n",
    "        binary.append(col)\n",
    "\n",
    "binary  "
   ]
  },
  {
   "cell_type": "markdown",
   "metadata": {
    "deletable": true,
    "editable": true
   },
   "source": [
    "Now we will crate dummies for all the binary variables:"
   ]
  },
  {
   "cell_type": "code",
   "execution_count": 52,
   "metadata": {
    "collapsed": true,
    "deletable": true,
    "editable": true
   },
   "outputs": [],
   "source": [
    "for col in binary:\n",
    "    \n",
    "    df_train_final=pd.get_dummies(df_train_final,columns=[col],drop_first=True)"
   ]
  },
  {
   "cell_type": "code",
   "execution_count": 53,
   "metadata": {
    "collapsed": false,
    "deletable": true,
    "editable": true
   },
   "outputs": [
    {
     "data": {
      "text/html": [
       "<div>\n",
       "<style scoped>\n",
       "    .dataframe tbody tr th:only-of-type {\n",
       "        vertical-align: middle;\n",
       "    }\n",
       "\n",
       "    .dataframe tbody tr th {\n",
       "        vertical-align: top;\n",
       "    }\n",
       "\n",
       "    .dataframe thead th {\n",
       "        text-align: right;\n",
       "    }\n",
       "</style>\n",
       "<table border=\"1\" class=\"dataframe\">\n",
       "  <thead>\n",
       "    <tr style=\"text-align: right;\">\n",
       "      <th></th>\n",
       "      <th>num_person_Worked_employer</th>\n",
       "      <th>citizenship</th>\n",
       "      <th>full_parttime_employment_stat</th>\n",
       "      <th>education</th>\n",
       "      <th>enrolled_in_edu_inst_lastwk</th>\n",
       "      <th>live_1_year_ago</th>\n",
       "      <th>d_household_summary</th>\n",
       "      <th>occupation_code</th>\n",
       "      <th>industry_code</th>\n",
       "      <th>country_mother</th>\n",
       "      <th>...</th>\n",
       "      <th>age_bin</th>\n",
       "      <th>wage_per_hour_d</th>\n",
       "      <th>capital_gains_d</th>\n",
       "      <th>capital_losses_d</th>\n",
       "      <th>dividend_from_Stocks_d</th>\n",
       "      <th>sex_Male</th>\n",
       "      <th>year_95</th>\n",
       "      <th>reason_for_unemployment_other</th>\n",
       "      <th>fill_questionnaire_veteran_admin_other</th>\n",
       "      <th>state_of_previous_residence_other</th>\n",
       "    </tr>\n",
       "  </thead>\n",
       "  <tbody>\n",
       "    <tr>\n",
       "      <th>0</th>\n",
       "      <td>0</td>\n",
       "      <td>Native- Born in the United States</td>\n",
       "      <td>Not in labor force</td>\n",
       "      <td>High school graduate</td>\n",
       "      <td>Not in universe</td>\n",
       "      <td>Not in universe under 1 year old</td>\n",
       "      <td>Other relative of householder</td>\n",
       "      <td>0</td>\n",
       "      <td>0</td>\n",
       "      <td>United-States</td>\n",
       "      <td>...</td>\n",
       "      <td>old</td>\n",
       "      <td>0.0</td>\n",
       "      <td>0.0</td>\n",
       "      <td>0.0</td>\n",
       "      <td>0.0</td>\n",
       "      <td>0</td>\n",
       "      <td>1</td>\n",
       "      <td>0</td>\n",
       "      <td>0</td>\n",
       "      <td>0</td>\n",
       "    </tr>\n",
       "    <tr>\n",
       "      <th>1</th>\n",
       "      <td>1</td>\n",
       "      <td>Native- Born in the United States</td>\n",
       "      <td>Children or Armed Forces</td>\n",
       "      <td>Some college but no degree</td>\n",
       "      <td>Not in universe</td>\n",
       "      <td>No</td>\n",
       "      <td>Householder</td>\n",
       "      <td>34</td>\n",
       "      <td>4</td>\n",
       "      <td>United-States</td>\n",
       "      <td>...</td>\n",
       "      <td>adult</td>\n",
       "      <td>0.0</td>\n",
       "      <td>0.0</td>\n",
       "      <td>0.0</td>\n",
       "      <td>0.0</td>\n",
       "      <td>1</td>\n",
       "      <td>0</td>\n",
       "      <td>0</td>\n",
       "      <td>0</td>\n",
       "      <td>1</td>\n",
       "    </tr>\n",
       "    <tr>\n",
       "      <th>2</th>\n",
       "      <td>0</td>\n",
       "      <td>Foreign born- Not a citizen of U S</td>\n",
       "      <td>Not in labor force</td>\n",
       "      <td>10th grade</td>\n",
       "      <td>High school</td>\n",
       "      <td>Not in universe under 1 year old</td>\n",
       "      <td>Child 18 or older</td>\n",
       "      <td>0</td>\n",
       "      <td>0</td>\n",
       "      <td>other</td>\n",
       "      <td>...</td>\n",
       "      <td>young</td>\n",
       "      <td>0.0</td>\n",
       "      <td>0.0</td>\n",
       "      <td>0.0</td>\n",
       "      <td>0.0</td>\n",
       "      <td>0</td>\n",
       "      <td>1</td>\n",
       "      <td>0</td>\n",
       "      <td>0</td>\n",
       "      <td>0</td>\n",
       "    </tr>\n",
       "  </tbody>\n",
       "</table>\n",
       "<p>3 rows × 36 columns</p>\n",
       "</div>"
      ],
      "text/plain": [
       "   num_person_Worked_employer                         citizenship  \\\n",
       "0                           0   Native- Born in the United States   \n",
       "1                           1   Native- Born in the United States   \n",
       "2                           0  Foreign born- Not a citizen of U S   \n",
       "\n",
       "  full_parttime_employment_stat                   education  \\\n",
       "0            Not in labor force        High school graduate   \n",
       "1      Children or Armed Forces  Some college but no degree   \n",
       "2            Not in labor force                  10th grade   \n",
       "\n",
       "  enrolled_in_edu_inst_lastwk                   live_1_year_ago  \\\n",
       "0             Not in universe  Not in universe under 1 year old   \n",
       "1             Not in universe                                No   \n",
       "2                 High school  Not in universe under 1 year old   \n",
       "\n",
       "             d_household_summary occupation_code industry_code country_mother  \\\n",
       "0  Other relative of householder               0             0  United-States   \n",
       "1                    Householder              34             4  United-States   \n",
       "2              Child 18 or older               0             0          other   \n",
       "\n",
       "                 ...                age_bin wage_per_hour_d capital_gains_d  \\\n",
       "0                ...                    old             0.0             0.0   \n",
       "1                ...                  adult             0.0             0.0   \n",
       "2                ...                  young             0.0             0.0   \n",
       "\n",
       "  capital_losses_d dividend_from_Stocks_d sex_Male year_95  \\\n",
       "0              0.0                    0.0        0       1   \n",
       "1              0.0                    0.0        1       0   \n",
       "2              0.0                    0.0        0       1   \n",
       "\n",
       "  reason_for_unemployment_other fill_questionnaire_veteran_admin_other  \\\n",
       "0                             0                                      0   \n",
       "1                             0                                      0   \n",
       "2                             0                                      0   \n",
       "\n",
       "  state_of_previous_residence_other  \n",
       "0                                 0  \n",
       "1                                 1  \n",
       "2                                 0  \n",
       "\n",
       "[3 rows x 36 columns]"
      ]
     },
     "execution_count": 53,
     "metadata": {},
     "output_type": "execute_result"
    }
   ],
   "source": [
    "df_train_final.head(3)"
   ]
  },
  {
   "cell_type": "code",
   "execution_count": 54,
   "metadata": {
    "collapsed": true,
    "deletable": true,
    "editable": true
   },
   "outputs": [],
   "source": [
    "for col in binary:\n",
    "    \n",
    "    df_test_final=pd.get_dummies(df_test_final,columns=[col],drop_first=True)"
   ]
  },
  {
   "cell_type": "code",
   "execution_count": 55,
   "metadata": {
    "collapsed": false,
    "deletable": true,
    "editable": true
   },
   "outputs": [
    {
     "data": {
      "text/html": [
       "<div>\n",
       "<style scoped>\n",
       "    .dataframe tbody tr th:only-of-type {\n",
       "        vertical-align: middle;\n",
       "    }\n",
       "\n",
       "    .dataframe tbody tr th {\n",
       "        vertical-align: top;\n",
       "    }\n",
       "\n",
       "    .dataframe thead th {\n",
       "        text-align: right;\n",
       "    }\n",
       "</style>\n",
       "<table border=\"1\" class=\"dataframe\">\n",
       "  <thead>\n",
       "    <tr style=\"text-align: right;\">\n",
       "      <th></th>\n",
       "      <th>num_person_Worked_employer</th>\n",
       "      <th>citizenship</th>\n",
       "      <th>full_parttime_employment_stat</th>\n",
       "      <th>education</th>\n",
       "      <th>enrolled_in_edu_inst_lastwk</th>\n",
       "      <th>live_1_year_ago</th>\n",
       "      <th>d_household_summary</th>\n",
       "      <th>occupation_code</th>\n",
       "      <th>industry_code</th>\n",
       "      <th>country_mother</th>\n",
       "      <th>...</th>\n",
       "      <th>age_bin</th>\n",
       "      <th>wage_per_hour_d</th>\n",
       "      <th>capital_gains_d</th>\n",
       "      <th>capital_losses_d</th>\n",
       "      <th>dividend_from_Stocks_d</th>\n",
       "      <th>sex_Male</th>\n",
       "      <th>year_95</th>\n",
       "      <th>reason_for_unemployment_other</th>\n",
       "      <th>fill_questionnaire_veteran_admin_other</th>\n",
       "      <th>state_of_previous_residence_other</th>\n",
       "    </tr>\n",
       "  </thead>\n",
       "  <tbody>\n",
       "    <tr>\n",
       "      <th>0</th>\n",
       "      <td>4</td>\n",
       "      <td>Foreign born- Not a citizen of U S</td>\n",
       "      <td>Full-time schedules</td>\n",
       "      <td>other</td>\n",
       "      <td>Not in universe</td>\n",
       "      <td>Not in universe under 1 year old</td>\n",
       "      <td>Spouse of householder</td>\n",
       "      <td>36</td>\n",
       "      <td>other</td>\n",
       "      <td>Mexico</td>\n",
       "      <td>...</td>\n",
       "      <td>adult</td>\n",
       "      <td>0.0</td>\n",
       "      <td>0.0</td>\n",
       "      <td>0.0</td>\n",
       "      <td>0.0</td>\n",
       "      <td>0</td>\n",
       "      <td>1</td>\n",
       "      <td>0</td>\n",
       "      <td>0</td>\n",
       "      <td>0</td>\n",
       "    </tr>\n",
       "    <tr>\n",
       "      <th>1</th>\n",
       "      <td>1</td>\n",
       "      <td>Native- Born in the United States</td>\n",
       "      <td>other</td>\n",
       "      <td>Associates degree-occup /vocational</td>\n",
       "      <td>Not in universe</td>\n",
       "      <td>Not in universe under 1 year old</td>\n",
       "      <td>Spouse of householder</td>\n",
       "      <td>other</td>\n",
       "      <td>37</td>\n",
       "      <td>United-States</td>\n",
       "      <td>...</td>\n",
       "      <td>adult</td>\n",
       "      <td>0.0</td>\n",
       "      <td>0.0</td>\n",
       "      <td>0.0</td>\n",
       "      <td>1.0</td>\n",
       "      <td>0</td>\n",
       "      <td>1</td>\n",
       "      <td>0</td>\n",
       "      <td>0</td>\n",
       "      <td>0</td>\n",
       "    </tr>\n",
       "    <tr>\n",
       "      <th>2</th>\n",
       "      <td>0</td>\n",
       "      <td>Native- Born in the United States</td>\n",
       "      <td>Children or Armed Forces</td>\n",
       "      <td>Children</td>\n",
       "      <td>Not in universe</td>\n",
       "      <td>Not in universe under 1 year old</td>\n",
       "      <td>Child under 18 never married</td>\n",
       "      <td>0</td>\n",
       "      <td>0</td>\n",
       "      <td>United-States</td>\n",
       "      <td>...</td>\n",
       "      <td>young</td>\n",
       "      <td>0.0</td>\n",
       "      <td>0.0</td>\n",
       "      <td>0.0</td>\n",
       "      <td>0.0</td>\n",
       "      <td>1</td>\n",
       "      <td>1</td>\n",
       "      <td>0</td>\n",
       "      <td>0</td>\n",
       "      <td>0</td>\n",
       "    </tr>\n",
       "  </tbody>\n",
       "</table>\n",
       "<p>3 rows × 36 columns</p>\n",
       "</div>"
      ],
      "text/plain": [
       "   num_person_Worked_employer                         citizenship  \\\n",
       "0                           4  Foreign born- Not a citizen of U S   \n",
       "1                           1   Native- Born in the United States   \n",
       "2                           0   Native- Born in the United States   \n",
       "\n",
       "  full_parttime_employment_stat                            education  \\\n",
       "0           Full-time schedules                                other   \n",
       "1                         other  Associates degree-occup /vocational   \n",
       "2      Children or Armed Forces                             Children   \n",
       "\n",
       "  enrolled_in_edu_inst_lastwk                   live_1_year_ago  \\\n",
       "0             Not in universe  Not in universe under 1 year old   \n",
       "1             Not in universe  Not in universe under 1 year old   \n",
       "2             Not in universe  Not in universe under 1 year old   \n",
       "\n",
       "            d_household_summary occupation_code industry_code country_mother  \\\n",
       "0         Spouse of householder              36         other         Mexico   \n",
       "1         Spouse of householder           other            37  United-States   \n",
       "2  Child under 18 never married               0             0  United-States   \n",
       "\n",
       "                 ...                age_bin wage_per_hour_d capital_gains_d  \\\n",
       "0                ...                  adult             0.0             0.0   \n",
       "1                ...                  adult             0.0             0.0   \n",
       "2                ...                  young             0.0             0.0   \n",
       "\n",
       "  capital_losses_d dividend_from_Stocks_d sex_Male year_95  \\\n",
       "0              0.0                    0.0        0       1   \n",
       "1              0.0                    1.0        0       1   \n",
       "2              0.0                    0.0        1       1   \n",
       "\n",
       "  reason_for_unemployment_other fill_questionnaire_veteran_admin_other  \\\n",
       "0                             0                                      0   \n",
       "1                             0                                      0   \n",
       "2                             0                                      0   \n",
       "\n",
       "  state_of_previous_residence_other  \n",
       "0                                 0  \n",
       "1                                 0  \n",
       "2                                 0  \n",
       "\n",
       "[3 rows x 36 columns]"
      ]
     },
     "execution_count": 55,
     "metadata": {},
     "output_type": "execute_result"
    }
   ],
   "source": [
    "df_test_final.head(3)"
   ]
  },
  {
   "cell_type": "markdown",
   "metadata": {
    "deletable": true,
    "editable": true
   },
   "source": [
    "Now, we will create dummies for the rest of the categorical variables:"
   ]
  },
  {
   "cell_type": "code",
   "execution_count": 56,
   "metadata": {
    "collapsed": true,
    "deletable": true,
    "editable": true
   },
   "outputs": [],
   "source": [
    "df_train_final=pd.get_dummies(df_train_final)\n",
    "df_test_final=pd.get_dummies(df_test_final)"
   ]
  },
  {
   "cell_type": "code",
   "execution_count": 57,
   "metadata": {
    "collapsed": false,
    "deletable": true,
    "editable": true
   },
   "outputs": [
    {
     "data": {
      "text/html": [
       "<div>\n",
       "<style scoped>\n",
       "    .dataframe tbody tr th:only-of-type {\n",
       "        vertical-align: middle;\n",
       "    }\n",
       "\n",
       "    .dataframe tbody tr th {\n",
       "        vertical-align: top;\n",
       "    }\n",
       "\n",
       "    .dataframe thead th {\n",
       "        text-align: right;\n",
       "    }\n",
       "</style>\n",
       "<table border=\"1\" class=\"dataframe\">\n",
       "  <thead>\n",
       "    <tr style=\"text-align: right;\">\n",
       "      <th></th>\n",
       "      <th>num_person_Worked_employer</th>\n",
       "      <th>income_level</th>\n",
       "      <th>wage_per_hour_d</th>\n",
       "      <th>capital_gains_d</th>\n",
       "      <th>capital_losses_d</th>\n",
       "      <th>dividend_from_Stocks_d</th>\n",
       "      <th>sex_Male</th>\n",
       "      <th>year_95</th>\n",
       "      <th>reason_for_unemployment_other</th>\n",
       "      <th>fill_questionnaire_veteran_admin_other</th>\n",
       "      <th>...</th>\n",
       "      <th>region_of_previous_residence_South</th>\n",
       "      <th>region_of_previous_residence_West</th>\n",
       "      <th>region_of_previous_residence_other</th>\n",
       "      <th>family_members_under_18_Both parents present</th>\n",
       "      <th>family_members_under_18_Mother only present</th>\n",
       "      <th>family_members_under_18_Not in universe</th>\n",
       "      <th>family_members_under_18_other</th>\n",
       "      <th>age_bin_young</th>\n",
       "      <th>age_bin_adult</th>\n",
       "      <th>age_bin_old</th>\n",
       "    </tr>\n",
       "  </thead>\n",
       "  <tbody>\n",
       "    <tr>\n",
       "      <th>0</th>\n",
       "      <td>0</td>\n",
       "      <td>0.0</td>\n",
       "      <td>0.0</td>\n",
       "      <td>0.0</td>\n",
       "      <td>0.0</td>\n",
       "      <td>0.0</td>\n",
       "      <td>0</td>\n",
       "      <td>1</td>\n",
       "      <td>0</td>\n",
       "      <td>0</td>\n",
       "      <td>...</td>\n",
       "      <td>0</td>\n",
       "      <td>0</td>\n",
       "      <td>0</td>\n",
       "      <td>0</td>\n",
       "      <td>0</td>\n",
       "      <td>1</td>\n",
       "      <td>0</td>\n",
       "      <td>0</td>\n",
       "      <td>0</td>\n",
       "      <td>1</td>\n",
       "    </tr>\n",
       "    <tr>\n",
       "      <th>1</th>\n",
       "      <td>1</td>\n",
       "      <td>0.0</td>\n",
       "      <td>0.0</td>\n",
       "      <td>0.0</td>\n",
       "      <td>0.0</td>\n",
       "      <td>0.0</td>\n",
       "      <td>1</td>\n",
       "      <td>0</td>\n",
       "      <td>0</td>\n",
       "      <td>0</td>\n",
       "      <td>...</td>\n",
       "      <td>1</td>\n",
       "      <td>0</td>\n",
       "      <td>0</td>\n",
       "      <td>0</td>\n",
       "      <td>0</td>\n",
       "      <td>1</td>\n",
       "      <td>0</td>\n",
       "      <td>0</td>\n",
       "      <td>1</td>\n",
       "      <td>0</td>\n",
       "    </tr>\n",
       "    <tr>\n",
       "      <th>2</th>\n",
       "      <td>0</td>\n",
       "      <td>0.0</td>\n",
       "      <td>0.0</td>\n",
       "      <td>0.0</td>\n",
       "      <td>0.0</td>\n",
       "      <td>0.0</td>\n",
       "      <td>0</td>\n",
       "      <td>1</td>\n",
       "      <td>0</td>\n",
       "      <td>0</td>\n",
       "      <td>...</td>\n",
       "      <td>0</td>\n",
       "      <td>0</td>\n",
       "      <td>0</td>\n",
       "      <td>0</td>\n",
       "      <td>0</td>\n",
       "      <td>1</td>\n",
       "      <td>0</td>\n",
       "      <td>1</td>\n",
       "      <td>0</td>\n",
       "      <td>0</td>\n",
       "    </tr>\n",
       "  </tbody>\n",
       "</table>\n",
       "<p>3 rows × 148 columns</p>\n",
       "</div>"
      ],
      "text/plain": [
       "   num_person_Worked_employer  income_level  wage_per_hour_d  capital_gains_d  \\\n",
       "0                           0           0.0              0.0              0.0   \n",
       "1                           1           0.0              0.0              0.0   \n",
       "2                           0           0.0              0.0              0.0   \n",
       "\n",
       "   capital_losses_d  dividend_from_Stocks_d  sex_Male  year_95  \\\n",
       "0               0.0                     0.0         0        1   \n",
       "1               0.0                     0.0         1        0   \n",
       "2               0.0                     0.0         0        1   \n",
       "\n",
       "   reason_for_unemployment_other  fill_questionnaire_veteran_admin_other  \\\n",
       "0                              0                                       0   \n",
       "1                              0                                       0   \n",
       "2                              0                                       0   \n",
       "\n",
       "      ...       region_of_previous_residence_South  \\\n",
       "0     ...                                        0   \n",
       "1     ...                                        1   \n",
       "2     ...                                        0   \n",
       "\n",
       "   region_of_previous_residence_West  region_of_previous_residence_other  \\\n",
       "0                                  0                                   0   \n",
       "1                                  0                                   0   \n",
       "2                                  0                                   0   \n",
       "\n",
       "   family_members_under_18_Both parents present  \\\n",
       "0                                             0   \n",
       "1                                             0   \n",
       "2                                             0   \n",
       "\n",
       "   family_members_under_18_Mother only present  \\\n",
       "0                                            0   \n",
       "1                                            0   \n",
       "2                                            0   \n",
       "\n",
       "   family_members_under_18_Not in universe  family_members_under_18_other  \\\n",
       "0                                        1                              0   \n",
       "1                                        1                              0   \n",
       "2                                        1                              0   \n",
       "\n",
       "   age_bin_young  age_bin_adult  age_bin_old  \n",
       "0              0              0            1  \n",
       "1              0              1            0  \n",
       "2              1              0            0  \n",
       "\n",
       "[3 rows x 148 columns]"
      ]
     },
     "execution_count": 57,
     "metadata": {},
     "output_type": "execute_result"
    },
    {
     "data": {
      "text/html": [
       "<div>\n",
       "<style scoped>\n",
       "    .dataframe tbody tr th:only-of-type {\n",
       "        vertical-align: middle;\n",
       "    }\n",
       "\n",
       "    .dataframe tbody tr th {\n",
       "        vertical-align: top;\n",
       "    }\n",
       "\n",
       "    .dataframe thead th {\n",
       "        text-align: right;\n",
       "    }\n",
       "</style>\n",
       "<table border=\"1\" class=\"dataframe\">\n",
       "  <thead>\n",
       "    <tr style=\"text-align: right;\">\n",
       "      <th></th>\n",
       "      <th>num_person_Worked_employer</th>\n",
       "      <th>income_level</th>\n",
       "      <th>wage_per_hour_d</th>\n",
       "      <th>capital_gains_d</th>\n",
       "      <th>capital_losses_d</th>\n",
       "      <th>dividend_from_Stocks_d</th>\n",
       "      <th>sex_Male</th>\n",
       "      <th>year_95</th>\n",
       "      <th>reason_for_unemployment_other</th>\n",
       "      <th>fill_questionnaire_veteran_admin_other</th>\n",
       "      <th>...</th>\n",
       "      <th>region_of_previous_residence_South</th>\n",
       "      <th>region_of_previous_residence_West</th>\n",
       "      <th>region_of_previous_residence_other</th>\n",
       "      <th>family_members_under_18_Both parents present</th>\n",
       "      <th>family_members_under_18_Mother only present</th>\n",
       "      <th>family_members_under_18_Not in universe</th>\n",
       "      <th>family_members_under_18_other</th>\n",
       "      <th>age_bin_young</th>\n",
       "      <th>age_bin_adult</th>\n",
       "      <th>age_bin_old</th>\n",
       "    </tr>\n",
       "  </thead>\n",
       "  <tbody>\n",
       "    <tr>\n",
       "      <th>0</th>\n",
       "      <td>4</td>\n",
       "      <td>0.0</td>\n",
       "      <td>0.0</td>\n",
       "      <td>0.0</td>\n",
       "      <td>0.0</td>\n",
       "      <td>0.0</td>\n",
       "      <td>0</td>\n",
       "      <td>1</td>\n",
       "      <td>0</td>\n",
       "      <td>0</td>\n",
       "      <td>...</td>\n",
       "      <td>0</td>\n",
       "      <td>0</td>\n",
       "      <td>0</td>\n",
       "      <td>0</td>\n",
       "      <td>0</td>\n",
       "      <td>1</td>\n",
       "      <td>0</td>\n",
       "      <td>0</td>\n",
       "      <td>1</td>\n",
       "      <td>0</td>\n",
       "    </tr>\n",
       "    <tr>\n",
       "      <th>1</th>\n",
       "      <td>1</td>\n",
       "      <td>0.0</td>\n",
       "      <td>0.0</td>\n",
       "      <td>0.0</td>\n",
       "      <td>0.0</td>\n",
       "      <td>1.0</td>\n",
       "      <td>0</td>\n",
       "      <td>1</td>\n",
       "      <td>0</td>\n",
       "      <td>0</td>\n",
       "      <td>...</td>\n",
       "      <td>0</td>\n",
       "      <td>0</td>\n",
       "      <td>0</td>\n",
       "      <td>0</td>\n",
       "      <td>0</td>\n",
       "      <td>1</td>\n",
       "      <td>0</td>\n",
       "      <td>0</td>\n",
       "      <td>1</td>\n",
       "      <td>0</td>\n",
       "    </tr>\n",
       "    <tr>\n",
       "      <th>2</th>\n",
       "      <td>0</td>\n",
       "      <td>0.0</td>\n",
       "      <td>0.0</td>\n",
       "      <td>0.0</td>\n",
       "      <td>0.0</td>\n",
       "      <td>0.0</td>\n",
       "      <td>1</td>\n",
       "      <td>1</td>\n",
       "      <td>0</td>\n",
       "      <td>0</td>\n",
       "      <td>...</td>\n",
       "      <td>0</td>\n",
       "      <td>0</td>\n",
       "      <td>0</td>\n",
       "      <td>1</td>\n",
       "      <td>0</td>\n",
       "      <td>0</td>\n",
       "      <td>0</td>\n",
       "      <td>1</td>\n",
       "      <td>0</td>\n",
       "      <td>0</td>\n",
       "    </tr>\n",
       "  </tbody>\n",
       "</table>\n",
       "<p>3 rows × 148 columns</p>\n",
       "</div>"
      ],
      "text/plain": [
       "   num_person_Worked_employer  income_level  wage_per_hour_d  capital_gains_d  \\\n",
       "0                           4           0.0              0.0              0.0   \n",
       "1                           1           0.0              0.0              0.0   \n",
       "2                           0           0.0              0.0              0.0   \n",
       "\n",
       "   capital_losses_d  dividend_from_Stocks_d  sex_Male  year_95  \\\n",
       "0               0.0                     0.0         0        1   \n",
       "1               0.0                     1.0         0        1   \n",
       "2               0.0                     0.0         1        1   \n",
       "\n",
       "   reason_for_unemployment_other  fill_questionnaire_veteran_admin_other  \\\n",
       "0                              0                                       0   \n",
       "1                              0                                       0   \n",
       "2                              0                                       0   \n",
       "\n",
       "      ...       region_of_previous_residence_South  \\\n",
       "0     ...                                        0   \n",
       "1     ...                                        0   \n",
       "2     ...                                        0   \n",
       "\n",
       "   region_of_previous_residence_West  region_of_previous_residence_other  \\\n",
       "0                                  0                                   0   \n",
       "1                                  0                                   0   \n",
       "2                                  0                                   0   \n",
       "\n",
       "   family_members_under_18_Both parents present  \\\n",
       "0                                             0   \n",
       "1                                             0   \n",
       "2                                             1   \n",
       "\n",
       "   family_members_under_18_Mother only present  \\\n",
       "0                                            0   \n",
       "1                                            0   \n",
       "2                                            0   \n",
       "\n",
       "   family_members_under_18_Not in universe  family_members_under_18_other  \\\n",
       "0                                        1                              0   \n",
       "1                                        1                              0   \n",
       "2                                        0                              0   \n",
       "\n",
       "   age_bin_young  age_bin_adult  age_bin_old  \n",
       "0              0              1            0  \n",
       "1              0              1            0  \n",
       "2              1              0            0  \n",
       "\n",
       "[3 rows x 148 columns]"
      ]
     },
     "execution_count": 57,
     "metadata": {},
     "output_type": "execute_result"
    }
   ],
   "source": [
    "df_train_final.head(3)\n",
    "df_test_final.head(3)"
   ]
  },
  {
   "cell_type": "code",
   "execution_count": 58,
   "metadata": {
    "collapsed": false,
    "deletable": true,
    "editable": true
   },
   "outputs": [
    {
     "data": {
      "text/plain": [
       "['num_person_Worked_employer',\n",
       " 'income_level',\n",
       " 'wage_per_hour_d',\n",
       " 'capital_gains_d',\n",
       " 'capital_losses_d',\n",
       " 'dividend_from_Stocks_d',\n",
       " 'sex_Male',\n",
       " 'year_95',\n",
       " 'reason_for_unemployment_other',\n",
       " 'fill_questionnaire_veteran_admin_other',\n",
       " 'state_of_previous_residence_other',\n",
       " 'citizenship_Foreign born- Not a citizen of U S',\n",
       " 'citizenship_Foreign born- U S citizen by naturalization',\n",
       " 'citizenship_Native- Born in the United States',\n",
       " 'citizenship_other',\n",
       " 'full_parttime_employment_stat_Children or Armed Forces',\n",
       " 'full_parttime_employment_stat_Full-time schedules',\n",
       " 'full_parttime_employment_stat_Not in labor force',\n",
       " 'full_parttime_employment_stat_other',\n",
       " 'education_10th grade',\n",
       " 'education_11th grade',\n",
       " 'education_7th and 8th grade',\n",
       " 'education_9th grade',\n",
       " 'education_Associates degree-academic program',\n",
       " 'education_Associates degree-occup /vocational',\n",
       " 'education_Bachelors degree(BA AB BS)',\n",
       " 'education_Children',\n",
       " 'education_High school graduate',\n",
       " 'education_Masters degree(MA MS MEng MEd MSW MBA)',\n",
       " 'education_Some college but no degree',\n",
       " 'education_other',\n",
       " 'enrolled_in_edu_inst_lastwk_College or university',\n",
       " 'enrolled_in_edu_inst_lastwk_High school',\n",
       " 'enrolled_in_edu_inst_lastwk_Not in universe',\n",
       " 'live_1_year_ago_No',\n",
       " 'live_1_year_ago_Not in universe under 1 year old',\n",
       " 'live_1_year_ago_Yes',\n",
       " 'd_household_summary_Child 18 or older',\n",
       " 'd_household_summary_Child under 18 never married',\n",
       " 'd_household_summary_Householder',\n",
       " 'd_household_summary_Nonrelative of householder',\n",
       " 'd_household_summary_Other relative of householder',\n",
       " 'd_household_summary_Spouse of householder',\n",
       " 'd_household_summary_other',\n",
       " 'occupation_code_0',\n",
       " 'occupation_code_19',\n",
       " 'occupation_code_2',\n",
       " 'occupation_code_26',\n",
       " 'occupation_code_29',\n",
       " 'occupation_code_34',\n",
       " 'occupation_code_36',\n",
       " 'occupation_code_other',\n",
       " 'industry_code_0',\n",
       " 'industry_code_29',\n",
       " 'industry_code_33',\n",
       " 'industry_code_37',\n",
       " 'industry_code_4',\n",
       " 'industry_code_42',\n",
       " 'industry_code_43',\n",
       " 'industry_code_45',\n",
       " 'industry_code_other',\n",
       " 'country_mother_Mexico',\n",
       " 'country_mother_United-States',\n",
       " 'country_mother_no data',\n",
       " 'country_mother_other',\n",
       " 'member_of_labor_union_No',\n",
       " 'member_of_labor_union_Not in universe',\n",
       " 'member_of_labor_union_other',\n",
       " 'major_industry_code_Business and repair services',\n",
       " 'major_industry_code_Construction',\n",
       " 'major_industry_code_Education',\n",
       " 'major_industry_code_Finance insurance and real estate',\n",
       " 'major_industry_code_Manufacturing-durable goods',\n",
       " 'major_industry_code_Manufacturing-nondurable goods',\n",
       " 'major_industry_code_Medical except hospital',\n",
       " 'major_industry_code_Not in universe or children',\n",
       " 'major_industry_code_Other professional services',\n",
       " 'major_industry_code_Public administration',\n",
       " 'major_industry_code_Retail trade',\n",
       " 'major_industry_code_Transportation',\n",
       " 'major_industry_code_other',\n",
       " 'hispanic_origin_All other',\n",
       " 'hispanic_origin_Mexican (Mexicano)',\n",
       " 'hispanic_origin_Mexican-American',\n",
       " 'hispanic_origin_other',\n",
       " 'veterans_benefits_0',\n",
       " 'veterans_benefits_2',\n",
       " 'veterans_benefits_other',\n",
       " 'tax_filer_status_Head of household',\n",
       " 'tax_filer_status_Joint both 65+',\n",
       " 'tax_filer_status_Joint both under 65',\n",
       " 'tax_filer_status_Nonfiler',\n",
       " 'tax_filer_status_Single',\n",
       " 'tax_filer_status_other',\n",
       " 'country_self_Mexico',\n",
       " 'country_self_United-States',\n",
       " 'country_self_other',\n",
       " 'country_father_Mexico',\n",
       " 'country_father_United-States',\n",
       " 'country_father_no data',\n",
       " 'country_father_other',\n",
       " 'marital_status_Divorced',\n",
       " 'marital_status_Married-civilian spouse present',\n",
       " 'marital_status_Never married',\n",
       " 'marital_status_Widowed',\n",
       " 'marital_status_other',\n",
       " 'd_household_family_stat_Child 18+ never marr Not in a subfamily',\n",
       " 'd_household_family_stat_Child <18 never marr not in subfamily',\n",
       " 'd_household_family_stat_Householder',\n",
       " 'd_household_family_stat_Nonfamily householder',\n",
       " 'd_household_family_stat_Secondary individual',\n",
       " 'd_household_family_stat_Spouse of householder',\n",
       " 'd_household_family_stat_other',\n",
       " 'major_occupation_code_Adm support including clerical',\n",
       " 'major_occupation_code_Executive admin and managerial',\n",
       " 'major_occupation_code_Handlers equip cleaners etc',\n",
       " 'major_occupation_code_Machine operators assmblrs & inspctrs',\n",
       " 'major_occupation_code_Not in universe',\n",
       " 'major_occupation_code_Other service',\n",
       " 'major_occupation_code_Precision production craft & repair',\n",
       " 'major_occupation_code_Professional specialty',\n",
       " 'major_occupation_code_Sales',\n",
       " 'major_occupation_code_Transportation and material moving',\n",
       " 'major_occupation_code_other',\n",
       " 'class_of_worker_Local government',\n",
       " 'class_of_worker_Not in universe',\n",
       " 'class_of_worker_Private',\n",
       " 'class_of_worker_Self-employed-not incorporated',\n",
       " 'class_of_worker_State government',\n",
       " 'class_of_worker_other',\n",
       " 'race_Asian or Pacific Islander',\n",
       " 'race_Black',\n",
       " 'race_White',\n",
       " 'race_other',\n",
       " 'business_or_self_employed_0',\n",
       " 'business_or_self_employed_2',\n",
       " 'business_or_self_employed_other',\n",
       " 'region_of_previous_residence_Not in universe',\n",
       " 'region_of_previous_residence_South',\n",
       " 'region_of_previous_residence_West',\n",
       " 'region_of_previous_residence_other',\n",
       " 'family_members_under_18_Both parents present',\n",
       " 'family_members_under_18_Mother only present',\n",
       " 'family_members_under_18_Not in universe',\n",
       " 'family_members_under_18_other',\n",
       " 'age_bin_young',\n",
       " 'age_bin_adult',\n",
       " 'age_bin_old']"
      ]
     },
     "execution_count": 58,
     "metadata": {},
     "output_type": "execute_result"
    }
   ],
   "source": [
    "df_train_final.columns.tolist()\n"
   ]
  },
  {
   "cell_type": "code",
   "execution_count": 59,
   "metadata": {
    "collapsed": false,
    "deletable": true,
    "editable": true
   },
   "outputs": [
    {
     "data": {
      "text/plain": [
       "['num_person_Worked_employer',\n",
       " 'income_level',\n",
       " 'wage_per_hour_d',\n",
       " 'capital_gains_d',\n",
       " 'capital_losses_d',\n",
       " 'dividend_from_Stocks_d',\n",
       " 'sex_Male',\n",
       " 'year_95',\n",
       " 'reason_for_unemployment_other',\n",
       " 'fill_questionnaire_veteran_admin_other',\n",
       " 'state_of_previous_residence_other',\n",
       " 'citizenship_Foreign born- Not a citizen of U S',\n",
       " 'citizenship_Foreign born- U S citizen by naturalization',\n",
       " 'citizenship_Native- Born in the United States',\n",
       " 'citizenship_other',\n",
       " 'full_parttime_employment_stat_Children or Armed Forces',\n",
       " 'full_parttime_employment_stat_Full-time schedules',\n",
       " 'full_parttime_employment_stat_Not in labor force',\n",
       " 'full_parttime_employment_stat_other',\n",
       " 'education_10th grade',\n",
       " 'education_11th grade',\n",
       " 'education_7th and 8th grade',\n",
       " 'education_9th grade',\n",
       " 'education_Associates degree-academic program',\n",
       " 'education_Associates degree-occup /vocational',\n",
       " 'education_Bachelors degree(BA AB BS)',\n",
       " 'education_Children',\n",
       " 'education_High school graduate',\n",
       " 'education_Masters degree(MA MS MEng MEd MSW MBA)',\n",
       " 'education_Some college but no degree',\n",
       " 'education_other',\n",
       " 'enrolled_in_edu_inst_lastwk_College or university',\n",
       " 'enrolled_in_edu_inst_lastwk_High school',\n",
       " 'enrolled_in_edu_inst_lastwk_Not in universe',\n",
       " 'live_1_year_ago_No',\n",
       " 'live_1_year_ago_Not in universe under 1 year old',\n",
       " 'live_1_year_ago_Yes',\n",
       " 'd_household_summary_Child 18 or older',\n",
       " 'd_household_summary_Child under 18 never married',\n",
       " 'd_household_summary_Householder',\n",
       " 'd_household_summary_Nonrelative of householder',\n",
       " 'd_household_summary_Other relative of householder',\n",
       " 'd_household_summary_Spouse of householder',\n",
       " 'd_household_summary_other',\n",
       " 'occupation_code_0',\n",
       " 'occupation_code_19',\n",
       " 'occupation_code_2',\n",
       " 'occupation_code_26',\n",
       " 'occupation_code_29',\n",
       " 'occupation_code_34',\n",
       " 'occupation_code_36',\n",
       " 'occupation_code_other',\n",
       " 'industry_code_0',\n",
       " 'industry_code_29',\n",
       " 'industry_code_33',\n",
       " 'industry_code_37',\n",
       " 'industry_code_4',\n",
       " 'industry_code_42',\n",
       " 'industry_code_43',\n",
       " 'industry_code_45',\n",
       " 'industry_code_other',\n",
       " 'country_mother_Mexico',\n",
       " 'country_mother_United-States',\n",
       " 'country_mother_no data',\n",
       " 'country_mother_other',\n",
       " 'member_of_labor_union_No',\n",
       " 'member_of_labor_union_Not in universe',\n",
       " 'member_of_labor_union_other',\n",
       " 'major_industry_code_Business and repair services',\n",
       " 'major_industry_code_Construction',\n",
       " 'major_industry_code_Education',\n",
       " 'major_industry_code_Finance insurance and real estate',\n",
       " 'major_industry_code_Manufacturing-durable goods',\n",
       " 'major_industry_code_Manufacturing-nondurable goods',\n",
       " 'major_industry_code_Medical except hospital',\n",
       " 'major_industry_code_Not in universe or children',\n",
       " 'major_industry_code_Other professional services',\n",
       " 'major_industry_code_Public administration',\n",
       " 'major_industry_code_Retail trade',\n",
       " 'major_industry_code_Transportation',\n",
       " 'major_industry_code_other',\n",
       " 'hispanic_origin_All other',\n",
       " 'hispanic_origin_Mexican (Mexicano)',\n",
       " 'hispanic_origin_Mexican-American',\n",
       " 'hispanic_origin_other',\n",
       " 'veterans_benefits_0',\n",
       " 'veterans_benefits_2',\n",
       " 'veterans_benefits_other',\n",
       " 'tax_filer_status_Head of household',\n",
       " 'tax_filer_status_Joint both 65+',\n",
       " 'tax_filer_status_Joint both under 65',\n",
       " 'tax_filer_status_Nonfiler',\n",
       " 'tax_filer_status_Single',\n",
       " 'tax_filer_status_other',\n",
       " 'country_self_Mexico',\n",
       " 'country_self_United-States',\n",
       " 'country_self_other',\n",
       " 'country_father_Mexico',\n",
       " 'country_father_United-States',\n",
       " 'country_father_no data',\n",
       " 'country_father_other',\n",
       " 'marital_status_Divorced',\n",
       " 'marital_status_Married-civilian spouse present',\n",
       " 'marital_status_Never married',\n",
       " 'marital_status_Widowed',\n",
       " 'marital_status_other',\n",
       " 'd_household_family_stat_Child 18+ never marr Not in a subfamily',\n",
       " 'd_household_family_stat_Child <18 never marr not in subfamily',\n",
       " 'd_household_family_stat_Householder',\n",
       " 'd_household_family_stat_Nonfamily householder',\n",
       " 'd_household_family_stat_Secondary individual',\n",
       " 'd_household_family_stat_Spouse of householder',\n",
       " 'd_household_family_stat_other',\n",
       " 'major_occupation_code_Adm support including clerical',\n",
       " 'major_occupation_code_Executive admin and managerial',\n",
       " 'major_occupation_code_Handlers equip cleaners etc',\n",
       " 'major_occupation_code_Machine operators assmblrs & inspctrs',\n",
       " 'major_occupation_code_Not in universe',\n",
       " 'major_occupation_code_Other service',\n",
       " 'major_occupation_code_Precision production craft & repair',\n",
       " 'major_occupation_code_Professional specialty',\n",
       " 'major_occupation_code_Sales',\n",
       " 'major_occupation_code_Transportation and material moving',\n",
       " 'major_occupation_code_other',\n",
       " 'class_of_worker_Local government',\n",
       " 'class_of_worker_Not in universe',\n",
       " 'class_of_worker_Private',\n",
       " 'class_of_worker_Self-employed-not incorporated',\n",
       " 'class_of_worker_State government',\n",
       " 'class_of_worker_other',\n",
       " 'race_Asian or Pacific Islander',\n",
       " 'race_Black',\n",
       " 'race_White',\n",
       " 'race_other',\n",
       " 'business_or_self_employed_0',\n",
       " 'business_or_self_employed_2',\n",
       " 'business_or_self_employed_other',\n",
       " 'region_of_previous_residence_Not in universe',\n",
       " 'region_of_previous_residence_South',\n",
       " 'region_of_previous_residence_West',\n",
       " 'region_of_previous_residence_other',\n",
       " 'family_members_under_18_Both parents present',\n",
       " 'family_members_under_18_Mother only present',\n",
       " 'family_members_under_18_Not in universe',\n",
       " 'family_members_under_18_other',\n",
       " 'age_bin_young',\n",
       " 'age_bin_adult',\n",
       " 'age_bin_old']"
      ]
     },
     "execution_count": 59,
     "metadata": {},
     "output_type": "execute_result"
    }
   ],
   "source": [
    "df_test_final.columns.tolist()"
   ]
  },
  {
   "cell_type": "markdown",
   "metadata": {
    "deletable": true,
    "editable": true
   },
   "source": [
    "Finally, we will create the dataframe with the X variables:"
   ]
  },
  {
   "cell_type": "code",
   "execution_count": 60,
   "metadata": {
    "collapsed": true,
    "deletable": true,
    "editable": true
   },
   "outputs": [],
   "source": [
    "df_train_final_X=df_train_final.drop(['income_level'],axis=1)\n",
    "df_train_final_y=df_train_final.income_level"
   ]
  },
  {
   "cell_type": "code",
   "execution_count": 61,
   "metadata": {
    "collapsed": true,
    "deletable": true,
    "editable": true
   },
   "outputs": [],
   "source": [
    "df_train_final_X=df_train_final_X.rename(columns={'d_household_family_stat_Child <18 never marr not in subfamily':\n",
    "                                'd_household_family_stat_Child less18 never marr not in subfamily'})"
   ]
  },
  {
   "cell_type": "code",
   "execution_count": 62,
   "metadata": {
    "collapsed": true,
    "deletable": true,
    "editable": true
   },
   "outputs": [],
   "source": [
    "df_test_final_X=df_test_final.drop(['income_level'],axis=1)\n",
    "df_test_final_y=df_test_final.income_level"
   ]
  },
  {
   "cell_type": "code",
   "execution_count": 63,
   "metadata": {
    "collapsed": true,
    "deletable": true,
    "editable": true
   },
   "outputs": [],
   "source": [
    "df_test_final_X=df_test_final_X.rename(columns={'d_household_family_stat_ Child <18 never marr not in subfamily':\n",
    "                                                'd_household_family_stat_ Child less18 never marr not in subfamily'})"
   ]
  },
  {
   "cell_type": "markdown",
   "metadata": {
    "deletable": true,
    "editable": true
   },
   "source": [
    "# 4. Classification"
   ]
  },
  {
   "cell_type": "markdown",
   "metadata": {
    "deletable": true,
    "editable": true
   },
   "source": [
    "## 4.1 XGBoost"
   ]
  },
  {
   "cell_type": "markdown",
   "metadata": {
    "deletable": true,
    "editable": true
   },
   "source": [
    "Now that we have processed our data, we will use the XGBoost classifier to try to predict the income level. We will look for the best parameters performing a Grid Search and then we will train our model using those paramaters."
   ]
  },
  {
   "cell_type": "code",
   "execution_count": 64,
   "metadata": {
    "collapsed": false,
    "deletable": true,
    "editable": true
   },
   "outputs": [
    {
     "name": "stderr",
     "output_type": "stream",
     "text": [
      "C:\\Users\\prodi\\AppData\\Local\\Enthought\\Canopy\\edm\\envs\\User\\lib\\site-packages\\sklearn\\cross_validation.py:44: DeprecationWarning: This module was deprecated in version 0.18 in favor of the model_selection module into which all the refactored classes and functions are moved. Also note that the interface of the new CV iterators are different from that of this module. This module will be removed in 0.20.\n",
      "  \"This module will be removed in 0.20.\", DeprecationWarning)\n"
     ]
    }
   ],
   "source": [
    "from sklearn.model_selection import train_test_split\n",
    "import xgboost as xgb\n",
    "from sklearn.metrics import accuracy_score\n",
    "from sklearn.metrics import confusion_matrix\n",
    "from sklearn.preprocessing import Imputer\n",
    "from sklearn.metrics import f1_score\n",
    "from sklearn.metrics import roc_auc_score\n",
    "from sklearn.metrics import precision_score\n",
    "from sklearn.metrics import recall_score\n",
    "from sklearn.model_selection import KFold\n",
    "from sklearn.model_selection import StratifiedKFold\n",
    "\n",
    "\n",
    "from sklearn.model_selection import cross_val_score\n",
    "from sklearn import preprocessing\n",
    "from sklearn.model_selection import GridSearchCV"
   ]
  },
  {
   "cell_type": "markdown",
   "metadata": {
    "deletable": true,
    "editable": true
   },
   "source": [
    "First we will define the train features as X_train and the train labels as y_train. We will do the same for the test set:"
   ]
  },
  {
   "cell_type": "code",
   "execution_count": 65,
   "metadata": {
    "collapsed": true,
    "deletable": true,
    "editable": true
   },
   "outputs": [],
   "source": [
    "X_train=df_train_final_X\n",
    "y_train=df_train_final_y"
   ]
  },
  {
   "cell_type": "code",
   "execution_count": 66,
   "metadata": {
    "collapsed": true,
    "deletable": true,
    "editable": true
   },
   "outputs": [],
   "source": [
    "X_test=df_test_final_X\n",
    "y_test=df_test_final_y"
   ]
  },
  {
   "cell_type": "markdown",
   "metadata": {
    "deletable": true,
    "editable": true
   },
   "source": [
    "There are some differences in the column names, so we will set the names in the test set equal to the names in the training set:"
   ]
  },
  {
   "cell_type": "code",
   "execution_count": 67,
   "metadata": {
    "collapsed": true,
    "deletable": true,
    "editable": true
   },
   "outputs": [],
   "source": [
    "X_test.columns=X_train.columns.tolist()"
   ]
  },
  {
   "cell_type": "code",
   "execution_count": 68,
   "metadata": {
    "collapsed": false,
    "deletable": true,
    "editable": true
   },
   "outputs": [
    {
     "data": {
      "text/html": [
       "<div>\n",
       "<style scoped>\n",
       "    .dataframe tbody tr th:only-of-type {\n",
       "        vertical-align: middle;\n",
       "    }\n",
       "\n",
       "    .dataframe tbody tr th {\n",
       "        vertical-align: top;\n",
       "    }\n",
       "\n",
       "    .dataframe thead th {\n",
       "        text-align: right;\n",
       "    }\n",
       "</style>\n",
       "<table border=\"1\" class=\"dataframe\">\n",
       "  <thead>\n",
       "    <tr style=\"text-align: right;\">\n",
       "      <th></th>\n",
       "      <th>num_person_Worked_employer</th>\n",
       "      <th>wage_per_hour_d</th>\n",
       "      <th>capital_gains_d</th>\n",
       "      <th>capital_losses_d</th>\n",
       "      <th>dividend_from_Stocks_d</th>\n",
       "      <th>sex_Male</th>\n",
       "      <th>year_95</th>\n",
       "      <th>reason_for_unemployment_other</th>\n",
       "      <th>fill_questionnaire_veteran_admin_other</th>\n",
       "      <th>state_of_previous_residence_other</th>\n",
       "      <th>...</th>\n",
       "      <th>region_of_previous_residence_South</th>\n",
       "      <th>region_of_previous_residence_West</th>\n",
       "      <th>region_of_previous_residence_other</th>\n",
       "      <th>family_members_under_18_Both parents present</th>\n",
       "      <th>family_members_under_18_Mother only present</th>\n",
       "      <th>family_members_under_18_Not in universe</th>\n",
       "      <th>family_members_under_18_other</th>\n",
       "      <th>age_bin_young</th>\n",
       "      <th>age_bin_adult</th>\n",
       "      <th>age_bin_old</th>\n",
       "    </tr>\n",
       "  </thead>\n",
       "  <tbody>\n",
       "    <tr>\n",
       "      <th>count</th>\n",
       "      <td>99762.000000</td>\n",
       "      <td>99762.000000</td>\n",
       "      <td>99762.000000</td>\n",
       "      <td>99762.000000</td>\n",
       "      <td>99762.000000</td>\n",
       "      <td>99762.000000</td>\n",
       "      <td>99762.000000</td>\n",
       "      <td>99762.000000</td>\n",
       "      <td>99762.000000</td>\n",
       "      <td>99762.000000</td>\n",
       "      <td>...</td>\n",
       "      <td>99762.000000</td>\n",
       "      <td>99762.000000</td>\n",
       "      <td>99762.000000</td>\n",
       "      <td>99762.000000</td>\n",
       "      <td>99762.000000</td>\n",
       "      <td>99762.000000</td>\n",
       "      <td>99762.000000</td>\n",
       "      <td>99762.000000</td>\n",
       "      <td>99762.000000</td>\n",
       "      <td>99762.000000</td>\n",
       "    </tr>\n",
       "    <tr>\n",
       "      <th>mean</th>\n",
       "      <td>1.956156</td>\n",
       "      <td>0.055973</td>\n",
       "      <td>0.037309</td>\n",
       "      <td>0.019126</td>\n",
       "      <td>0.105531</td>\n",
       "      <td>0.480854</td>\n",
       "      <td>0.500652</td>\n",
       "      <td>0.031375</td>\n",
       "      <td>0.010295</td>\n",
       "      <td>0.077124</td>\n",
       "      <td>...</td>\n",
       "      <td>0.024308</td>\n",
       "      <td>0.020509</td>\n",
       "      <td>0.032307</td>\n",
       "      <td>0.194052</td>\n",
       "      <td>0.062719</td>\n",
       "      <td>0.725667</td>\n",
       "      <td>0.017562</td>\n",
       "      <td>0.442393</td>\n",
       "      <td>0.389477</td>\n",
       "      <td>0.153806</td>\n",
       "    </tr>\n",
       "    <tr>\n",
       "      <th>std</th>\n",
       "      <td>2.364331</td>\n",
       "      <td>0.229871</td>\n",
       "      <td>0.189518</td>\n",
       "      <td>0.136967</td>\n",
       "      <td>0.307238</td>\n",
       "      <td>0.499636</td>\n",
       "      <td>0.500002</td>\n",
       "      <td>0.174329</td>\n",
       "      <td>0.100939</td>\n",
       "      <td>0.266789</td>\n",
       "      <td>...</td>\n",
       "      <td>0.154004</td>\n",
       "      <td>0.141734</td>\n",
       "      <td>0.176815</td>\n",
       "      <td>0.395471</td>\n",
       "      <td>0.242459</td>\n",
       "      <td>0.446180</td>\n",
       "      <td>0.131353</td>\n",
       "      <td>0.496673</td>\n",
       "      <td>0.487634</td>\n",
       "      <td>0.360765</td>\n",
       "    </tr>\n",
       "    <tr>\n",
       "      <th>min</th>\n",
       "      <td>0.000000</td>\n",
       "      <td>0.000000</td>\n",
       "      <td>0.000000</td>\n",
       "      <td>0.000000</td>\n",
       "      <td>0.000000</td>\n",
       "      <td>0.000000</td>\n",
       "      <td>0.000000</td>\n",
       "      <td>0.000000</td>\n",
       "      <td>0.000000</td>\n",
       "      <td>0.000000</td>\n",
       "      <td>...</td>\n",
       "      <td>0.000000</td>\n",
       "      <td>0.000000</td>\n",
       "      <td>0.000000</td>\n",
       "      <td>0.000000</td>\n",
       "      <td>0.000000</td>\n",
       "      <td>0.000000</td>\n",
       "      <td>0.000000</td>\n",
       "      <td>0.000000</td>\n",
       "      <td>0.000000</td>\n",
       "      <td>0.000000</td>\n",
       "    </tr>\n",
       "    <tr>\n",
       "      <th>25%</th>\n",
       "      <td>0.000000</td>\n",
       "      <td>0.000000</td>\n",
       "      <td>0.000000</td>\n",
       "      <td>0.000000</td>\n",
       "      <td>0.000000</td>\n",
       "      <td>0.000000</td>\n",
       "      <td>0.000000</td>\n",
       "      <td>0.000000</td>\n",
       "      <td>0.000000</td>\n",
       "      <td>0.000000</td>\n",
       "      <td>...</td>\n",
       "      <td>0.000000</td>\n",
       "      <td>0.000000</td>\n",
       "      <td>0.000000</td>\n",
       "      <td>0.000000</td>\n",
       "      <td>0.000000</td>\n",
       "      <td>0.000000</td>\n",
       "      <td>0.000000</td>\n",
       "      <td>0.000000</td>\n",
       "      <td>0.000000</td>\n",
       "      <td>0.000000</td>\n",
       "    </tr>\n",
       "    <tr>\n",
       "      <th>50%</th>\n",
       "      <td>1.000000</td>\n",
       "      <td>0.000000</td>\n",
       "      <td>0.000000</td>\n",
       "      <td>0.000000</td>\n",
       "      <td>0.000000</td>\n",
       "      <td>0.000000</td>\n",
       "      <td>1.000000</td>\n",
       "      <td>0.000000</td>\n",
       "      <td>0.000000</td>\n",
       "      <td>0.000000</td>\n",
       "      <td>...</td>\n",
       "      <td>0.000000</td>\n",
       "      <td>0.000000</td>\n",
       "      <td>0.000000</td>\n",
       "      <td>0.000000</td>\n",
       "      <td>0.000000</td>\n",
       "      <td>1.000000</td>\n",
       "      <td>0.000000</td>\n",
       "      <td>0.000000</td>\n",
       "      <td>0.000000</td>\n",
       "      <td>0.000000</td>\n",
       "    </tr>\n",
       "    <tr>\n",
       "      <th>75%</th>\n",
       "      <td>4.000000</td>\n",
       "      <td>0.000000</td>\n",
       "      <td>0.000000</td>\n",
       "      <td>0.000000</td>\n",
       "      <td>0.000000</td>\n",
       "      <td>1.000000</td>\n",
       "      <td>1.000000</td>\n",
       "      <td>0.000000</td>\n",
       "      <td>0.000000</td>\n",
       "      <td>0.000000</td>\n",
       "      <td>...</td>\n",
       "      <td>0.000000</td>\n",
       "      <td>0.000000</td>\n",
       "      <td>0.000000</td>\n",
       "      <td>0.000000</td>\n",
       "      <td>0.000000</td>\n",
       "      <td>1.000000</td>\n",
       "      <td>0.000000</td>\n",
       "      <td>1.000000</td>\n",
       "      <td>1.000000</td>\n",
       "      <td>0.000000</td>\n",
       "    </tr>\n",
       "    <tr>\n",
       "      <th>max</th>\n",
       "      <td>6.000000</td>\n",
       "      <td>1.000000</td>\n",
       "      <td>1.000000</td>\n",
       "      <td>1.000000</td>\n",
       "      <td>1.000000</td>\n",
       "      <td>1.000000</td>\n",
       "      <td>1.000000</td>\n",
       "      <td>1.000000</td>\n",
       "      <td>1.000000</td>\n",
       "      <td>1.000000</td>\n",
       "      <td>...</td>\n",
       "      <td>1.000000</td>\n",
       "      <td>1.000000</td>\n",
       "      <td>1.000000</td>\n",
       "      <td>1.000000</td>\n",
       "      <td>1.000000</td>\n",
       "      <td>1.000000</td>\n",
       "      <td>1.000000</td>\n",
       "      <td>1.000000</td>\n",
       "      <td>1.000000</td>\n",
       "      <td>1.000000</td>\n",
       "    </tr>\n",
       "  </tbody>\n",
       "</table>\n",
       "<p>8 rows × 147 columns</p>\n",
       "</div>"
      ],
      "text/plain": [
       "       num_person_Worked_employer  wage_per_hour_d  capital_gains_d  \\\n",
       "count                99762.000000     99762.000000     99762.000000   \n",
       "mean                     1.956156         0.055973         0.037309   \n",
       "std                      2.364331         0.229871         0.189518   \n",
       "min                      0.000000         0.000000         0.000000   \n",
       "25%                      0.000000         0.000000         0.000000   \n",
       "50%                      1.000000         0.000000         0.000000   \n",
       "75%                      4.000000         0.000000         0.000000   \n",
       "max                      6.000000         1.000000         1.000000   \n",
       "\n",
       "       capital_losses_d  dividend_from_Stocks_d      sex_Male       year_95  \\\n",
       "count      99762.000000            99762.000000  99762.000000  99762.000000   \n",
       "mean           0.019126                0.105531      0.480854      0.500652   \n",
       "std            0.136967                0.307238      0.499636      0.500002   \n",
       "min            0.000000                0.000000      0.000000      0.000000   \n",
       "25%            0.000000                0.000000      0.000000      0.000000   \n",
       "50%            0.000000                0.000000      0.000000      1.000000   \n",
       "75%            0.000000                0.000000      1.000000      1.000000   \n",
       "max            1.000000                1.000000      1.000000      1.000000   \n",
       "\n",
       "       reason_for_unemployment_other  fill_questionnaire_veteran_admin_other  \\\n",
       "count                   99762.000000                            99762.000000   \n",
       "mean                        0.031375                                0.010295   \n",
       "std                         0.174329                                0.100939   \n",
       "min                         0.000000                                0.000000   \n",
       "25%                         0.000000                                0.000000   \n",
       "50%                         0.000000                                0.000000   \n",
       "75%                         0.000000                                0.000000   \n",
       "max                         1.000000                                1.000000   \n",
       "\n",
       "       state_of_previous_residence_other      ...       \\\n",
       "count                       99762.000000      ...        \n",
       "mean                            0.077124      ...        \n",
       "std                             0.266789      ...        \n",
       "min                             0.000000      ...        \n",
       "25%                             0.000000      ...        \n",
       "50%                             0.000000      ...        \n",
       "75%                             0.000000      ...        \n",
       "max                             1.000000      ...        \n",
       "\n",
       "       region_of_previous_residence_South  region_of_previous_residence_West  \\\n",
       "count                        99762.000000                       99762.000000   \n",
       "mean                             0.024308                           0.020509   \n",
       "std                              0.154004                           0.141734   \n",
       "min                              0.000000                           0.000000   \n",
       "25%                              0.000000                           0.000000   \n",
       "50%                              0.000000                           0.000000   \n",
       "75%                              0.000000                           0.000000   \n",
       "max                              1.000000                           1.000000   \n",
       "\n",
       "       region_of_previous_residence_other  \\\n",
       "count                        99762.000000   \n",
       "mean                             0.032307   \n",
       "std                              0.176815   \n",
       "min                              0.000000   \n",
       "25%                              0.000000   \n",
       "50%                              0.000000   \n",
       "75%                              0.000000   \n",
       "max                              1.000000   \n",
       "\n",
       "       family_members_under_18_Both parents present  \\\n",
       "count                                  99762.000000   \n",
       "mean                                       0.194052   \n",
       "std                                        0.395471   \n",
       "min                                        0.000000   \n",
       "25%                                        0.000000   \n",
       "50%                                        0.000000   \n",
       "75%                                        0.000000   \n",
       "max                                        1.000000   \n",
       "\n",
       "       family_members_under_18_Mother only present  \\\n",
       "count                                 99762.000000   \n",
       "mean                                      0.062719   \n",
       "std                                       0.242459   \n",
       "min                                       0.000000   \n",
       "25%                                       0.000000   \n",
       "50%                                       0.000000   \n",
       "75%                                       0.000000   \n",
       "max                                       1.000000   \n",
       "\n",
       "       family_members_under_18_Not in universe  family_members_under_18_other  \\\n",
       "count                             99762.000000                   99762.000000   \n",
       "mean                                  0.725667                       0.017562   \n",
       "std                                   0.446180                       0.131353   \n",
       "min                                   0.000000                       0.000000   \n",
       "25%                                   0.000000                       0.000000   \n",
       "50%                                   1.000000                       0.000000   \n",
       "75%                                   1.000000                       0.000000   \n",
       "max                                   1.000000                       1.000000   \n",
       "\n",
       "       age_bin_young  age_bin_adult   age_bin_old  \n",
       "count   99762.000000   99762.000000  99762.000000  \n",
       "mean        0.442393       0.389477      0.153806  \n",
       "std         0.496673       0.487634      0.360765  \n",
       "min         0.000000       0.000000      0.000000  \n",
       "25%         0.000000       0.000000      0.000000  \n",
       "50%         0.000000       0.000000      0.000000  \n",
       "75%         1.000000       1.000000      0.000000  \n",
       "max         1.000000       1.000000      1.000000  \n",
       "\n",
       "[8 rows x 147 columns]"
      ]
     },
     "execution_count": 68,
     "metadata": {},
     "output_type": "execute_result"
    }
   ],
   "source": [
    "X_test.describe()"
   ]
  },
  {
   "cell_type": "markdown",
   "metadata": {
    "deletable": true,
    "editable": true
   },
   "source": [
    "Given that our data is imbalanced, we will perform a stratified cross validation of 5 folds:"
   ]
  },
  {
   "cell_type": "code",
   "execution_count": 69,
   "metadata": {
    "collapsed": true,
    "deletable": true,
    "editable": true
   },
   "outputs": [],
   "source": [
    "kf = StratifiedKFold(n_splits=5,random_state=0,shuffle=True)"
   ]
  },
  {
   "cell_type": "markdown",
   "metadata": {
    "deletable": true,
    "editable": true
   },
   "source": [
    "We will make a Grid Search to find the best parameters for the XGboost classifier:"
   ]
  },
  {
   "cell_type": "code",
   "execution_count": 70,
   "metadata": {
    "collapsed": true,
    "deletable": true,
    "editable": true
   },
   "outputs": [],
   "source": [
    "gbm = xgb.XGBClassifier()"
   ]
  },
  {
   "cell_type": "code",
   "execution_count": 517,
   "metadata": {
    "collapsed": true,
    "deletable": true,
    "editable": true
   },
   "outputs": [],
   "source": [
    "parameters=[{'n_estimators':[50,80,100],\n",
    "                        'max_depth':[4,8],\n",
    "                        'objective':[\"binary:logistic\"],\n",
    "                        'learning_rate':[0.5,1], \n",
    "                        'subsample':[.8],\n",
    "                        'min_child_weight':[4,6],\n",
    "                        'colsample_bytree':[.8],\n",
    "                        'scale_pos_weight':[1.6],\n",
    "                        'gamma':[0,10,100],\n",
    "                        'reg_alpha':[0,8],\n",
    "                        'reg_lambda':[0,1,1.3]}]\n",
    "\n",
    "grid_search = GridSearchCV(estimator=gbm, param_grid=parameters, scoring='f1', cv=kf)\n",
    "\n",
    "grid_search=grid_search.fit(X_train,y_train)\n",
    "\n",
    "#best_f1=grid_search.best_score_\n",
    "best_parameters=grid_search.best_params_"
   ]
  },
  {
   "cell_type": "markdown",
   "metadata": {
    "deletable": true,
    "editable": true
   },
   "source": [
    "Let's see our parameters and the best F1 score:"
   ]
  },
  {
   "cell_type": "code",
   "execution_count": 528,
   "metadata": {
    "collapsed": false,
    "deletable": true,
    "editable": true
   },
   "outputs": [
    {
     "data": {
      "text/plain": [
       "0.5163988284677773"
      ]
     },
     "execution_count": 528,
     "metadata": {},
     "output_type": "execute_result"
    },
    {
     "data": {
      "text/plain": [
       "{'colsample_bytree': 0.8,\n",
       " 'gamma': 0,\n",
       " 'learning_rate': 0.5,\n",
       " 'max_depth': 4,\n",
       " 'min_child_weight': 6,\n",
       " 'n_estimators': 80,\n",
       " 'objective': 'binary:logistic',\n",
       " 'reg_alpha': 8,\n",
       " 'reg_lambda': 1.3,\n",
       " 'scale_pos_weight': 1.6,\n",
       " 'subsample': 0.8}"
      ]
     },
     "execution_count": 528,
     "metadata": {},
     "output_type": "execute_result"
    }
   ],
   "source": [
    "best_sc=grid_search.best_score_\n",
    "best_sc\n",
    "best_parameters"
   ]
  },
  {
   "cell_type": "markdown",
   "metadata": {
    "deletable": true,
    "editable": true
   },
   "source": [
    "Now we will train the XGBoost classifier with the best parameters that we found:"
   ]
  },
  {
   "cell_type": "code",
   "execution_count": 71,
   "metadata": {
    "collapsed": true,
    "deletable": true,
    "editable": true
   },
   "outputs": [],
   "source": [
    "#best params using 'f1' score\n",
    "params={'colsample_bytree': 0.8,\n",
    " 'gamma': 0,\n",
    " 'learning_rate': 0.5,\n",
    " 'max_depth': 4,\n",
    " 'min_child_weight': 6,\n",
    " 'n_estimators': 80,\n",
    " 'objective': 'binary:logistic',\n",
    " 'reg_alpha': 8,\n",
    " 'reg_lambda': 1.3,\n",
    " 'scale_pos_weight': 2,\n",
    " 'subsample': 0.8}\n",
    "\n",
    "#best params using 'roc_auc' score\n",
    "#params={'colsample_bytree': 0.8,\n",
    "# 'gamma': 0,\n",
    "# 'learning_rate': 0.5,\n",
    "# 'max_depth': 4,\n",
    "# 'min_child_weight': 6,\n",
    "# 'n_estimators': 80,\n",
    "# 'objective': 'binary:logistic',\n",
    "# 'reg_alpha': 8,\n",
    "# 'reg_lambda': 1.3,\n",
    "# 'scale_pos_weight': 1.6,\n",
    "# 'subsample': 0.8}\n",
    "\n",
    "\n",
    "#params={'colsample_bytree': 0.642,\n",
    "#     'learning_rate': 0.161,  \n",
    "#     'max_depth': 3,\n",
    "#     'min_child_weight': 7.67,\n",
    "#     'n_estimators': 80,\n",
    "#     'objective': 'binary:logistic',\n",
    "#     'reg_lambda': 0.221,\n",
    "#     'subsample': 0.7}\n",
    "\n",
    "\n",
    "#params=best_parameters\n",
    "\n",
    "gbm_clf = xgb.XGBClassifier(**params)"
   ]
  },
  {
   "cell_type": "code",
   "execution_count": 72,
   "metadata": {
    "collapsed": false,
    "deletable": true,
    "editable": true
   },
   "outputs": [
    {
     "data": {
      "text/plain": [
       "XGBClassifier(base_score=0.5, colsample_bylevel=1, colsample_bytree=0.8,\n",
       "       gamma=0, learning_rate=0.5, max_delta_step=0, max_depth=4,\n",
       "       min_child_weight=6, missing=None, n_estimators=80, nthread=-1,\n",
       "       objective='binary:logistic', reg_alpha=8, reg_lambda=1.3,\n",
       "       scale_pos_weight=2, seed=0, silent=True, subsample=0.8)"
      ]
     },
     "execution_count": 72,
     "metadata": {},
     "output_type": "execute_result"
    }
   ],
   "source": [
    "gbm_clf.fit(X_train,y_train)"
   ]
  },
  {
   "cell_type": "markdown",
   "metadata": {
    "deletable": true,
    "editable": true
   },
   "source": [
    "The next step is to get the predictions from our trained model. We will get the predictions as well as the probabilities:"
   ]
  },
  {
   "cell_type": "code",
   "execution_count": 73,
   "metadata": {
    "collapsed": false,
    "deletable": true,
    "editable": true
   },
   "outputs": [
    {
     "name": "stderr",
     "output_type": "stream",
     "text": [
      "C:\\Users\\prodi\\AppData\\Local\\Enthought\\Canopy\\edm\\envs\\User\\lib\\site-packages\\sklearn\\preprocessing\\label.py:171: DeprecationWarning: The truth value of an empty array is ambiguous. Returning False, but in future this will result in an error. Use `array.size > 0` to check that an array is not empty.\n",
      "  if diff:\n"
     ]
    }
   ],
   "source": [
    "y_pred=gbm_clf.predict(X_test)"
   ]
  },
  {
   "cell_type": "code",
   "execution_count": 74,
   "metadata": {
    "collapsed": false,
    "deletable": true,
    "editable": true
   },
   "outputs": [
    {
     "data": {
      "text/plain": [
       "array([0.00443813, 0.13832615, 0.00020825, ..., 0.04704167, 0.16951753,\n",
       "       0.01392137], dtype=float32)"
      ]
     },
     "execution_count": 74,
     "metadata": {},
     "output_type": "execute_result"
    }
   ],
   "source": [
    "y_probs=gbm_clf.predict_proba(X_test)[:, 1]\n",
    "y_probs"
   ]
  },
  {
   "cell_type": "markdown",
   "metadata": {
    "deletable": true,
    "editable": true
   },
   "source": [
    "Based on the predictions, let's take a look at the confusion matrix, the auc_score and the F1 score:"
   ]
  },
  {
   "cell_type": "code",
   "execution_count": 75,
   "metadata": {
    "collapsed": false,
    "deletable": true,
    "editable": true
   },
   "outputs": [
    {
     "data": {
      "image/png": "[encoded data removed]",
      "text/plain": [
       "<matplotlib.figure.Figure at 0x310a5588>"
      ]
     },
     "metadata": {},
     "output_type": "display_data"
    }
   ],
   "source": [
    "sns.heatmap(confusion_matrix(y_test, y_pred),annot=True, fmt=\"d\");\n",
    "plt.ylabel('True class');\n",
    "plt.xlabel('Predicted class');\n",
    "plt.show();\n",
    "\n",
    "#confusion_matrix(y_test, y_pred)"
   ]
  },
  {
   "cell_type": "code",
   "execution_count": 76,
   "metadata": {
    "collapsed": false,
    "deletable": true,
    "editable": true
   },
   "outputs": [
    {
     "name": "stdout",
     "output_type": "stream",
     "text": [
      "test accuracy score: 0.9463422946612938\n",
      "test auc score: 0.7561160005048257\n",
      "test F1 score: 0.554695948756343\n",
      "test Precision: 0.5713796058269066\n",
      "test Recall: 0.5389589395408988\n"
     ]
    }
   ],
   "source": [
    "print \"test accuracy score: \" + str(accuracy_score(y_test, y_pred))\n",
    "print \"test auc score: \" + str(roc_auc_score(y_test, y_pred))\n",
    "print \"test F1 score: \" + str(f1_score(y_test, y_pred))\n",
    "print \"test Precision: \" + str(precision_score(y_test, y_pred))\n",
    "print \"test Recall: \" + str(recall_score(y_test, y_pred))"
   ]
  },
  {
   "cell_type": "markdown",
   "metadata": {
    "deletable": true,
    "editable": true
   },
   "source": [
    "As expected, given the unbalanced nature of our data, our classifier is showing a high accuracy of 94.63% but is not performing that good in terms of precision and recall, with a F1 score of 0.5547.\n",
    "\n",
    "Now we will take a look to the ROC curve:"
   ]
  },
  {
   "cell_type": "code",
   "execution_count": 77,
   "metadata": {
    "collapsed": false,
    "deletable": true,
    "editable": true
   },
   "outputs": [
    {
     "name": "stdout",
     "output_type": "stream",
     "text": [
      "0.9417974952804571\n"
     ]
    },
    {
     "data": {
      "image/png": "[encoded data removed]",
      "text/plain": [
       "<matplotlib.figure.Figure at 0x310b5588>"
      ]
     },
     "metadata": {},
     "output_type": "display_data"
    }
   ],
   "source": [
    "import matplotlib.pyplot as plt\n",
    "from sklearn.metrics import roc_curve, auc\n",
    "\n",
    "fpr = dict()\n",
    "tpr = dict()\n",
    "roc_auc = dict()\n",
    "for i in range(2):\n",
    "    fpr[i], tpr[i], _ = roc_curve(y_test, y_probs)\n",
    "    roc_auc[i] = auc(fpr[i], tpr[i])\n",
    "\n",
    "print roc_auc_score(y_test, y_probs)\n",
    "plt.figure();\n",
    "plt.plot(fpr[1], tpr[1]);\n",
    "plt.xlim([0.0, 1.0]);\n",
    "plt.ylim([0.0, 1.05]);\n",
    "plt.plot([0,1],[0,1],'r--');\n",
    "plt.xlabel('False Positive Rate');\n",
    "plt.ylabel('True Positive Rate');\n",
    "plt.title('ROC curve');\n",
    "plt.show();"
   ]
  },
  {
   "cell_type": "markdown",
   "metadata": {
    "deletable": true,
    "editable": true
   },
   "source": [
    "Again, as expected, we can see a high AUC score of 0.9418. In an imblanced data set, the False Positive rate does not drop significantly when the number of True Negative observations is huge, so we could expect high AUC scores even having low F1 scores.\n",
    "\n",
    "Now we will look at the Precision-Recall curve:"
   ]
  },
  {
   "cell_type": "code",
   "execution_count": 78,
   "metadata": {
    "collapsed": false,
    "deletable": true,
    "editable": true
   },
   "outputs": [
    {
     "data": {
      "image/png": "[encoded data removed]",
      "text/plain": [
       "<matplotlib.figure.Figure at 0x3109eda0>"
      ]
     },
     "metadata": {},
     "output_type": "display_data"
    }
   ],
   "source": [
    "from sklearn.metrics import precision_recall_curve\n",
    "\n",
    "p,r,_ = precision_recall_curve(y_test,y_probs)\n",
    "\n",
    "plt.figure();\n",
    "plt.plot(r, p);\n",
    "plt.xlabel('Recall');\n",
    "plt.ylabel('Precision');\n",
    "plt.title('PR curve');\n",
    "plt.show();"
   ]
  },
  {
   "cell_type": "markdown",
   "metadata": {
    "deletable": true,
    "editable": true
   },
   "source": [
    "For a very good classifier We would expect to see the curve in the right-upper zone of the plot. In this case we can see that in our classifier as long as we improved recall we will loose precision, that is why the F1 best score is around 0.5. \n",
    "\n",
    "Now we will check the threshold that maximizes our F1 score:"
   ]
  },
  {
   "cell_type": "code",
   "execution_count": 79,
   "metadata": {
    "collapsed": true,
    "deletable": true,
    "editable": true
   },
   "outputs": [],
   "source": [
    "f1=[]\n",
    "f1probs=[]\n",
    "\n",
    "for i in np.arange(0,1,0.01):\n",
    "    \n",
    "    y_pred_t=(y_probs>=i)*1\n",
    "    f1probs.append(i)\n",
    "    f1.append(f1_score(y_test, y_pred_t))\n",
    "    \n"
   ]
  },
  {
   "cell_type": "code",
   "execution_count": 80,
   "metadata": {
    "collapsed": true,
    "deletable": true,
    "editable": true
   },
   "outputs": [],
   "source": [
    "f1_probs=pd.DataFrame({'f1': array(f1),\n",
    "                        'probs': array(f1probs)})"
   ]
  },
  {
   "cell_type": "code",
   "execution_count": 81,
   "metadata": {
    "collapsed": false,
    "deletable": true,
    "editable": true
   },
   "outputs": [
    {
     "name": "stdout",
     "output_type": "stream",
     "text": [
      "Threshold for max. F1 score: 0.44\n"
     ]
    },
    {
     "data": {
      "image/png": "[encoded data removed]",
      "text/plain": [
       "<matplotlib.figure.Figure at 0x310b55c0>"
      ]
     },
     "metadata": {},
     "output_type": "display_data"
    }
   ],
   "source": [
    "print 'Threshold for max. F1 score: ' +str(f1_probs[f1_probs.f1==f1_probs.f1.max()].probs.values[0])\n",
    "\n",
    "plt.figure();\n",
    "plt.plot(f1_probs.probs, f1_probs.f1);\n",
    "plt.xlabel('Threshold');\n",
    "plt.ylabel('F1 score');\n",
    "plt.title('F1 - Threshold');\n",
    "plt.show();"
   ]
  },
  {
   "cell_type": "markdown",
   "metadata": {
    "deletable": true,
    "editable": true
   },
   "source": [
    "It is possible to see that with a threshold of 0.44 we can maximize or F1 score, so we will use that value to make our predictions:"
   ]
  },
  {
   "cell_type": "code",
   "execution_count": 82,
   "metadata": {
    "collapsed": true,
    "deletable": true,
    "editable": true
   },
   "outputs": [],
   "source": [
    "y_pred2=(y_probs>0.44)*1"
   ]
  },
  {
   "cell_type": "code",
   "execution_count": 83,
   "metadata": {
    "collapsed": false,
    "deletable": true,
    "editable": true
   },
   "outputs": [
    {
     "data": {
      "text/plain": [
       "<matplotlib.axes._subplots.AxesSubplot at 0x30797470>"
      ]
     },
     "execution_count": 83,
     "metadata": {},
     "output_type": "execute_result"
    },
    {
     "data": {
      "text/plain": [
       "<matplotlib.text.Text at 0x4470d470>"
      ]
     },
     "execution_count": 83,
     "metadata": {},
     "output_type": "execute_result"
    },
    {
     "data": {
      "text/plain": [
       "<matplotlib.text.Text at 0x442b4b70>"
      ]
     },
     "execution_count": 83,
     "metadata": {},
     "output_type": "execute_result"
    },
    {
     "data": {
      "image/png": "[encoded data removed]",
      "text/plain": [
       "<matplotlib.figure.Figure at 0x4404c5f8>"
      ]
     },
     "metadata": {},
     "output_type": "display_data"
    },
    {
     "name": "stdout",
     "output_type": "stream",
     "text": [
      "test accuracy score: 0.9426635392233516\n",
      "test auc score: 0.7786874657275316\n",
      "test F1 score: 0.5612824052768829\n",
      "test Precision: 0.5340046701692936\n",
      "test Recall: 0.5914969285483349\n"
     ]
    }
   ],
   "source": [
    "sns.heatmap(confusion_matrix(y_test, y_pred2),annot=True, fmt=\"d\");\n",
    "plt.ylabel('True class');\n",
    "plt.xlabel('Predicted class');\n",
    "plt.show();\n",
    "\n",
    "#confusion_matrix(y_test, y_pred2)\n",
    "print \"test accuracy score: \" + str(accuracy_score(y_test, y_pred2))\n",
    "print \"test auc score: \" + str(roc_auc_score(y_test, y_pred2))\n",
    "print \"test F1 score: \" + str(f1_score(y_test, y_pred2))\n",
    "print \"test Precision: \" + str(precision_score(y_test, y_pred2))\n",
    "print \"test Recall: \" + str(recall_score(y_test, y_pred2))"
   ]
  },
  {
   "cell_type": "markdown",
   "metadata": {
    "deletable": true,
    "editable": true
   },
   "source": [
    "We can see that our predictions improved using the threshold of 0.44. Our F1 score went from 0.5547 to 0.5612."
   ]
  },
  {
   "cell_type": "markdown",
   "metadata": {
    "deletable": true,
    "editable": true
   },
   "source": [
    "## 4.2 Light GBM"
   ]
  },
  {
   "cell_type": "markdown",
   "metadata": {
    "deletable": true,
    "editable": true
   },
   "source": [
    "We will try a LightGBM classifier:"
   ]
  },
  {
   "cell_type": "code",
   "execution_count": 84,
   "metadata": {
    "collapsed": true,
    "deletable": true,
    "editable": true
   },
   "outputs": [],
   "source": [
    "import lightgbm as lgb"
   ]
  },
  {
   "cell_type": "code",
   "execution_count": 86,
   "metadata": {
    "collapsed": false,
    "deletable": true,
    "editable": true
   },
   "outputs": [
    {
     "name": "stdout",
     "output_type": "stream",
     "text": [
      "[1]\tvalid_0's auc: 0.833214\n",
      "Training until validation scores don't improve for 100 rounds.\n",
      "[2]\tvalid_0's auc: 0.880928\n",
      "[3]\tvalid_0's auc: 0.897339\n",
      "[4]\tvalid_0's auc: 0.906465\n",
      "[5]\tvalid_0's auc: 0.905539\n",
      "[6]\tvalid_0's auc: 0.913824\n",
      "[7]\tvalid_0's auc: 0.912951\n",
      "[8]\tvalid_0's auc: 0.91562\n",
      "[9]\tvalid_0's auc: 0.915867\n",
      "[10]\tvalid_0's auc: 0.915245\n",
      "[11]\tvalid_0's auc: 0.91551\n",
      "[12]\tvalid_0's auc: 0.914683\n",
      "[13]\tvalid_0's auc: 0.91586\n",
      "[14]\tvalid_0's auc: 0.915955\n",
      "[15]\tvalid_0's auc: 0.915506\n",
      "[16]\tvalid_0's auc: 0.915471\n",
      "[17]\tvalid_0's auc: 0.915859\n",
      "[18]\tvalid_0's auc: 0.91596\n",
      "[19]\tvalid_0's auc: 0.916506\n",
      "[20]\tvalid_0's auc: 0.916755\n",
      "[21]\tvalid_0's auc: 0.916795\n",
      "[22]\tvalid_0's auc: 0.916625\n",
      "[23]\tvalid_0's auc: 0.916987\n",
      "[24]\tvalid_0's auc: 0.917333\n",
      "[25]\tvalid_0's auc: 0.917331\n",
      "[26]\tvalid_0's auc: 0.917509\n",
      "[27]\tvalid_0's auc: 0.918029\n",
      "[28]\tvalid_0's auc: 0.918397\n",
      "[29]\tvalid_0's auc: 0.918414\n",
      "[30]\tvalid_0's auc: 0.918758\n",
      "[31]\tvalid_0's auc: 0.918478\n",
      "[32]\tvalid_0's auc: 0.918687\n",
      "[33]\tvalid_0's auc: 0.918619\n",
      "[34]\tvalid_0's auc: 0.918771\n",
      "[35]\tvalid_0's auc: 0.919311\n",
      "[36]\tvalid_0's auc: 0.919114\n",
      "[37]\tvalid_0's auc: 0.920021\n",
      "[38]\tvalid_0's auc: 0.920277\n",
      "[39]\tvalid_0's auc: 0.920365\n",
      "[40]\tvalid_0's auc: 0.920276\n",
      "[41]\tvalid_0's auc: 0.920198\n",
      "[42]\tvalid_0's auc: 0.920405\n",
      "[43]\tvalid_0's auc: 0.92045\n",
      "[44]\tvalid_0's auc: 0.920461\n",
      "[45]\tvalid_0's auc: 0.920982\n",
      "[46]\tvalid_0's auc: 0.921687\n",
      "[47]\tvalid_0's auc: 0.921763\n",
      "[48]\tvalid_0's auc: 0.92192\n",
      "[49]\tvalid_0's auc: 0.921914\n",
      "[50]\tvalid_0's auc: 0.922344\n",
      "[51]\tvalid_0's auc: 0.922828\n",
      "[52]\tvalid_0's auc: 0.923295\n",
      "[53]\tvalid_0's auc: 0.923387\n",
      "[54]\tvalid_0's auc: 0.923591\n",
      "[55]\tvalid_0's auc: 0.923675\n",
      "[56]\tvalid_0's auc: 0.923604\n",
      "[57]\tvalid_0's auc: 0.924059\n",
      "[58]\tvalid_0's auc: 0.924297\n",
      "[59]\tvalid_0's auc: 0.924336\n",
      "[60]\tvalid_0's auc: 0.924578\n",
      "[61]\tvalid_0's auc: 0.924932\n",
      "[62]\tvalid_0's auc: 0.925207\n",
      "[63]\tvalid_0's auc: 0.925579\n",
      "[64]\tvalid_0's auc: 0.92598\n",
      "[65]\tvalid_0's auc: 0.926066\n",
      "[66]\tvalid_0's auc: 0.926183\n",
      "[67]\tvalid_0's auc: 0.92649\n",
      "[68]\tvalid_0's auc: 0.926733\n",
      "[69]\tvalid_0's auc: 0.926806\n",
      "[70]\tvalid_0's auc: 0.927195\n",
      "[71]\tvalid_0's auc: 0.927382\n",
      "[72]\tvalid_0's auc: 0.927385\n",
      "[73]\tvalid_0's auc: 0.927441\n",
      "[74]\tvalid_0's auc: 0.927485\n",
      "[75]\tvalid_0's auc: 0.927699\n",
      "[76]\tvalid_0's auc: 0.92771\n",
      "[77]\tvalid_0's auc: 0.927895\n",
      "[78]\tvalid_0's auc: 0.928106\n",
      "[79]\tvalid_0's auc: 0.928272\n",
      "[80]\tvalid_0's auc: 0.928571\n",
      "[81]\tvalid_0's auc: 0.928917\n",
      "[82]\tvalid_0's auc: 0.929264\n",
      "[83]\tvalid_0's auc: 0.929458\n",
      "[84]\tvalid_0's auc: 0.929759\n",
      "[85]\tvalid_0's auc: 0.929948\n",
      "[86]\tvalid_0's auc: 0.929987\n",
      "[87]\tvalid_0's auc: 0.930244\n",
      "[88]\tvalid_0's auc: 0.930258\n",
      "[89]\tvalid_0's auc: 0.930373\n",
      "[90]\tvalid_0's auc: 0.93074\n",
      "[91]\tvalid_0's auc: 0.930957\n",
      "[92]\tvalid_0's auc: 0.931161\n",
      "[93]\tvalid_0's auc: 0.931198\n",
      "[94]\tvalid_0's auc: 0.931224\n",
      "[95]\tvalid_0's auc: 0.931535\n",
      "[96]\tvalid_0's auc: 0.931602\n",
      "[97]\tvalid_0's auc: 0.931705\n",
      "[98]\tvalid_0's auc: 0.931812\n",
      "[99]\tvalid_0's auc: 0.931895\n",
      "[100]\tvalid_0's auc: 0.932148\n",
      "[101]\tvalid_0's auc: 0.932287\n",
      "[102]\tvalid_0's auc: 0.932428\n",
      "[103]\tvalid_0's auc: 0.932438\n",
      "[104]\tvalid_0's auc: 0.932522\n",
      "[105]\tvalid_0's auc: 0.932656\n",
      "[106]\tvalid_0's auc: 0.932748\n",
      "[107]\tvalid_0's auc: 0.932821\n",
      "[108]\tvalid_0's auc: 0.932878\n",
      "[109]\tvalid_0's auc: 0.932998\n",
      "[110]\tvalid_0's auc: 0.933072\n",
      "[111]\tvalid_0's auc: 0.933088\n",
      "[112]\tvalid_0's auc: 0.933151\n",
      "[113]\tvalid_0's auc: 0.933231\n",
      "[114]\tvalid_0's auc: 0.933299\n",
      "[115]\tvalid_0's auc: 0.933351\n",
      "[116]\tvalid_0's auc: 0.933413\n",
      "[117]\tvalid_0's auc: 0.933495\n",
      "[118]\tvalid_0's auc: 0.933572\n",
      "[119]\tvalid_0's auc: 0.933639\n",
      "[120]\tvalid_0's auc: 0.933796\n",
      "[121]\tvalid_0's auc: 0.933942\n",
      "[122]\tvalid_0's auc: 0.934029\n",
      "[123]\tvalid_0's auc: 0.934159\n",
      "[124]\tvalid_0's auc: 0.9342\n",
      "[125]\tvalid_0's auc: 0.934267\n",
      "[126]\tvalid_0's auc: 0.934322\n",
      "[127]\tvalid_0's auc: 0.93442\n",
      "[128]\tvalid_0's auc: 0.934486\n",
      "[129]\tvalid_0's auc: 0.934534\n",
      "[130]\tvalid_0's auc: 0.93459\n",
      "[131]\tvalid_0's auc: 0.93462\n",
      "[132]\tvalid_0's auc: 0.934655\n",
      "[133]\tvalid_0's auc: 0.934738\n",
      "[134]\tvalid_0's auc: 0.934799\n",
      "[135]\tvalid_0's auc: 0.934895\n",
      "[136]\tvalid_0's auc: 0.934961\n",
      "[137]\tvalid_0's auc: 0.934999\n",
      "[138]\tvalid_0's auc: 0.935062\n",
      "[139]\tvalid_0's auc: 0.93508\n",
      "[140]\tvalid_0's auc: 0.935119\n",
      "[141]\tvalid_0's auc: 0.935178\n",
      "[142]\tvalid_0's auc: 0.935224\n",
      "[143]\tvalid_0's auc: 0.935259\n",
      "[144]\tvalid_0's auc: 0.935299\n",
      "[145]\tvalid_0's auc: 0.935364\n",
      "[146]\tvalid_0's auc: 0.935418\n",
      "[147]\tvalid_0's auc: 0.935462\n",
      "[148]\tvalid_0's auc: 0.935483\n",
      "[149]\tvalid_0's auc: 0.935514\n",
      "[150]\tvalid_0's auc: 0.935548\n",
      "[151]\tvalid_0's auc: 0.935586\n",
      "[152]\tvalid_0's auc: 0.935625\n",
      "[153]\tvalid_0's auc: 0.93564\n",
      "[154]\tvalid_0's auc: 0.935689\n",
      "[155]\tvalid_0's auc: 0.935749\n",
      "[156]\tvalid_0's auc: 0.935802\n",
      "[157]\tvalid_0's auc: 0.935825\n",
      "[158]\tvalid_0's auc: 0.935864\n",
      "[159]\tvalid_0's auc: 0.935914\n",
      "[160]\tvalid_0's auc: 0.935963\n",
      "[161]\tvalid_0's auc: 0.936008\n",
      "[162]\tvalid_0's auc: 0.936078\n",
      "[163]\tvalid_0's auc: 0.936123\n",
      "[164]\tvalid_0's auc: 0.936215\n",
      "[165]\tvalid_0's auc: 0.936305\n",
      "[166]\tvalid_0's auc: 0.936338\n",
      "[167]\tvalid_0's auc: 0.936367\n",
      "[168]\tvalid_0's auc: 0.936405\n",
      "[169]\tvalid_0's auc: 0.936428\n",
      "[170]\tvalid_0's auc: 0.936497\n",
      "[171]\tvalid_0's auc: 0.936545\n",
      "[172]\tvalid_0's auc: 0.936597\n",
      "[173]\tvalid_0's auc: 0.93664\n",
      "[174]\tvalid_0's auc: 0.936695\n",
      "[175]\tvalid_0's auc: 0.936743\n",
      "[176]\tvalid_0's auc: 0.936782\n",
      "[177]\tvalid_0's auc: 0.936797\n",
      "[178]\tvalid_0's auc: 0.936818\n",
      "[179]\tvalid_0's auc: 0.936888\n",
      "[180]\tvalid_0's auc: 0.936943\n",
      "[181]\tvalid_0's auc: 0.936996\n",
      "[182]\tvalid_0's auc: 0.937045\n",
      "[183]\tvalid_0's auc: 0.937094\n",
      "[184]\tvalid_0's auc: 0.937145\n",
      "[185]\tvalid_0's auc: 0.937178\n",
      "[186]\tvalid_0's auc: 0.937204\n",
      "[187]\tvalid_0's auc: 0.937234\n",
      "[188]\tvalid_0's auc: 0.937289\n",
      "[189]\tvalid_0's auc: 0.937326\n",
      "[190]\tvalid_0's auc: 0.937362\n",
      "[191]\tvalid_0's auc: 0.937371\n",
      "[192]\tvalid_0's auc: 0.937404\n",
      "[193]\tvalid_0's auc: 0.937449\n",
      "[194]\tvalid_0's auc: 0.937496\n",
      "[195]\tvalid_0's auc: 0.937532\n",
      "[196]\tvalid_0's auc: 0.937589\n",
      "[197]\tvalid_0's auc: 0.937642\n",
      "[198]\tvalid_0's auc: 0.937658\n",
      "[199]\tvalid_0's auc: 0.937709\n",
      "[200]\tvalid_0's auc: 0.937747\n",
      "[201]\tvalid_0's auc: 0.937782\n",
      "[202]\tvalid_0's auc: 0.937791\n",
      "[203]\tvalid_0's auc: 0.937811\n",
      "[204]\tvalid_0's auc: 0.937835\n",
      "[205]\tvalid_0's auc: 0.937862\n",
      "[206]\tvalid_0's auc: 0.937893\n",
      "[207]\tvalid_0's auc: 0.937911\n",
      "[208]\tvalid_0's auc: 0.937947\n",
      "[209]\tvalid_0's auc: 0.937952\n",
      "[210]\tvalid_0's auc: 0.937954\n",
      "[211]\tvalid_0's auc: 0.937978\n",
      "[212]\tvalid_0's auc: 0.937995\n",
      "[213]\tvalid_0's auc: 0.938017\n",
      "[214]\tvalid_0's auc: 0.938013\n",
      "[215]\tvalid_0's auc: 0.938048\n",
      "[216]\tvalid_0's auc: 0.938061\n",
      "[217]\tvalid_0's auc: 0.938073\n",
      "[218]\tvalid_0's auc: 0.938094\n",
      "[219]\tvalid_0's auc: 0.938116\n",
      "[220]\tvalid_0's auc: 0.938115\n",
      "[221]\tvalid_0's auc: 0.938142\n",
      "[222]\tvalid_0's auc: 0.938187\n",
      "[223]\tvalid_0's auc: 0.9382\n",
      "[224]\tvalid_0's auc: 0.938222\n",
      "[225]\tvalid_0's auc: 0.938243\n",
      "[226]\tvalid_0's auc: 0.93828\n",
      "[227]\tvalid_0's auc: 0.938305\n",
      "[228]\tvalid_0's auc: 0.938331\n",
      "[229]\tvalid_0's auc: 0.93834\n",
      "[230]\tvalid_0's auc: 0.93836\n",
      "[231]\tvalid_0's auc: 0.938371\n",
      "[232]\tvalid_0's auc: 0.938415\n",
      "[233]\tvalid_0's auc: 0.93842\n",
      "[234]\tvalid_0's auc: 0.938466\n",
      "[235]\tvalid_0's auc: 0.938491\n",
      "[236]\tvalid_0's auc: 0.938502\n",
      "[237]\tvalid_0's auc: 0.938518\n",
      "[238]\tvalid_0's auc: 0.938538\n",
      "[239]\tvalid_0's auc: 0.938554\n",
      "[240]\tvalid_0's auc: 0.93856\n",
      "[241]\tvalid_0's auc: 0.938584\n",
      "[242]\tvalid_0's auc: 0.938604\n",
      "[243]\tvalid_0's auc: 0.938636\n",
      "[244]\tvalid_0's auc: 0.938663\n",
      "[245]\tvalid_0's auc: 0.938687\n",
      "[246]\tvalid_0's auc: 0.93873\n",
      "[247]\tvalid_0's auc: 0.938763\n",
      "[248]\tvalid_0's auc: 0.938786\n",
      "[249]\tvalid_0's auc: 0.938826\n",
      "[250]\tvalid_0's auc: 0.938847\n",
      "[251]\tvalid_0's auc: 0.938883\n",
      "[252]\tvalid_0's auc: 0.938932\n",
      "[253]\tvalid_0's auc: 0.938945\n",
      "[254]\tvalid_0's auc: 0.938963\n",
      "[255]\tvalid_0's auc: 0.93897\n",
      "[256]\tvalid_0's auc: 0.938996\n",
      "[257]\tvalid_0's auc: 0.939009\n",
      "[258]\tvalid_0's auc: 0.93902\n",
      "[259]\tvalid_0's auc: 0.939045\n",
      "[260]\tvalid_0's auc: 0.939071\n",
      "[261]\tvalid_0's auc: 0.939095\n",
      "[262]\tvalid_0's auc: 0.9391\n",
      "[263]\tvalid_0's auc: 0.939131\n",
      "[264]\tvalid_0's auc: 0.939157\n",
      "[265]\tvalid_0's auc: 0.939186\n",
      "[266]\tvalid_0's auc: 0.939198\n",
      "[267]\tvalid_0's auc: 0.939237\n",
      "[268]\tvalid_0's auc: 0.939234\n",
      "[269]\tvalid_0's auc: 0.93925\n",
      "[270]\tvalid_0's auc: 0.939271\n",
      "[271]\tvalid_0's auc: 0.939286\n",
      "[272]\tvalid_0's auc: 0.939297\n",
      "[273]\tvalid_0's auc: 0.93932\n",
      "[274]\tvalid_0's auc: 0.939327\n",
      "[275]\tvalid_0's auc: 0.939345\n",
      "[276]\tvalid_0's auc: 0.939351\n",
      "[277]\tvalid_0's auc: 0.93936\n",
      "[278]\tvalid_0's auc: 0.93937\n",
      "[279]\tvalid_0's auc: 0.93938\n",
      "[280]\tvalid_0's auc: 0.939386\n",
      "[281]\tvalid_0's auc: 0.939391\n",
      "[282]\tvalid_0's auc: 0.939414\n",
      "[283]\tvalid_0's auc: 0.939437\n",
      "[284]\tvalid_0's auc: 0.939456\n",
      "[285]\tvalid_0's auc: 0.939476\n",
      "[286]\tvalid_0's auc: 0.939506\n",
      "[287]\tvalid_0's auc: 0.939516\n",
      "[288]\tvalid_0's auc: 0.939533\n",
      "[289]\tvalid_0's auc: 0.939532\n",
      "[290]\tvalid_0's auc: 0.939539\n",
      "[291]\tvalid_0's auc: 0.93955\n",
      "[292]\tvalid_0's auc: 0.939555\n",
      "[293]\tvalid_0's auc: 0.939563\n",
      "[294]\tvalid_0's auc: 0.939576\n",
      "[295]\tvalid_0's auc: 0.939594\n",
      "[296]\tvalid_0's auc: 0.93961\n",
      "[297]\tvalid_0's auc: 0.939619\n",
      "[298]\tvalid_0's auc: 0.939633\n",
      "[299]\tvalid_0's auc: 0.939628\n",
      "[300]\tvalid_0's auc: 0.939644\n",
      "[301]\tvalid_0's auc: 0.939677\n",
      "[302]\tvalid_0's auc: 0.939706\n",
      "[303]\tvalid_0's auc: 0.939709\n",
      "[304]\tvalid_0's auc: 0.939733\n",
      "[305]\tvalid_0's auc: 0.939757\n",
      "[306]\tvalid_0's auc: 0.939765\n",
      "[307]\tvalid_0's auc: 0.939793\n",
      "[308]\tvalid_0's auc: 0.939799\n",
      "[309]\tvalid_0's auc: 0.939811\n",
      "[310]\tvalid_0's auc: 0.93983\n",
      "[311]\tvalid_0's auc: 0.939841\n",
      "[312]\tvalid_0's auc: 0.939841\n",
      "[313]\tvalid_0's auc: 0.939856\n",
      "[314]\tvalid_0's auc: 0.93987\n",
      "[315]\tvalid_0's auc: 0.939883\n",
      "[316]\tvalid_0's auc: 0.939898\n",
      "[317]\tvalid_0's auc: 0.939909\n",
      "[318]\tvalid_0's auc: 0.939914\n",
      "[319]\tvalid_0's auc: 0.939921\n",
      "[320]\tvalid_0's auc: 0.939933\n",
      "[321]\tvalid_0's auc: 0.93995\n",
      "[322]\tvalid_0's auc: 0.939958\n",
      "[323]\tvalid_0's auc: 0.939964\n",
      "[324]\tvalid_0's auc: 0.939982\n",
      "[325]\tvalid_0's auc: 0.939988\n",
      "[326]\tvalid_0's auc: 0.939995\n",
      "[327]\tvalid_0's auc: 0.940005\n",
      "[328]\tvalid_0's auc: 0.94001\n",
      "[329]\tvalid_0's auc: 0.940012\n",
      "[330]\tvalid_0's auc: 0.940022\n",
      "[331]\tvalid_0's auc: 0.940038\n",
      "[332]\tvalid_0's auc: 0.940046\n",
      "[333]\tvalid_0's auc: 0.94005\n",
      "[334]\tvalid_0's auc: 0.940053\n",
      "[335]\tvalid_0's auc: 0.940064\n",
      "[336]\tvalid_0's auc: 0.940063\n",
      "[337]\tvalid_0's auc: 0.940067\n",
      "[338]\tvalid_0's auc: 0.940066\n",
      "[339]\tvalid_0's auc: 0.940077\n",
      "[340]\tvalid_0's auc: 0.940084\n",
      "[341]\tvalid_0's auc: 0.940107\n",
      "[342]\tvalid_0's auc: 0.940113\n",
      "[343]\tvalid_0's auc: 0.940118\n",
      "[344]\tvalid_0's auc: 0.940127\n",
      "[345]\tvalid_0's auc: 0.940135\n",
      "[346]\tvalid_0's auc: 0.94014\n",
      "[347]\tvalid_0's auc: 0.940147\n",
      "[348]\tvalid_0's auc: 0.940155\n",
      "[349]\tvalid_0's auc: 0.940166\n",
      "[350]\tvalid_0's auc: 0.940173\n",
      "[351]\tvalid_0's auc: 0.940192\n",
      "[352]\tvalid_0's auc: 0.940196\n",
      "[353]\tvalid_0's auc: 0.940204\n",
      "[354]\tvalid_0's auc: 0.940204\n",
      "[355]\tvalid_0's auc: 0.940224\n",
      "[356]\tvalid_0's auc: 0.940235\n",
      "[357]\tvalid_0's auc: 0.940246\n",
      "[358]\tvalid_0's auc: 0.940246\n",
      "[359]\tvalid_0's auc: 0.940248\n",
      "[360]\tvalid_0's auc: 0.940258\n",
      "[361]\tvalid_0's auc: 0.940281\n",
      "[362]\tvalid_0's auc: 0.940286\n",
      "[363]\tvalid_0's auc: 0.940298\n",
      "[364]\tvalid_0's auc: 0.940302\n",
      "[365]\tvalid_0's auc: 0.940303\n",
      "[366]\tvalid_0's auc: 0.940299\n",
      "[367]\tvalid_0's auc: 0.940305\n",
      "[368]\tvalid_0's auc: 0.940323\n",
      "[369]\tvalid_0's auc: 0.94032\n",
      "[370]\tvalid_0's auc: 0.940329\n",
      "[371]\tvalid_0's auc: 0.940337\n",
      "[372]\tvalid_0's auc: 0.940345\n",
      "[373]\tvalid_0's auc: 0.94036\n",
      "[374]\tvalid_0's auc: 0.940352\n",
      "[375]\tvalid_0's auc: 0.94035\n",
      "[376]\tvalid_0's auc: 0.940348\n",
      "[377]\tvalid_0's auc: 0.940351\n",
      "[378]\tvalid_0's auc: 0.940365\n",
      "[379]\tvalid_0's auc: 0.940357\n",
      "[380]\tvalid_0's auc: 0.940358\n",
      "[381]\tvalid_0's auc: 0.940369\n",
      "[382]\tvalid_0's auc: 0.940384\n",
      "[383]\tvalid_0's auc: 0.940404\n",
      "[384]\tvalid_0's auc: 0.940412\n",
      "[385]\tvalid_0's auc: 0.940411\n",
      "[386]\tvalid_0's auc: 0.940414\n",
      "[387]\tvalid_0's auc: 0.940422\n",
      "[388]\tvalid_0's auc: 0.940427\n",
      "[389]\tvalid_0's auc: 0.940432\n",
      "[390]\tvalid_0's auc: 0.940436\n",
      "[391]\tvalid_0's auc: 0.940444\n",
      "[392]\tvalid_0's auc: 0.940452\n",
      "[393]\tvalid_0's auc: 0.940458\n",
      "[394]\tvalid_0's auc: 0.940462\n",
      "[395]\tvalid_0's auc: 0.940475\n",
      "[396]\tvalid_0's auc: 0.94049\n",
      "[397]\tvalid_0's auc: 0.940489\n",
      "[398]\tvalid_0's auc: 0.940483\n",
      "[399]\tvalid_0's auc: 0.940483\n",
      "[400]\tvalid_0's auc: 0.940504\n",
      "[401]\tvalid_0's auc: 0.940505\n",
      "[402]\tvalid_0's auc: 0.94051\n",
      "[403]\tvalid_0's auc: 0.940511\n",
      "[404]\tvalid_0's auc: 0.940513\n",
      "[405]\tvalid_0's auc: 0.940517\n",
      "[406]\tvalid_0's auc: 0.940511\n",
      "[407]\tvalid_0's auc: 0.940506\n",
      "[408]\tvalid_0's auc: 0.940503\n",
      "[409]\tvalid_0's auc: 0.940498\n",
      "[410]\tvalid_0's auc: 0.940499\n",
      "[411]\tvalid_0's auc: 0.940516\n",
      "[412]\tvalid_0's auc: 0.940529\n",
      "[413]\tvalid_0's auc: 0.940529\n",
      "[414]\tvalid_0's auc: 0.940529\n",
      "[415]\tvalid_0's auc: 0.940527\n",
      "[416]\tvalid_0's auc: 0.940532\n",
      "[417]\tvalid_0's auc: 0.940525\n",
      "[418]\tvalid_0's auc: 0.940523\n",
      "[419]\tvalid_0's auc: 0.940522\n",
      "[420]\tvalid_0's auc: 0.940521\n",
      "[421]\tvalid_0's auc: 0.940527\n",
      "[422]\tvalid_0's auc: 0.940533\n",
      "[423]\tvalid_0's auc: 0.940547\n",
      "[424]\tvalid_0's auc: 0.940547\n",
      "[425]\tvalid_0's auc: 0.940561\n",
      "[426]\tvalid_0's auc: 0.940568\n",
      "[427]\tvalid_0's auc: 0.940571\n",
      "[428]\tvalid_0's auc: 0.940573\n",
      "[429]\tvalid_0's auc: 0.940577\n",
      "[430]\tvalid_0's auc: 0.940587\n",
      "[431]\tvalid_0's auc: 0.940591\n",
      "[432]\tvalid_0's auc: 0.940588\n",
      "[433]\tvalid_0's auc: 0.940598\n",
      "[434]\tvalid_0's auc: 0.940603\n",
      "[435]\tvalid_0's auc: 0.940606\n",
      "[436]\tvalid_0's auc: 0.940618\n",
      "[437]\tvalid_0's auc: 0.940619\n",
      "[438]\tvalid_0's auc: 0.940625\n",
      "[439]\tvalid_0's auc: 0.940628\n",
      "[440]\tvalid_0's auc: 0.940633\n",
      "[441]\tvalid_0's auc: 0.940642\n",
      "[442]\tvalid_0's auc: 0.940655\n",
      "[443]\tvalid_0's auc: 0.940663\n",
      "[444]\tvalid_0's auc: 0.940659\n",
      "[445]\tvalid_0's auc: 0.94067\n",
      "[446]\tvalid_0's auc: 0.940678\n",
      "[447]\tvalid_0's auc: 0.940686\n",
      "[448]\tvalid_0's auc: 0.940691\n",
      "[449]\tvalid_0's auc: 0.940704\n",
      "[450]\tvalid_0's auc: 0.940701\n",
      "[451]\tvalid_0's auc: 0.940705\n",
      "[452]\tvalid_0's auc: 0.940707\n",
      "[453]\tvalid_0's auc: 0.940708\n",
      "[454]\tvalid_0's auc: 0.940716\n",
      "[455]\tvalid_0's auc: 0.94072\n",
      "[456]\tvalid_0's auc: 0.940724\n",
      "[457]\tvalid_0's auc: 0.94074\n",
      "[458]\tvalid_0's auc: 0.940752\n",
      "[459]\tvalid_0's auc: 0.940753\n",
      "[460]\tvalid_0's auc: 0.940754\n",
      "[461]\tvalid_0's auc: 0.940767\n",
      "[462]\tvalid_0's auc: 0.940776\n",
      "[463]\tvalid_0's auc: 0.940778\n",
      "[464]\tvalid_0's auc: 0.940778\n",
      "[465]\tvalid_0's auc: 0.940779\n",
      "[466]\tvalid_0's auc: 0.940776\n",
      "[467]\tvalid_0's auc: 0.940776\n",
      "[468]\tvalid_0's auc: 0.940781\n",
      "[469]\tvalid_0's auc: 0.94079\n",
      "[470]\tvalid_0's auc: 0.940795\n",
      "[471]\tvalid_0's auc: 0.940793\n",
      "[472]\tvalid_0's auc: 0.940797\n",
      "[473]\tvalid_0's auc: 0.940801\n",
      "[474]\tvalid_0's auc: 0.940802\n",
      "[475]\tvalid_0's auc: 0.94081\n",
      "[476]\tvalid_0's auc: 0.940813\n",
      "[477]\tvalid_0's auc: 0.94081\n",
      "[478]\tvalid_0's auc: 0.940818\n",
      "[479]\tvalid_0's auc: 0.940834\n",
      "[480]\tvalid_0's auc: 0.940836\n",
      "[481]\tvalid_0's auc: 0.940841\n",
      "[482]\tvalid_0's auc: 0.940839\n",
      "[483]\tvalid_0's auc: 0.940855\n",
      "[484]\tvalid_0's auc: 0.940868\n",
      "[485]\tvalid_0's auc: 0.940874\n",
      "[486]\tvalid_0's auc: 0.940869\n",
      "[487]\tvalid_0's auc: 0.940872\n",
      "[488]\tvalid_0's auc: 0.940882\n",
      "[489]\tvalid_0's auc: 0.940894\n",
      "[490]\tvalid_0's auc: 0.940908\n",
      "[491]\tvalid_0's auc: 0.94091\n",
      "[492]\tvalid_0's auc: 0.940915\n",
      "[493]\tvalid_0's auc: 0.940914\n",
      "[494]\tvalid_0's auc: 0.940928\n",
      "[495]\tvalid_0's auc: 0.940932\n",
      "[496]\tvalid_0's auc: 0.940938\n",
      "[497]\tvalid_0's auc: 0.940945\n",
      "[498]\tvalid_0's auc: 0.940953\n",
      "[499]\tvalid_0's auc: 0.940958\n",
      "[500]\tvalid_0's auc: 0.940964\n",
      "[501]\tvalid_0's auc: 0.940985\n",
      "[502]\tvalid_0's auc: 0.940995\n",
      "[503]\tvalid_0's auc: 0.941005\n",
      "[504]\tvalid_0's auc: 0.941007\n",
      "[505]\tvalid_0's auc: 0.941016\n",
      "[506]\tvalid_0's auc: 0.94102\n",
      "[507]\tvalid_0's auc: 0.941027\n",
      "[508]\tvalid_0's auc: 0.941032\n",
      "[509]\tvalid_0's auc: 0.941042\n",
      "[510]\tvalid_0's auc: 0.941058\n",
      "[511]\tvalid_0's auc: 0.94106\n",
      "[512]\tvalid_0's auc: 0.94107\n",
      "[513]\tvalid_0's auc: 0.941081\n",
      "[514]\tvalid_0's auc: 0.941081\n",
      "[515]\tvalid_0's auc: 0.94109\n",
      "[516]\tvalid_0's auc: 0.941085\n",
      "[517]\tvalid_0's auc: 0.941084\n",
      "[518]\tvalid_0's auc: 0.941087\n",
      "[519]\tvalid_0's auc: 0.941097\n",
      "[520]\tvalid_0's auc: 0.941098\n",
      "[521]\tvalid_0's auc: 0.941104\n",
      "[522]\tvalid_0's auc: 0.94111\n",
      "[523]\tvalid_0's auc: 0.941104\n",
      "[524]\tvalid_0's auc: 0.941095\n",
      "[525]\tvalid_0's auc: 0.941094\n",
      "[526]\tvalid_0's auc: 0.941101\n",
      "[527]\tvalid_0's auc: 0.941104\n",
      "[528]\tvalid_0's auc: 0.941097\n",
      "[529]\tvalid_0's auc: 0.941103\n",
      "[530]\tvalid_0's auc: 0.941103\n",
      "[531]\tvalid_0's auc: 0.941107\n",
      "[532]\tvalid_0's auc: 0.941105\n",
      "[533]\tvalid_0's auc: 0.941111\n",
      "[534]\tvalid_0's auc: 0.941116\n",
      "[535]\tvalid_0's auc: 0.941116\n",
      "[536]\tvalid_0's auc: 0.941122\n",
      "[537]\tvalid_0's auc: 0.941125\n",
      "[538]\tvalid_0's auc: 0.941132\n",
      "[539]\tvalid_0's auc: 0.941144\n",
      "[540]\tvalid_0's auc: 0.941145\n",
      "[541]\tvalid_0's auc: 0.941147\n",
      "[542]\tvalid_0's auc: 0.941152\n",
      "[543]\tvalid_0's auc: 0.941146\n",
      "[544]\tvalid_0's auc: 0.941153\n",
      "[545]\tvalid_0's auc: 0.941152\n",
      "[546]\tvalid_0's auc: 0.941152\n",
      "[547]\tvalid_0's auc: 0.941147\n",
      "[548]\tvalid_0's auc: 0.941142\n",
      "[549]\tvalid_0's auc: 0.941147\n",
      "[550]\tvalid_0's auc: 0.941133\n",
      "[551]\tvalid_0's auc: 0.941125\n",
      "[552]\tvalid_0's auc: 0.941126\n",
      "[553]\tvalid_0's auc: 0.941122\n",
      "[554]\tvalid_0's auc: 0.941119\n",
      "[555]\tvalid_0's auc: 0.941112\n",
      "[556]\tvalid_0's auc: 0.941107\n",
      "[557]\tvalid_0's auc: 0.941103\n",
      "[558]\tvalid_0's auc: 0.94111\n",
      "[559]\tvalid_0's auc: 0.941112\n",
      "[560]\tvalid_0's auc: 0.941118\n",
      "[561]\tvalid_0's auc: 0.941122\n",
      "[562]\tvalid_0's auc: 0.941119\n",
      "[563]\tvalid_0's auc: 0.941113\n",
      "[564]\tvalid_0's auc: 0.941111\n",
      "[565]\tvalid_0's auc: 0.941105\n",
      "[566]\tvalid_0's auc: 0.941118\n",
      "[567]\tvalid_0's auc: 0.941112\n",
      "[568]\tvalid_0's auc: 0.941116\n",
      "[569]\tvalid_0's auc: 0.941124\n",
      "[570]\tvalid_0's auc: 0.941124\n",
      "[571]\tvalid_0's auc: 0.941124\n",
      "[572]\tvalid_0's auc: 0.941117\n",
      "[573]\tvalid_0's auc: 0.941116\n",
      "[574]\tvalid_0's auc: 0.941119\n",
      "[575]\tvalid_0's auc: 0.941114\n",
      "[576]\tvalid_0's auc: 0.941107\n",
      "[577]\tvalid_0's auc: 0.94111\n",
      "[578]\tvalid_0's auc: 0.941103\n",
      "[579]\tvalid_0's auc: 0.941099\n",
      "[580]\tvalid_0's auc: 0.941108\n",
      "[581]\tvalid_0's auc: 0.941107\n",
      "[582]\tvalid_0's auc: 0.941103\n",
      "[583]\tvalid_0's auc: 0.9411\n",
      "[584]\tvalid_0's auc: 0.941102\n",
      "[585]\tvalid_0's auc: 0.941098\n",
      "[586]\tvalid_0's auc: 0.941092\n",
      "[587]\tvalid_0's auc: 0.941102\n",
      "[588]\tvalid_0's auc: 0.94111\n",
      "[589]\tvalid_0's auc: 0.941118\n",
      "[590]\tvalid_0's auc: 0.941124\n",
      "[591]\tvalid_0's auc: 0.94112\n",
      "[592]\tvalid_0's auc: 0.941114\n",
      "[593]\tvalid_0's auc: 0.941116\n",
      "[594]\tvalid_0's auc: 0.941108\n",
      "[595]\tvalid_0's auc: 0.941113\n",
      "[596]\tvalid_0's auc: 0.941116\n",
      "[597]\tvalid_0's auc: 0.941119\n",
      "[598]\tvalid_0's auc: 0.941121\n",
      "[599]\tvalid_0's auc: 0.941117\n",
      "[600]\tvalid_0's auc: 0.941123\n",
      "[601]\tvalid_0's auc: 0.941134\n",
      "[602]\tvalid_0's auc: 0.941141\n",
      "[603]\tvalid_0's auc: 0.941146\n",
      "[604]\tvalid_0's auc: 0.941151\n",
      "[605]\tvalid_0's auc: 0.941157\n",
      "[606]\tvalid_0's auc: 0.941157\n",
      "[607]\tvalid_0's auc: 0.941156\n",
      "[608]\tvalid_0's auc: 0.941157\n",
      "[609]\tvalid_0's auc: 0.941162\n",
      "[610]\tvalid_0's auc: 0.941169\n",
      "[611]\tvalid_0's auc: 0.941183\n",
      "[612]\tvalid_0's auc: 0.941185\n",
      "[613]\tvalid_0's auc: 0.941185\n",
      "[614]\tvalid_0's auc: 0.941184\n",
      "[615]\tvalid_0's auc: 0.941188\n",
      "[616]\tvalid_0's auc: 0.941198\n",
      "[617]\tvalid_0's auc: 0.941203\n",
      "[618]\tvalid_0's auc: 0.941205\n",
      "[619]\tvalid_0's auc: 0.941207\n",
      "[620]\tvalid_0's auc: 0.941212\n",
      "[621]\tvalid_0's auc: 0.941218\n",
      "[622]\tvalid_0's auc: 0.941224\n",
      "[623]\tvalid_0's auc: 0.941225\n",
      "[624]\tvalid_0's auc: 0.941228\n",
      "[625]\tvalid_0's auc: 0.941236\n",
      "[626]\tvalid_0's auc: 0.941235\n",
      "[627]\tvalid_0's auc: 0.941229\n",
      "[628]\tvalid_0's auc: 0.941227\n",
      "[629]\tvalid_0's auc: 0.941225\n",
      "[630]\tvalid_0's auc: 0.94123\n",
      "[631]\tvalid_0's auc: 0.941227\n",
      "[632]\tvalid_0's auc: 0.94123\n",
      "[633]\tvalid_0's auc: 0.941238\n",
      "[634]\tvalid_0's auc: 0.941238\n",
      "[635]\tvalid_0's auc: 0.941244\n",
      "[636]\tvalid_0's auc: 0.941245\n",
      "[637]\tvalid_0's auc: 0.941246\n",
      "[638]\tvalid_0's auc: 0.941247\n",
      "[639]\tvalid_0's auc: 0.941252\n",
      "[640]\tvalid_0's auc: 0.941254\n",
      "[641]\tvalid_0's auc: 0.941264\n",
      "[642]\tvalid_0's auc: 0.941267\n",
      "[643]\tvalid_0's auc: 0.941268\n",
      "[644]\tvalid_0's auc: 0.941267\n",
      "[645]\tvalid_0's auc: 0.941269\n",
      "[646]\tvalid_0's auc: 0.94127\n",
      "[647]\tvalid_0's auc: 0.941266\n",
      "[648]\tvalid_0's auc: 0.941265\n",
      "[649]\tvalid_0's auc: 0.941275\n",
      "[650]\tvalid_0's auc: 0.941275\n",
      "[651]\tvalid_0's auc: 0.94128\n",
      "[652]\tvalid_0's auc: 0.941279\n",
      "[653]\tvalid_0's auc: 0.941281\n",
      "[654]\tvalid_0's auc: 0.941291\n",
      "[655]\tvalid_0's auc: 0.941298\n",
      "[656]\tvalid_0's auc: 0.941288\n",
      "[657]\tvalid_0's auc: 0.941287\n",
      "[658]\tvalid_0's auc: 0.941284\n",
      "[659]\tvalid_0's auc: 0.941284\n",
      "[660]\tvalid_0's auc: 0.941285\n",
      "[661]\tvalid_0's auc: 0.941286\n",
      "[662]\tvalid_0's auc: 0.941293\n",
      "[663]\tvalid_0's auc: 0.94129\n",
      "[664]\tvalid_0's auc: 0.941285\n",
      "[665]\tvalid_0's auc: 0.941293\n",
      "[666]\tvalid_0's auc: 0.941295\n",
      "[667]\tvalid_0's auc: 0.941295\n",
      "[668]\tvalid_0's auc: 0.941303\n",
      "[669]\tvalid_0's auc: 0.941301\n",
      "[670]\tvalid_0's auc: 0.941309\n",
      "[671]\tvalid_0's auc: 0.941317\n",
      "[672]\tvalid_0's auc: 0.94132\n",
      "[673]\tvalid_0's auc: 0.941329\n",
      "[674]\tvalid_0's auc: 0.941335\n",
      "[675]\tvalid_0's auc: 0.94134\n",
      "[676]\tvalid_0's auc: 0.941343\n",
      "[677]\tvalid_0's auc: 0.941344\n",
      "[678]\tvalid_0's auc: 0.941349\n",
      "[679]\tvalid_0's auc: 0.941346\n",
      "[680]\tvalid_0's auc: 0.94134\n",
      "[681]\tvalid_0's auc: 0.941348\n",
      "[682]\tvalid_0's auc: 0.941363\n",
      "[683]\tvalid_0's auc: 0.941366\n",
      "[684]\tvalid_0's auc: 0.941371\n",
      "[685]\tvalid_0's auc: 0.941372\n",
      "[686]\tvalid_0's auc: 0.941374\n",
      "[687]\tvalid_0's auc: 0.941378\n",
      "[688]\tvalid_0's auc: 0.941377\n",
      "[689]\tvalid_0's auc: 0.941377\n",
      "[690]\tvalid_0's auc: 0.941379\n",
      "[691]\tvalid_0's auc: 0.941381\n",
      "[692]\tvalid_0's auc: 0.941378\n",
      "[693]\tvalid_0's auc: 0.941381\n",
      "[694]\tvalid_0's auc: 0.94139\n",
      "[695]\tvalid_0's auc: 0.941394\n",
      "[696]\tvalid_0's auc: 0.941393\n",
      "[697]\tvalid_0's auc: 0.9414\n",
      "[698]\tvalid_0's auc: 0.941405\n",
      "[699]\tvalid_0's auc: 0.941409\n",
      "[700]\tvalid_0's auc: 0.941403\n",
      "[701]\tvalid_0's auc: 0.941405\n",
      "[702]\tvalid_0's auc: 0.941405\n",
      "[703]\tvalid_0's auc: 0.941414\n",
      "[704]\tvalid_0's auc: 0.941412\n",
      "[705]\tvalid_0's auc: 0.941421\n",
      "[706]\tvalid_0's auc: 0.941423\n",
      "[707]\tvalid_0's auc: 0.941423\n",
      "[708]\tvalid_0's auc: 0.941426\n",
      "[709]\tvalid_0's auc: 0.941426\n",
      "[710]\tvalid_0's auc: 0.941429\n",
      "[711]\tvalid_0's auc: 0.941428\n",
      "[712]\tvalid_0's auc: 0.941434\n",
      "[713]\tvalid_0's auc: 0.941434\n",
      "[714]\tvalid_0's auc: 0.94144\n",
      "[715]\tvalid_0's auc: 0.941442\n",
      "[716]\tvalid_0's auc: 0.941443\n",
      "[717]\tvalid_0's auc: 0.941454\n",
      "[718]\tvalid_0's auc: 0.941461\n",
      "[719]\tvalid_0's auc: 0.941458\n",
      "[720]\tvalid_0's auc: 0.94146\n",
      "[721]\tvalid_0's auc: 0.941465\n",
      "[722]\tvalid_0's auc: 0.941469\n",
      "[723]\tvalid_0's auc: 0.941472\n",
      "[724]\tvalid_0's auc: 0.941481\n",
      "[725]\tvalid_0's auc: 0.941494\n",
      "[726]\tvalid_0's auc: 0.941502\n",
      "[727]\tvalid_0's auc: 0.941505\n",
      "[728]\tvalid_0's auc: 0.94151\n",
      "[729]\tvalid_0's auc: 0.941518\n",
      "[730]\tvalid_0's auc: 0.941525\n",
      "[731]\tvalid_0's auc: 0.941533\n",
      "[732]\tvalid_0's auc: 0.941542\n",
      "[733]\tvalid_0's auc: 0.941552\n",
      "[734]\tvalid_0's auc: 0.941552\n",
      "[735]\tvalid_0's auc: 0.941555\n",
      "[736]\tvalid_0's auc: 0.941553\n",
      "[737]\tvalid_0's auc: 0.941567\n",
      "[738]\tvalid_0's auc: 0.941575\n",
      "[739]\tvalid_0's auc: 0.94158\n",
      "[740]\tvalid_0's auc: 0.941586\n",
      "[741]\tvalid_0's auc: 0.941601\n",
      "[742]\tvalid_0's auc: 0.941603\n",
      "[743]\tvalid_0's auc: 0.941606\n",
      "[744]\tvalid_0's auc: 0.941608\n",
      "[745]\tvalid_0's auc: 0.941608\n",
      "[746]\tvalid_0's auc: 0.941605\n",
      "[747]\tvalid_0's auc: 0.941603\n",
      "[748]\tvalid_0's auc: 0.941609\n",
      "[749]\tvalid_0's auc: 0.94161\n",
      "[750]\tvalid_0's auc: 0.94162\n",
      "[751]\tvalid_0's auc: 0.941619\n",
      "[752]\tvalid_0's auc: 0.941614\n",
      "[753]\tvalid_0's auc: 0.941629\n",
      "[754]\tvalid_0's auc: 0.941628\n",
      "[755]\tvalid_0's auc: 0.941638\n",
      "[756]\tvalid_0's auc: 0.941644\n",
      "[757]\tvalid_0's auc: 0.941641\n",
      "[758]\tvalid_0's auc: 0.941644\n",
      "[759]\tvalid_0's auc: 0.941638\n",
      "[760]\tvalid_0's auc: 0.941641\n",
      "[761]\tvalid_0's auc: 0.941646\n",
      "[762]\tvalid_0's auc: 0.941649\n",
      "[763]\tvalid_0's auc: 0.941653\n",
      "[764]\tvalid_0's auc: 0.941657\n",
      "[765]\tvalid_0's auc: 0.941654\n",
      "[766]\tvalid_0's auc: 0.941654\n",
      "[767]\tvalid_0's auc: 0.941652\n",
      "[768]\tvalid_0's auc: 0.94165\n",
      "[769]\tvalid_0's auc: 0.941654\n",
      "[770]\tvalid_0's auc: 0.941658\n",
      "[771]\tvalid_0's auc: 0.941653\n",
      "[772]\tvalid_0's auc: 0.941659\n",
      "[773]\tvalid_0's auc: 0.941669\n",
      "[774]\tvalid_0's auc: 0.941666\n",
      "[775]\tvalid_0's auc: 0.941665\n",
      "[776]\tvalid_0's auc: 0.941668\n",
      "[777]\tvalid_0's auc: 0.941682\n",
      "[778]\tvalid_0's auc: 0.94169\n",
      "[779]\tvalid_0's auc: 0.941694\n",
      "[780]\tvalid_0's auc: 0.941703\n",
      "[781]\tvalid_0's auc: 0.941709\n",
      "[782]\tvalid_0's auc: 0.941709\n",
      "[783]\tvalid_0's auc: 0.941721\n",
      "[784]\tvalid_0's auc: 0.941737\n",
      "[785]\tvalid_0's auc: 0.941738\n",
      "[786]\tvalid_0's auc: 0.941743\n",
      "[787]\tvalid_0's auc: 0.941742\n",
      "[788]\tvalid_0's auc: 0.941744\n",
      "[789]\tvalid_0's auc: 0.941745\n",
      "[790]\tvalid_0's auc: 0.941741\n",
      "[791]\tvalid_0's auc: 0.941746\n",
      "[792]\tvalid_0's auc: 0.941738\n",
      "[793]\tvalid_0's auc: 0.941749\n",
      "[794]\tvalid_0's auc: 0.941756\n",
      "[795]\tvalid_0's auc: 0.941751\n",
      "[796]\tvalid_0's auc: 0.941756\n",
      "[797]\tvalid_0's auc: 0.941759\n",
      "[798]\tvalid_0's auc: 0.941763\n",
      "[799]\tvalid_0's auc: 0.941762\n",
      "[800]\tvalid_0's auc: 0.941761\n",
      "[801]\tvalid_0's auc: 0.941765\n",
      "[802]\tvalid_0's auc: 0.941775\n",
      "[803]\tvalid_0's auc: 0.941789\n",
      "[804]\tvalid_0's auc: 0.94179\n",
      "[805]\tvalid_0's auc: 0.941789\n",
      "[806]\tvalid_0's auc: 0.941792\n",
      "[807]\tvalid_0's auc: 0.941782\n",
      "[808]\tvalid_0's auc: 0.941784\n",
      "[809]\tvalid_0's auc: 0.941786\n",
      "[810]\tvalid_0's auc: 0.941789\n",
      "[811]\tvalid_0's auc: 0.941789\n",
      "[812]\tvalid_0's auc: 0.941792\n",
      "[813]\tvalid_0's auc: 0.941795\n",
      "[814]\tvalid_0's auc: 0.941789\n",
      "[815]\tvalid_0's auc: 0.941792\n",
      "[816]\tvalid_0's auc: 0.94179\n",
      "[817]\tvalid_0's auc: 0.941788\n",
      "[818]\tvalid_0's auc: 0.941786\n",
      "[819]\tvalid_0's auc: 0.941783\n",
      "[820]\tvalid_0's auc: 0.94178\n",
      "[821]\tvalid_0's auc: 0.941776\n",
      "[822]\tvalid_0's auc: 0.941777\n",
      "[823]\tvalid_0's auc: 0.941778\n",
      "[824]\tvalid_0's auc: 0.941782\n",
      "[825]\tvalid_0's auc: 0.941787\n",
      "[826]\tvalid_0's auc: 0.9418\n",
      "[827]\tvalid_0's auc: 0.941798\n",
      "[828]\tvalid_0's auc: 0.941796\n",
      "[829]\tvalid_0's auc: 0.941817\n",
      "[830]\tvalid_0's auc: 0.941818\n",
      "[831]\tvalid_0's auc: 0.941818\n",
      "[832]\tvalid_0's auc: 0.941816\n",
      "[833]\tvalid_0's auc: 0.941817\n",
      "[834]\tvalid_0's auc: 0.94182\n",
      "[835]\tvalid_0's auc: 0.941824\n",
      "[836]\tvalid_0's auc: 0.941821\n",
      "[837]\tvalid_0's auc: 0.941824\n",
      "[838]\tvalid_0's auc: 0.941827\n",
      "[839]\tvalid_0's auc: 0.941825\n",
      "[840]\tvalid_0's auc: 0.941822\n",
      "[841]\tvalid_0's auc: 0.941828\n",
      "[842]\tvalid_0's auc: 0.941829\n",
      "[843]\tvalid_0's auc: 0.941837\n",
      "[844]\tvalid_0's auc: 0.941845\n",
      "[845]\tvalid_0's auc: 0.941844\n",
      "[846]\tvalid_0's auc: 0.941848\n",
      "[847]\tvalid_0's auc: 0.941846\n",
      "[848]\tvalid_0's auc: 0.94185\n",
      "[849]\tvalid_0's auc: 0.941847\n",
      "[850]\tvalid_0's auc: 0.941843\n",
      "[851]\tvalid_0's auc: 0.941851\n",
      "[852]\tvalid_0's auc: 0.94185\n",
      "[853]\tvalid_0's auc: 0.941848\n",
      "[854]\tvalid_0's auc: 0.941848\n",
      "[855]\tvalid_0's auc: 0.941844\n",
      "[856]\tvalid_0's auc: 0.941848\n",
      "[857]\tvalid_0's auc: 0.941848\n",
      "[858]\tvalid_0's auc: 0.941852\n",
      "[859]\tvalid_0's auc: 0.941853\n",
      "[860]\tvalid_0's auc: 0.941852\n",
      "[861]\tvalid_0's auc: 0.941856\n",
      "[862]\tvalid_0's auc: 0.941856\n",
      "[863]\tvalid_0's auc: 0.941854\n",
      "[864]\tvalid_0's auc: 0.941859\n",
      "[865]\tvalid_0's auc: 0.941863\n",
      "[866]\tvalid_0's auc: 0.941871\n",
      "[867]\tvalid_0's auc: 0.941874\n",
      "[868]\tvalid_0's auc: 0.941877\n",
      "[869]\tvalid_0's auc: 0.941875\n",
      "[870]\tvalid_0's auc: 0.941873\n",
      "[871]\tvalid_0's auc: 0.941872\n",
      "[872]\tvalid_0's auc: 0.941872\n",
      "[873]\tvalid_0's auc: 0.941872\n",
      "[874]\tvalid_0's auc: 0.941868\n",
      "[875]\tvalid_0's auc: 0.941864\n",
      "[876]\tvalid_0's auc: 0.94187\n",
      "[877]\tvalid_0's auc: 0.941869\n",
      "[878]\tvalid_0's auc: 0.941872\n",
      "[879]\tvalid_0's auc: 0.941875\n",
      "[880]\tvalid_0's auc: 0.941876\n",
      "[881]\tvalid_0's auc: 0.941883\n",
      "[882]\tvalid_0's auc: 0.941883\n",
      "[883]\tvalid_0's auc: 0.941886\n",
      "[884]\tvalid_0's auc: 0.941889\n",
      "[885]\tvalid_0's auc: 0.941887\n",
      "[886]\tvalid_0's auc: 0.941886\n",
      "[887]\tvalid_0's auc: 0.941888\n",
      "[888]\tvalid_0's auc: 0.941885\n",
      "[889]\tvalid_0's auc: 0.941882\n",
      "[890]\tvalid_0's auc: 0.94188\n",
      "[891]\tvalid_0's auc: 0.941874\n",
      "[892]\tvalid_0's auc: 0.941874\n",
      "[893]\tvalid_0's auc: 0.941877\n",
      "[894]\tvalid_0's auc: 0.941872\n",
      "[895]\tvalid_0's auc: 0.941871\n",
      "[896]\tvalid_0's auc: 0.941876\n",
      "[897]\tvalid_0's auc: 0.941875\n",
      "[898]\tvalid_0's auc: 0.941872\n",
      "[899]\tvalid_0's auc: 0.941868\n",
      "[900]\tvalid_0's auc: 0.94187\n",
      "[901]\tvalid_0's auc: 0.941873\n",
      "[902]\tvalid_0's auc: 0.941879\n",
      "[903]\tvalid_0's auc: 0.941877\n",
      "[904]\tvalid_0's auc: 0.94188\n",
      "[905]\tvalid_0's auc: 0.941887\n",
      "[906]\tvalid_0's auc: 0.941886\n",
      "[907]\tvalid_0's auc: 0.941887\n",
      "[908]\tvalid_0's auc: 0.941886\n",
      "[909]\tvalid_0's auc: 0.941889\n",
      "[910]\tvalid_0's auc: 0.941887\n",
      "[911]\tvalid_0's auc: 0.941888\n",
      "[912]\tvalid_0's auc: 0.941884\n",
      "[913]\tvalid_0's auc: 0.941882\n",
      "[914]\tvalid_0's auc: 0.941881\n",
      "[915]\tvalid_0's auc: 0.941882\n",
      "[916]\tvalid_0's auc: 0.941887\n",
      "[917]\tvalid_0's auc: 0.941888\n",
      "[918]\tvalid_0's auc: 0.941894\n",
      "[919]\tvalid_0's auc: 0.941896\n",
      "[920]\tvalid_0's auc: 0.941892\n",
      "[921]\tvalid_0's auc: 0.941906\n",
      "[922]\tvalid_0's auc: 0.941903\n",
      "[923]\tvalid_0's auc: 0.941907\n",
      "[924]\tvalid_0's auc: 0.941908\n",
      "[925]\tvalid_0's auc: 0.941909\n",
      "[926]\tvalid_0's auc: 0.941912\n",
      "[927]\tvalid_0's auc: 0.941912\n",
      "[928]\tvalid_0's auc: 0.941919\n",
      "[929]\tvalid_0's auc: 0.94192\n",
      "[930]\tvalid_0's auc: 0.941921\n",
      "[931]\tvalid_0's auc: 0.94192\n",
      "[932]\tvalid_0's auc: 0.941919\n",
      "[933]\tvalid_0's auc: 0.941927\n",
      "[934]\tvalid_0's auc: 0.941934\n",
      "[935]\tvalid_0's auc: 0.941941\n",
      "[936]\tvalid_0's auc: 0.941947\n",
      "[937]\tvalid_0's auc: 0.941945\n",
      "[938]\tvalid_0's auc: 0.941946\n",
      "[939]\tvalid_0's auc: 0.941947\n",
      "[940]\tvalid_0's auc: 0.941944\n",
      "[941]\tvalid_0's auc: 0.941948\n",
      "[942]\tvalid_0's auc: 0.94195\n",
      "[943]\tvalid_0's auc: 0.941955\n",
      "[944]\tvalid_0's auc: 0.941956\n",
      "[945]\tvalid_0's auc: 0.941957\n",
      "[946]\tvalid_0's auc: 0.941957\n",
      "[947]\tvalid_0's auc: 0.941957\n",
      "[948]\tvalid_0's auc: 0.941954\n",
      "[949]\tvalid_0's auc: 0.941961\n",
      "[950]\tvalid_0's auc: 0.941956\n",
      "[951]\tvalid_0's auc: 0.941956\n",
      "[952]\tvalid_0's auc: 0.941951\n",
      "[953]\tvalid_0's auc: 0.941959\n",
      "[954]\tvalid_0's auc: 0.941966\n",
      "[955]\tvalid_0's auc: 0.941965\n",
      "[956]\tvalid_0's auc: 0.941962\n",
      "[957]\tvalid_0's auc: 0.941969\n",
      "[958]\tvalid_0's auc: 0.941964\n",
      "[959]\tvalid_0's auc: 0.941968\n",
      "[960]\tvalid_0's auc: 0.941965\n",
      "[961]\tvalid_0's auc: 0.941966\n",
      "[962]\tvalid_0's auc: 0.941976\n",
      "[963]\tvalid_0's auc: 0.941975\n",
      "[964]\tvalid_0's auc: 0.941976\n",
      "[965]\tvalid_0's auc: 0.94198\n",
      "[966]\tvalid_0's auc: 0.941981\n",
      "[967]\tvalid_0's auc: 0.941976\n",
      "[968]\tvalid_0's auc: 0.941975\n",
      "[969]\tvalid_0's auc: 0.941981\n",
      "[970]\tvalid_0's auc: 0.941986\n",
      "[971]\tvalid_0's auc: 0.941989\n",
      "[972]\tvalid_0's auc: 0.94199\n",
      "[973]\tvalid_0's auc: 0.941982\n",
      "[974]\tvalid_0's auc: 0.941977\n",
      "[975]\tvalid_0's auc: 0.94198\n",
      "[976]\tvalid_0's auc: 0.941977\n",
      "[977]\tvalid_0's auc: 0.941975\n",
      "[978]\tvalid_0's auc: 0.941971\n",
      "[979]\tvalid_0's auc: 0.941967\n",
      "[980]\tvalid_0's auc: 0.941969\n",
      "[981]\tvalid_0's auc: 0.94197\n",
      "[982]\tvalid_0's auc: 0.94197\n",
      "[983]\tvalid_0's auc: 0.941973\n",
      "[984]\tvalid_0's auc: 0.941989\n",
      "[985]\tvalid_0's auc: 0.942005\n",
      "[986]\tvalid_0's auc: 0.94201\n",
      "[987]\tvalid_0's auc: 0.942007\n",
      "[988]\tvalid_0's auc: 0.942006\n",
      "[989]\tvalid_0's auc: 0.942015\n",
      "[990]\tvalid_0's auc: 0.942011\n",
      "[991]\tvalid_0's auc: 0.942017\n",
      "[992]\tvalid_0's auc: 0.942016\n",
      "[993]\tvalid_0's auc: 0.942015\n",
      "[994]\tvalid_0's auc: 0.942013\n",
      "[995]\tvalid_0's auc: 0.942009\n",
      "[996]\tvalid_0's auc: 0.942012\n",
      "[997]\tvalid_0's auc: 0.942012\n",
      "[998]\tvalid_0's auc: 0.942012\n",
      "[999]\tvalid_0's auc: 0.942012\n",
      "[1000]\tvalid_0's auc: 0.942017\n",
      "[1001]\tvalid_0's auc: 0.942011\n",
      "[1002]\tvalid_0's auc: 0.942011\n",
      "[1003]\tvalid_0's auc: 0.942006\n",
      "[1004]\tvalid_0's auc: 0.941999\n",
      "[1005]\tvalid_0's auc: 0.942002\n",
      "[1006]\tvalid_0's auc: 0.942\n",
      "[1007]\tvalid_0's auc: 0.941997\n",
      "[1008]\tvalid_0's auc: 0.941994\n",
      "[1009]\tvalid_0's auc: 0.941991\n",
      "[1010]\tvalid_0's auc: 0.941993\n",
      "[1011]\tvalid_0's auc: 0.941988\n",
      "[1012]\tvalid_0's auc: 0.941985\n",
      "[1013]\tvalid_0's auc: 0.941989\n",
      "[1014]\tvalid_0's auc: 0.94199\n",
      "[1015]\tvalid_0's auc: 0.941982\n",
      "[1016]\tvalid_0's auc: 0.941977\n",
      "[1017]\tvalid_0's auc: 0.941976\n",
      "[1018]\tvalid_0's auc: 0.941973\n",
      "[1019]\tvalid_0's auc: 0.941973\n",
      "[1020]\tvalid_0's auc: 0.941969\n",
      "[1021]\tvalid_0's auc: 0.941968\n",
      "[1022]\tvalid_0's auc: 0.941973\n",
      "[1023]\tvalid_0's auc: 0.941977\n",
      "[1024]\tvalid_0's auc: 0.941977\n",
      "[1025]\tvalid_0's auc: 0.941981\n",
      "[1026]\tvalid_0's auc: 0.94199\n",
      "[1027]\tvalid_0's auc: 0.94199\n",
      "[1028]\tvalid_0's auc: 0.941984\n",
      "[1029]\tvalid_0's auc: 0.941979\n",
      "[1030]\tvalid_0's auc: 0.941978\n",
      "[1031]\tvalid_0's auc: 0.941975\n",
      "[1032]\tvalid_0's auc: 0.941978\n",
      "[1033]\tvalid_0's auc: 0.941977\n",
      "[1034]\tvalid_0's auc: 0.941978\n",
      "[1035]\tvalid_0's auc: 0.941982\n",
      "[1036]\tvalid_0's auc: 0.941989\n",
      "[1037]\tvalid_0's auc: 0.941992\n",
      "[1038]\tvalid_0's auc: 0.941991\n",
      "[1039]\tvalid_0's auc: 0.941992\n",
      "[1040]\tvalid_0's auc: 0.94199\n",
      "[1041]\tvalid_0's auc: 0.941993\n",
      "[1042]\tvalid_0's auc: 0.941997\n",
      "[1043]\tvalid_0's auc: 0.942004\n",
      "[1044]\tvalid_0's auc: 0.942009\n",
      "[1045]\tvalid_0's auc: 0.94201\n",
      "[1046]\tvalid_0's auc: 0.942008\n",
      "[1047]\tvalid_0's auc: 0.942014\n",
      "[1048]\tvalid_0's auc: 0.942021\n",
      "[1049]\tvalid_0's auc: 0.942019\n",
      "[1050]\tvalid_0's auc: 0.942027\n",
      "[1051]\tvalid_0's auc: 0.942032\n",
      "[1052]\tvalid_0's auc: 0.942034\n",
      "[1053]\tvalid_0's auc: 0.942032\n",
      "[1054]\tvalid_0's auc: 0.942033\n",
      "[1055]\tvalid_0's auc: 0.942039\n",
      "[1056]\tvalid_0's auc: 0.942034\n",
      "[1057]\tvalid_0's auc: 0.942038\n",
      "[1058]\tvalid_0's auc: 0.942034\n",
      "[1059]\tvalid_0's auc: 0.942046\n",
      "[1060]\tvalid_0's auc: 0.942049\n",
      "[1061]\tvalid_0's auc: 0.942052\n",
      "[1062]\tvalid_0's auc: 0.942048\n",
      "[1063]\tvalid_0's auc: 0.942048\n",
      "[1064]\tvalid_0's auc: 0.942047\n",
      "[1065]\tvalid_0's auc: 0.94205\n",
      "[1066]\tvalid_0's auc: 0.942047\n",
      "[1067]\tvalid_0's auc: 0.942048\n",
      "[1068]\tvalid_0's auc: 0.942043\n",
      "[1069]\tvalid_0's auc: 0.942036\n",
      "[1070]\tvalid_0's auc: 0.942036\n",
      "[1071]\tvalid_0's auc: 0.942037\n",
      "[1072]\tvalid_0's auc: 0.942032\n",
      "[1073]\tvalid_0's auc: 0.942036\n",
      "[1074]\tvalid_0's auc: 0.942036\n",
      "[1075]\tvalid_0's auc: 0.942044\n",
      "[1076]\tvalid_0's auc: 0.942039\n",
      "[1077]\tvalid_0's auc: 0.942041\n",
      "[1078]\tvalid_0's auc: 0.942034\n",
      "[1079]\tvalid_0's auc: 0.942034\n",
      "[1080]\tvalid_0's auc: 0.942031\n",
      "[1081]\tvalid_0's auc: 0.942044\n",
      "[1082]\tvalid_0's auc: 0.94207\n",
      "[1083]\tvalid_0's auc: 0.942075\n",
      "[1084]\tvalid_0's auc: 0.942071\n",
      "[1085]\tvalid_0's auc: 0.942085\n",
      "[1086]\tvalid_0's auc: 0.942093\n",
      "[1087]\tvalid_0's auc: 0.942094\n",
      "[1088]\tvalid_0's auc: 0.942093\n",
      "[1089]\tvalid_0's auc: 0.942096\n",
      "[1090]\tvalid_0's auc: 0.942097\n",
      "[1091]\tvalid_0's auc: 0.942094\n",
      "[1092]\tvalid_0's auc: 0.94209\n",
      "[1093]\tvalid_0's auc: 0.942085\n",
      "[1094]\tvalid_0's auc: 0.942086\n",
      "[1095]\tvalid_0's auc: 0.942077\n",
      "[1096]\tvalid_0's auc: 0.942087\n",
      "[1097]\tvalid_0's auc: 0.942085\n",
      "[1098]\tvalid_0's auc: 0.94209\n",
      "[1099]\tvalid_0's auc: 0.942086\n",
      "[1100]\tvalid_0's auc: 0.942085\n",
      "[1101]\tvalid_0's auc: 0.942085\n",
      "[1102]\tvalid_0's auc: 0.942093\n",
      "[1103]\tvalid_0's auc: 0.942093\n",
      "[1104]\tvalid_0's auc: 0.942097\n",
      "[1105]\tvalid_0's auc: 0.942109\n",
      "[1106]\tvalid_0's auc: 0.942107\n",
      "[1107]\tvalid_0's auc: 0.942105\n",
      "[1108]\tvalid_0's auc: 0.942103\n",
      "[1109]\tvalid_0's auc: 0.942099\n",
      "[1110]\tvalid_0's auc: 0.9421\n",
      "[1111]\tvalid_0's auc: 0.942102\n",
      "[1112]\tvalid_0's auc: 0.942109\n",
      "[1113]\tvalid_0's auc: 0.942116\n",
      "[1114]\tvalid_0's auc: 0.942106\n",
      "[1115]\tvalid_0's auc: 0.942105\n",
      "[1116]\tvalid_0's auc: 0.942098\n",
      "[1117]\tvalid_0's auc: 0.9421\n",
      "[1118]\tvalid_0's auc: 0.942097\n",
      "[1119]\tvalid_0's auc: 0.942097\n",
      "[1120]\tvalid_0's auc: 0.942094\n",
      "[1121]\tvalid_0's auc: 0.942099\n",
      "[1122]\tvalid_0's auc: 0.942102\n",
      "[1123]\tvalid_0's auc: 0.942105\n",
      "[1124]\tvalid_0's auc: 0.942099\n",
      "[1125]\tvalid_0's auc: 0.942093\n",
      "[1126]\tvalid_0's auc: 0.942101\n",
      "[1127]\tvalid_0's auc: 0.942093\n",
      "[1128]\tvalid_0's auc: 0.942095\n",
      "[1129]\tvalid_0's auc: 0.942097\n",
      "[1130]\tvalid_0's auc: 0.942099\n",
      "[1131]\tvalid_0's auc: 0.942104\n",
      "[1132]\tvalid_0's auc: 0.94211\n",
      "[1133]\tvalid_0's auc: 0.942116\n",
      "[1134]\tvalid_0's auc: 0.942115\n",
      "[1135]\tvalid_0's auc: 0.942114\n",
      "[1136]\tvalid_0's auc: 0.942118\n",
      "[1137]\tvalid_0's auc: 0.942123\n",
      "[1138]\tvalid_0's auc: 0.942126\n",
      "[1139]\tvalid_0's auc: 0.942128\n",
      "[1140]\tvalid_0's auc: 0.942128\n",
      "[1141]\tvalid_0's auc: 0.942129\n",
      "[1142]\tvalid_0's auc: 0.942136\n",
      "[1143]\tvalid_0's auc: 0.942137\n",
      "[1144]\tvalid_0's auc: 0.942139\n",
      "[1145]\tvalid_0's auc: 0.94214\n",
      "[1146]\tvalid_0's auc: 0.942145\n",
      "[1147]\tvalid_0's auc: 0.942144\n",
      "[1148]\tvalid_0's auc: 0.942145\n",
      "[1149]\tvalid_0's auc: 0.942145\n",
      "[1150]\tvalid_0's auc: 0.942145\n",
      "[1151]\tvalid_0's auc: 0.942142\n",
      "[1152]\tvalid_0's auc: 0.942145\n",
      "[1153]\tvalid_0's auc: 0.942149\n",
      "[1154]\tvalid_0's auc: 0.942154\n",
      "[1155]\tvalid_0's auc: 0.942155\n",
      "[1156]\tvalid_0's auc: 0.942156\n",
      "[1157]\tvalid_0's auc: 0.942156\n",
      "[1158]\tvalid_0's auc: 0.942159\n",
      "[1159]\tvalid_0's auc: 0.942161\n",
      "[1160]\tvalid_0's auc: 0.942161\n",
      "[1161]\tvalid_0's auc: 0.94216\n",
      "[1162]\tvalid_0's auc: 0.942168\n",
      "[1163]\tvalid_0's auc: 0.942169\n",
      "[1164]\tvalid_0's auc: 0.94217\n",
      "[1165]\tvalid_0's auc: 0.942172\n",
      "[1166]\tvalid_0's auc: 0.942173\n",
      "[1167]\tvalid_0's auc: 0.942176\n",
      "[1168]\tvalid_0's auc: 0.942173\n",
      "[1169]\tvalid_0's auc: 0.942173\n",
      "[1170]\tvalid_0's auc: 0.942173\n",
      "[1171]\tvalid_0's auc: 0.942177\n",
      "[1172]\tvalid_0's auc: 0.942181\n",
      "[1173]\tvalid_0's auc: 0.942183\n",
      "[1174]\tvalid_0's auc: 0.942182\n",
      "[1175]\tvalid_0's auc: 0.942179\n",
      "[1176]\tvalid_0's auc: 0.942182\n",
      "[1177]\tvalid_0's auc: 0.942173\n",
      "[1178]\tvalid_0's auc: 0.942173\n",
      "[1179]\tvalid_0's auc: 0.942172\n",
      "[1180]\tvalid_0's auc: 0.942171\n",
      "[1181]\tvalid_0's auc: 0.942172\n",
      "[1182]\tvalid_0's auc: 0.942174\n",
      "[1183]\tvalid_0's auc: 0.942178\n",
      "[1184]\tvalid_0's auc: 0.942182\n",
      "[1185]\tvalid_0's auc: 0.942183\n",
      "[1186]\tvalid_0's auc: 0.942183\n",
      "[1187]\tvalid_0's auc: 0.942184\n",
      "[1188]\tvalid_0's auc: 0.94219\n",
      "[1189]\tvalid_0's auc: 0.942194\n",
      "[1190]\tvalid_0's auc: 0.942195\n",
      "[1191]\tvalid_0's auc: 0.942202\n",
      "[1192]\tvalid_0's auc: 0.94221\n",
      "[1193]\tvalid_0's auc: 0.942216\n",
      "[1194]\tvalid_0's auc: 0.942223\n",
      "[1195]\tvalid_0's auc: 0.942225\n",
      "[1196]\tvalid_0's auc: 0.942231\n",
      "[1197]\tvalid_0's auc: 0.942227\n",
      "[1198]\tvalid_0's auc: 0.942228\n",
      "[1199]\tvalid_0's auc: 0.942234\n",
      "[1200]\tvalid_0's auc: 0.942227\n",
      "[1201]\tvalid_0's auc: 0.942228\n",
      "[1202]\tvalid_0's auc: 0.942228\n",
      "[1203]\tvalid_0's auc: 0.942232\n",
      "[1204]\tvalid_0's auc: 0.942232\n",
      "[1205]\tvalid_0's auc: 0.94223\n",
      "[1206]\tvalid_0's auc: 0.942228\n",
      "[1207]\tvalid_0's auc: 0.942224\n",
      "[1208]\tvalid_0's auc: 0.942231\n",
      "[1209]\tvalid_0's auc: 0.942226\n",
      "[1210]\tvalid_0's auc: 0.942223\n",
      "[1211]\tvalid_0's auc: 0.942219\n",
      "[1212]\tvalid_0's auc: 0.942219\n",
      "[1213]\tvalid_0's auc: 0.942217\n",
      "[1214]\tvalid_0's auc: 0.942218\n",
      "[1215]\tvalid_0's auc: 0.942217\n",
      "[1216]\tvalid_0's auc: 0.942219\n",
      "[1217]\tvalid_0's auc: 0.942213\n",
      "[1218]\tvalid_0's auc: 0.94221\n",
      "[1219]\tvalid_0's auc: 0.94221\n",
      "[1220]\tvalid_0's auc: 0.942209\n",
      "[1221]\tvalid_0's auc: 0.942221\n",
      "[1222]\tvalid_0's auc: 0.942226\n",
      "[1223]\tvalid_0's auc: 0.942224\n",
      "[1224]\tvalid_0's auc: 0.942222\n",
      "[1225]\tvalid_0's auc: 0.942216\n",
      "[1226]\tvalid_0's auc: 0.942207\n",
      "[1227]\tvalid_0's auc: 0.942211\n",
      "[1228]\tvalid_0's auc: 0.942204\n",
      "[1229]\tvalid_0's auc: 0.942198\n",
      "[1230]\tvalid_0's auc: 0.942202\n",
      "[1231]\tvalid_0's auc: 0.94221\n",
      "[1232]\tvalid_0's auc: 0.94221\n",
      "[1233]\tvalid_0's auc: 0.942211\n",
      "[1234]\tvalid_0's auc: 0.942209\n",
      "[1235]\tvalid_0's auc: 0.942206\n",
      "[1236]\tvalid_0's auc: 0.942209\n",
      "[1237]\tvalid_0's auc: 0.942204\n",
      "[1238]\tvalid_0's auc: 0.942205\n",
      "[1239]\tvalid_0's auc: 0.942197\n",
      "[1240]\tvalid_0's auc: 0.942197\n",
      "[1241]\tvalid_0's auc: 0.942194\n",
      "[1242]\tvalid_0's auc: 0.942192\n",
      "[1243]\tvalid_0's auc: 0.942182\n",
      "[1244]\tvalid_0's auc: 0.942177\n",
      "[1245]\tvalid_0's auc: 0.942175\n",
      "[1246]\tvalid_0's auc: 0.942166\n",
      "[1247]\tvalid_0's auc: 0.942166\n",
      "[1248]\tvalid_0's auc: 0.942171\n",
      "[1249]\tvalid_0's auc: 0.942166\n",
      "[1250]\tvalid_0's auc: 0.942163\n",
      "[1251]\tvalid_0's auc: 0.94215\n",
      "[1252]\tvalid_0's auc: 0.942136\n",
      "[1253]\tvalid_0's auc: 0.942131\n",
      "[1254]\tvalid_0's auc: 0.942133\n",
      "[1255]\tvalid_0's auc: 0.942129\n",
      "[1256]\tvalid_0's auc: 0.942113\n",
      "[1257]\tvalid_0's auc: 0.942108\n",
      "[1258]\tvalid_0's auc: 0.9421\n",
      "[1259]\tvalid_0's auc: 0.942089\n",
      "[1260]\tvalid_0's auc: 0.942074\n",
      "[1261]\tvalid_0's auc: 0.942071\n",
      "[1262]\tvalid_0's auc: 0.942069\n",
      "[1263]\tvalid_0's auc: 0.942074\n",
      "[1264]\tvalid_0's auc: 0.942073\n",
      "[1265]\tvalid_0's auc: 0.942076\n",
      "[1266]\tvalid_0's auc: 0.942083\n",
      "[1267]\tvalid_0's auc: 0.94208\n",
      "[1268]\tvalid_0's auc: 0.942072\n",
      "[1269]\tvalid_0's auc: 0.942073\n",
      "[1270]\tvalid_0's auc: 0.942069\n",
      "[1271]\tvalid_0's auc: 0.942065\n",
      "[1272]\tvalid_0's auc: 0.942068\n",
      "[1273]\tvalid_0's auc: 0.942067\n",
      "[1274]\tvalid_0's auc: 0.942058\n",
      "[1275]\tvalid_0's auc: 0.942058\n",
      "[1276]\tvalid_0's auc: 0.942059\n",
      "[1277]\tvalid_0's auc: 0.942067\n",
      "[1278]\tvalid_0's auc: 0.942065\n",
      "[1279]\tvalid_0's auc: 0.942067\n",
      "[1280]\tvalid_0's auc: 0.942062\n",
      "[1281]\tvalid_0's auc: 0.942066\n",
      "[1282]\tvalid_0's auc: 0.942074\n",
      "[1283]\tvalid_0's auc: 0.942078\n",
      "[1284]\tvalid_0's auc: 0.942076\n",
      "[1285]\tvalid_0's auc: 0.942077\n",
      "[1286]\tvalid_0's auc: 0.94208\n",
      "[1287]\tvalid_0's auc: 0.942084\n",
      "[1288]\tvalid_0's auc: 0.942082\n",
      "[1289]\tvalid_0's auc: 0.942079\n",
      "[1290]\tvalid_0's auc: 0.942083\n",
      "[1291]\tvalid_0's auc: 0.942092\n",
      "[1292]\tvalid_0's auc: 0.942095\n",
      "[1293]\tvalid_0's auc: 0.942099\n",
      "[1294]\tvalid_0's auc: 0.942101\n",
      "[1295]\tvalid_0's auc: 0.94211\n",
      "[1296]\tvalid_0's auc: 0.942114\n",
      "[1297]\tvalid_0's auc: 0.942117\n",
      "[1298]\tvalid_0's auc: 0.942119\n",
      "[1299]\tvalid_0's auc: 0.942124\n",
      "Early stopping, best iteration is:\n",
      "[1199]\tvalid_0's auc: 0.942234\n"
     ]
    }
   ],
   "source": [
    "parameters = {\n",
    "    'application': 'binary',\n",
    "    'objective': 'binary',\n",
    "    'metric': 'auc',\n",
    "    #'is_unbalance': 'true',\n",
    "    'scale_pos_weight': 1.6,\n",
    "    'boosting': 'gbdt',\n",
    "    'num_leaves': 31,\n",
    "    'feature_fraction': 0.5,\n",
    "    'bagging_fraction': 0.5,\n",
    "    'bagging_freq': 20,\n",
    "    'learning_rate': 0.05,\n",
    "    'verbose': 0,\n",
    "    'max_depth': 3\n",
    "}\n",
    "\n",
    "\n",
    "\n",
    "\n",
    "data=X_train\n",
    "label=y_train\n",
    "#categorical_features=['citizenship','sex', 'full_parttime_employment_stat', 'year',                               \n",
    "#'education', 'enrolled_in_edu_inst_lastwk', 'live_1_year_ago', 'd_household_summary',                 \n",
    "#'occupation_code', 'industry_code', 'country_mother',  'member_of_labor_union',               \n",
    "#'major_industry_code', 'hispanic_origin', 'veterans_benefits', 'reason_for_unemployment',             \n",
    "#'tax_filer_status','country_self', 'country_father','marital_status','d_household_family_stat',             \n",
    "#'major_occupation_code','class_of_worker', 'race', 'fill_questionnaire_veteran_admin',\n",
    "#'business_or_self_employed','region_of_previous_residence','family_members_under_18',\n",
    "#'state_of_previous_residence','age_bin']\n",
    "\n",
    "train_data = lgb.Dataset(data, label=label)#, categorical_feature=categorical_features)\n",
    "test_data = lgb.Dataset(X_test, label=y_test)\n",
    "\n",
    "\n",
    "trained_model = lgb.train(parameters,\n",
    "                       train_data,\n",
    "                       valid_sets=test_data,\n",
    "                       num_boost_round=5000,\n",
    "                       early_stopping_rounds=100)"
   ]
  },
  {
   "cell_type": "code",
   "execution_count": 87,
   "metadata": {
    "collapsed": true,
    "deletable": true,
    "editable": true
   },
   "outputs": [],
   "source": [
    "y_prob_lgb=trained_model.predict(X_test)"
   ]
  },
  {
   "cell_type": "markdown",
   "metadata": {
    "deletable": true,
    "editable": true
   },
   "source": [
    "Let's take a look at the predictions:"
   ]
  },
  {
   "cell_type": "code",
   "execution_count": 88,
   "metadata": {
    "collapsed": true,
    "deletable": true,
    "editable": true
   },
   "outputs": [],
   "source": [
    "threshold=0.5\n",
    "y_pred_lgb=(y_prob_lgb>threshold)*1.0"
   ]
  },
  {
   "cell_type": "code",
   "execution_count": 95,
   "metadata": {
    "collapsed": false,
    "deletable": true,
    "editable": true
   },
   "outputs": [
    {
     "data": {
      "text/plain": [
       "<matplotlib.axes._subplots.AxesSubplot at 0x30fed1d0>"
      ]
     },
     "execution_count": 95,
     "metadata": {},
     "output_type": "execute_result"
    },
    {
     "data": {
      "text/plain": [
       "<matplotlib.text.Text at 0x307b42e8>"
      ]
     },
     "execution_count": 95,
     "metadata": {},
     "output_type": "execute_result"
    },
    {
     "data": {
      "text/plain": [
       "<matplotlib.text.Text at 0x30fed978>"
      ]
     },
     "execution_count": 95,
     "metadata": {},
     "output_type": "execute_result"
    },
    {
     "data": {
      "image/png": "[encoded data removed]",
      "text/plain": [
       "<matplotlib.figure.Figure at 0x310a2080>"
      ]
     },
     "metadata": {},
     "output_type": "display_data"
    },
    {
     "name": "stdout",
     "output_type": "stream",
     "text": [
      "test accuracy score: 0.9493394278382551\n",
      "test auc score: 0.7335586163794559\n",
      "test F1 score: 0.5439451362569934\n",
      "test Precision: 0.6156045751633987\n",
      "test Recall: 0.48722922728742324\n"
     ]
    }
   ],
   "source": [
    "sns.heatmap(confusion_matrix(y_test, y_pred_lgb), annot=True, fmt=\"d\");\n",
    "plt.ylabel('True class')\n",
    "plt.xlabel('Predicted class')\n",
    "plt.show()\n",
    "#confusion_matrix(y_test, y_pred_f_ups)\n",
    "\n",
    "print \"test accuracy score: \" + str(accuracy_score(y_test, y_pred_lgb))\n",
    "print \"test auc score: \" + str(roc_auc_score(y_test, y_pred_lgb))\n",
    "print \"test F1 score: \" + str(f1_score(y_test, y_pred_lgb))\n",
    "print \"test Precision: \" + str(precision_score(y_test, y_pred_lgb))\n",
    "print \"test Recall: \" + str(recall_score(y_test, y_pred_lgb))"
   ]
  },
  {
   "cell_type": "markdown",
   "metadata": {
    "deletable": true,
    "editable": true
   },
   "source": [
    "Without optimizing the threshold we are getting a F1 score of 0.5439. Now we will find the best threshold:"
   ]
  },
  {
   "cell_type": "code",
   "execution_count": 90,
   "metadata": {
    "collapsed": false,
    "deletable": true,
    "editable": true
   },
   "outputs": [
    {
     "name": "stdout",
     "output_type": "stream",
     "text": [
      "Threshold for max. F1 score: 0.4\n"
     ]
    },
    {
     "data": {
      "image/png": "[encoded data removed]",
      "text/plain": [
       "<matplotlib.figure.Figure at 0x44ab0390>"
      ]
     },
     "metadata": {},
     "output_type": "display_data"
    }
   ],
   "source": [
    "f1_l=[]\n",
    "f1probs_l=[]\n",
    "\n",
    "for i in np.arange(0,1,0.01):\n",
    "    \n",
    "    y_pred_t_l=(y_prob_lgb>=i)*1\n",
    "    f1probs_l.append(i)\n",
    "    f1_l.append(f1_score(y_test, y_pred_t_l))\n",
    "    \n",
    "f1_probs_l=pd.DataFrame({'f1': array(f1_l),\n",
    "                        'probs': array(f1probs_l)})\n",
    "\n",
    "print 'Threshold for max. F1 score: ' +str(f1_probs_l[f1_probs_l.f1==f1_probs_l.f1.max()].probs.values[0])\n",
    "\n",
    "plt.figure();\n",
    "plt.plot(f1_probs_l.probs, f1_probs_l.f1);\n",
    "plt.xlabel('Threshold');\n",
    "plt.ylabel('F1 score');\n",
    "plt.title('F1 - Threshold');\n",
    "plt.show();"
   ]
  },
  {
   "cell_type": "markdown",
   "metadata": {
    "deletable": true,
    "editable": true
   },
   "source": [
    "A threshold of 0.4 maximizes the F1 score, so we will predict using that value:"
   ]
  },
  {
   "cell_type": "code",
   "execution_count": 91,
   "metadata": {
    "collapsed": true,
    "deletable": true,
    "editable": true
   },
   "outputs": [],
   "source": [
    "threshold=0.4\n",
    "y_pred_lgb2=(y_prob_lgb>threshold)*1.0"
   ]
  },
  {
   "cell_type": "code",
   "execution_count": 94,
   "metadata": {
    "collapsed": false,
    "deletable": true,
    "editable": true
   },
   "outputs": [
    {
     "data": {
      "text/plain": [
       "<matplotlib.axes._subplots.AxesSubplot at 0x2de5dc88>"
      ]
     },
     "execution_count": 94,
     "metadata": {},
     "output_type": "execute_result"
    },
    {
     "data": {
      "text/plain": [
       "<matplotlib.text.Text at 0x30bffb70>"
      ]
     },
     "execution_count": 94,
     "metadata": {},
     "output_type": "execute_result"
    },
    {
     "data": {
      "text/plain": [
       "<matplotlib.text.Text at 0x30769438>"
      ]
     },
     "execution_count": 94,
     "metadata": {},
     "output_type": "execute_result"
    },
    {
     "data": {
      "image/png": "[encoded data removed]",
      "text/plain": [
       "<matplotlib.figure.Figure at 0x440699b0>"
      ]
     },
     "metadata": {},
     "output_type": "display_data"
    },
    {
     "name": "stdout",
     "output_type": "stream",
     "text": [
      "test accuracy score: 0.9440568553156512\n",
      "test auc score: 0.7752785341595294\n",
      "test F1 score: 0.5636093517866917\n",
      "test Precision: 0.5458125094653945\n",
      "test Recall: 0.5826058842547688\n"
     ]
    }
   ],
   "source": [
    "sns.heatmap(confusion_matrix(y_test, y_pred_lgb2), annot=True, fmt=\"d\");\n",
    "plt.ylabel('True class')\n",
    "plt.xlabel('Predicted class')\n",
    "plt.show()\n",
    "#confusion_matrix(y_test, y_pred_f_ups)\n",
    "\n",
    "print \"test accuracy score: \" + str(accuracy_score(y_test, y_pred_lgb2))\n",
    "print \"test auc score: \" + str(roc_auc_score(y_test, y_pred_lgb2))\n",
    "print \"test F1 score: \" + str(f1_score(y_test, y_pred_lgb2))\n",
    "print \"test Precision: \" + str(precision_score(y_test, y_pred_lgb2))\n",
    "print \"test Recall: \" + str(recall_score(y_test, y_pred_lgb2))"
   ]
  },
  {
   "cell_type": "markdown",
   "metadata": {
    "deletable": true,
    "editable": true
   },
   "source": [
    "We can see a F1 score of 0.5636, a slightly better result compared to the F1 score of 0.5612 obtained with XGBoost. Now let's check the ROC curve:"
   ]
  },
  {
   "cell_type": "code",
   "execution_count": 96,
   "metadata": {
    "collapsed": false,
    "deletable": true,
    "editable": true
   },
   "outputs": [
    {
     "name": "stdout",
     "output_type": "stream",
     "text": [
      "0.9422341898247596\n"
     ]
    },
    {
     "data": {
      "image/png": "[encoded data removed]",
      "text/plain": [
       "<matplotlib.figure.Figure at 0x310ac320>"
      ]
     },
     "metadata": {},
     "output_type": "display_data"
    }
   ],
   "source": [
    "fpr = dict()\n",
    "tpr = dict()\n",
    "roc_auc = dict()\n",
    "for i in range(2):\n",
    "    fpr[i], tpr[i], _ = roc_curve(y_test, y_prob_lgb)\n",
    "    roc_auc[i] = auc(fpr[i], tpr[i])\n",
    "\n",
    "print roc_auc_score(y_test, y_prob_lgb)\n",
    "plt.figure();\n",
    "plt.plot(fpr[1], tpr[1]);\n",
    "plt.xlim([0.0, 1.0]);\n",
    "plt.ylim([0.0, 1.05]);\n",
    "plt.plot([0,1],[0,1],'r--');\n",
    "plt.xlabel('False Positive Rate');\n",
    "plt.ylabel('True Positive Rate');\n",
    "plt.title('ROC curve');\n",
    "plt.show();"
   ]
  },
  {
   "cell_type": "markdown",
   "metadata": {
    "deletable": true,
    "editable": true
   },
   "source": [
    "Finally, let's see what are the most important features used by our classifier to classify the income class:"
   ]
  },
  {
   "cell_type": "code",
   "execution_count": 109,
   "metadata": {
    "collapsed": false,
    "deletable": true,
    "editable": true
   },
   "outputs": [
    {
     "data": {
      "image/png": "[encoded data removed]",
      "text/plain": [
       "<matplotlib.figure.Figure at 0x4e9bc0f0>"
      ]
     },
     "metadata": {},
     "output_type": "display_data"
    }
   ],
   "source": [
    "ax = lgb.plot_importance(trained_model, max_num_features=20)\n",
    "fig=ax.figure\n",
    "fig.set_size_inches(8, 8)"
   ]
  },
  {
   "cell_type": "markdown",
   "metadata": {
    "collapsed": true,
    "deletable": true,
    "editable": true
   },
   "source": [
    "# Conclusion"
   ]
  },
  {
   "cell_type": "markdown",
   "metadata": {
    "collapsed": true,
    "deletable": true,
    "editable": true
   },
   "source": [
    "If we consider as a benchmark Kohavi's paper: \"Scaling Up The Accuracy of Naive-Bayes Classifier: A Decission-Tree Hybrid\" (http://robotics.stanford.edu/~ronnyk/nbtree.pdf), where a Naive-Bayes and C4.5 classifiers were used on this dataset achieving an accuracy of 83.5% and 85.5% respectively, we could say that obtaining an accuracy of 94.4% using the LightGBM classifier is a good result."
   ]
  }
 ],
 "metadata": {
  "kernelspec": {
   "display_name": "Python 2",
   "language": "python",
   "name": "python2"
  },
  "language_info": {
   "codemirror_mode": {
    "name": "ipython",
    "version": 2
   },
   "file_extension": ".py",
   "mimetype": "text/x-python",
   "name": "python",
   "nbconvert_exporter": "python",
   "pygments_lexer": "ipython2",
   "version": "2.7.13"
  }
 },
 "nbformat": 4,
 "nbformat_minor": 2
}
